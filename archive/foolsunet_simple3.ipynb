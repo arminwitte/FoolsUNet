{
  "cells": [
    {
      "cell_type": "markdown",
      "metadata": {
        "id": "view-in-github",
        "colab_type": "text"
      },
      "source": [
        "<a href=\"https://colab.research.google.com/github/arminwitte/FoolsUNet/blob/main/foolsunet_simple3.ipynb\" target=\"_parent\"><img src=\"https://colab.research.google.com/assets/colab-badge.svg\" alt=\"Open In Colab\"/></a>"
      ]
    },
    {
      "cell_type": "code",
      "execution_count": 1,
      "metadata": {
        "colab": {
          "base_uri": "https://localhost:8080/"
        },
        "id": "gDxqzYV1Ayp1",
        "outputId": "0141f1eb-9ac2-455d-87f1-26dd4fbae8f7"
      },
      "outputs": [
        {
          "output_type": "stream",
          "name": "stdout",
          "text": [
            "fatal: destination path 'FoolsUNet' already exists and is not an empty directory.\n"
          ]
        }
      ],
      "source": [
        "!git clone https://github.com/arminwitte/FoolsUNet.git"
      ]
    },
    {
      "cell_type": "code",
      "execution_count": 2,
      "metadata": {
        "colab": {
          "base_uri": "https://localhost:8080/"
        },
        "id": "7_B2eWxvDaHx",
        "outputId": "51460f6f-a693-4cc9-965a-070b030d8fdd"
      },
      "outputs": [
        {
          "output_type": "stream",
          "name": "stdout",
          "text": [
            "2.15.0\n"
          ]
        }
      ],
      "source": [
        "import tensorflow as tf\n",
        "print(tf.__version__)"
      ]
    },
    {
      "cell_type": "code",
      "execution_count": 3,
      "metadata": {
        "id": "RCVBvZI9DEC5"
      },
      "outputs": [],
      "source": [
        "from tensorflow.keras import layers"
      ]
    },
    {
      "cell_type": "code",
      "execution_count": 4,
      "metadata": {
        "id": "2_p9iD6dC4S_"
      },
      "outputs": [],
      "source": [
        "class SqueezeExcite(layers.Layer):\n",
        "    \"\"\"\n",
        "    https://keras.io/examples/vision/patch_convnet/\n",
        "\n",
        "    Applies squeeze and excitation to input feature maps as seen in\n",
        "    https://arxiv.org/abs/1709.01507.\n",
        "\n",
        "    Args:\n",
        "        ratio: The ratio with which the feature map needs to be reduced in\n",
        "        the reduction phase.\n",
        "\n",
        "    Inputs:\n",
        "        Convolutional features.\n",
        "\n",
        "    Outputs:\n",
        "        Attention modified feature maps.\n",
        "    \"\"\"\n",
        "\n",
        "    def __init__(self, ratio, **kwargs):\n",
        "        super().__init__(**kwargs)\n",
        "        self.ratio = ratio\n",
        "\n",
        "    def get_config(self):\n",
        "        config = super().get_config()\n",
        "        config.update({\"ratio\": self.ratio})\n",
        "        return config\n",
        "\n",
        "    def build(self, input_shape):\n",
        "        filters = input_shape[-1]\n",
        "        self.squeeze = layers.GlobalAveragePooling2D(keepdims=True)\n",
        "        self.reduction = layers.Dense(\n",
        "            units=filters // self.ratio,\n",
        "            activation=\"relu\",\n",
        "            use_bias=False,\n",
        "        )\n",
        "        self.excite = layers.Dense(units=filters, activation=\"sigmoid\", use_bias=False)\n",
        "        self.multiply = layers.Multiply()\n",
        "\n",
        "    def call(self, x):\n",
        "        shortcut = x\n",
        "        x = self.squeeze(x)\n",
        "        x = self.reduction(x)\n",
        "        x = self.excite(x)\n",
        "        x = self.multiply([shortcut, x])\n",
        "        return x"
      ]
    },
    {
      "cell_type": "code",
      "execution_count": 5,
      "metadata": {
        "id": "i5720NRRENby"
      },
      "outputs": [],
      "source": [
        "\n",
        "class InverseResidualBlock(layers.Layer):\n",
        "    \"\"\"Implements an Inverse Residual Block like in MobileNetV2 and MobileNetV3\n",
        "\n",
        "    https://stackoverflow.com/a/61334159\n",
        "\n",
        "    Args:\n",
        "        features: Number of features.\n",
        "        expand_factor: factor by witch to expand number of layers\n",
        "        strides: Stride used in last convolution.\n",
        "        batch_norm: flag if Batch Normalisation should be used.\n",
        "\n",
        "    Inputs:\n",
        "        Convolutional features.\n",
        "\n",
        "    Outputs:\n",
        "        Modified feature maps.\n",
        "    \"\"\"\n",
        "\n",
        "    def __init__(self, features=16, expand_factor=4, strides=1, batch_norm=True, **kwargs):\n",
        "        super().__init__(**kwargs)\n",
        "        self.features = features\n",
        "        self.expand_factor = expand_factor\n",
        "        self.strides = strides\n",
        "        self.batch_norm = batch_norm\n",
        "\n",
        "    def get_config(self):\n",
        "        config = super().get_config()\n",
        "        config.update({\"features\": self.features,\n",
        "                       \"expand_factor\": self.expand_factor,\n",
        "                       \"strides\": self.strides,\n",
        "                       \"batch_norm\": self.batch_norm, })\n",
        "        return config\n",
        "\n",
        "    def build(self, input_shape):\n",
        "        self.conv1 = layers.Conv2D(self.features*self.expand_factor, (1,1), strides=1)\n",
        "        if self.batch_norm:\n",
        "            self.bn1 = layers.BatchNormalization()\n",
        "        self.activation1 = layers.Activation('relu6')\n",
        "        self.dwise = layers.DepthwiseConv2D(3, padding='same', strides=self.strides)\n",
        "        if self.batch_norm:\n",
        "            self.bn2 = layers.BatchNormalization()\n",
        "        self.activation2 = layers.Activation('relu6')\n",
        "        self.squeeze_excite = SqueezeExcite(ratio=4)\n",
        "        self.conv2 = layers.Conv2D(self.features, (1,1), strides=1, padding='same')\n",
        "        if self.batch_norm:\n",
        "            self.bn3 = layers.BatchNormalization()\n",
        "\n",
        "    def call(self, x):\n",
        "        shortcut = x\n",
        "        x = self.conv1(x)\n",
        "        if self.batch_norm:\n",
        "            x = self.bn1(x)\n",
        "        x = self.activation1(x)\n",
        "        x = self.dwise(x)\n",
        "        if self.batch_norm:\n",
        "            x = self.bn2(x)\n",
        "        x = self.activation2(x)\n",
        "        x = self.squeeze_excite(x)\n",
        "        x = self.conv2(x)\n",
        "        if self.batch_norm:\n",
        "            x = self.bn3(x)\n",
        "        if (\n",
        "            # stride check enforces that we don't add residuals when spatial\n",
        "            # dimensions are None\n",
        "            self.strides == 1 and\n",
        "            # Depth matches\n",
        "             x.get_shape().as_list()[3] == shortcut.get_shape().as_list()[3]\n",
        "        ):\n",
        "            x = tf.keras.layers.Add()([x, shortcut])\n",
        "\n",
        "        return x"
      ]
    },
    {
      "cell_type": "code",
      "execution_count": 6,
      "metadata": {
        "id": "cdHPJheGcXQS"
      },
      "outputs": [],
      "source": [
        "\n",
        "def mlp(x, hidden_units=[2048, 1024], dropout_rate=0.1):\n",
        "    for units in hidden_units:\n",
        "        x = layers.Dense(units, activation=tf.keras.activations.gelu)(x)\n",
        "        x = layers.Dropout(dropout_rate)(x)\n",
        "    return x\n",
        "\n",
        "class MLP(layers.Layer):\n",
        "    def __init__(self,hidden_units=[128,64],dropout_rate=0.1,**kwargs):\n",
        "        super().__init__(**kwargs)\n",
        "        self.hidden_units = []\n",
        "        for units in hidden_units:\n",
        "            self.hidden_units.append(layers.Dense(units, activation=tf.keras.activations.gelu))\n",
        "        self.dropout = layers.Dropout(dropout_rate)\n",
        "    def get_config(self):\n",
        "        config = super().get_config()\n",
        "        return config\n",
        "\n",
        "\n",
        "    def call(self,x):\n",
        "        for units in self.hidden_units:\n",
        "            x = units(x)\n",
        "        x = self.dropout(x)\n",
        "        return x\n",
        "\n",
        "\n",
        "class Patches(layers.Layer):\n",
        "    def __init__(self, patch_size):\n",
        "        super().__init__()\n",
        "        self.patch_size = patch_size\n",
        "\n",
        "    def call(self, images):\n",
        "        input_shape = ops.shape(images)\n",
        "        batch_size = input_shape[0]\n",
        "        height = input_shape[1]\n",
        "        width = input_shape[2]\n",
        "        channels = input_shape[3]\n",
        "        num_patches_h = height // self.patch_size\n",
        "        num_patches_w = width // self.patch_size\n",
        "        patches = keras.ops.image.extract_patches(images, size=self.patch_size)\n",
        "        patches = ops.reshape(\n",
        "            patches,\n",
        "            (\n",
        "                batch_size,\n",
        "                num_patches_h * num_patches_w,\n",
        "                self.patch_size * self.patch_size * channels,\n",
        "            ),\n",
        "        )\n",
        "        return patches\n",
        "\n",
        "    def get_config(self):\n",
        "        config = super().get_config()\n",
        "        config.update({\"patch_size\": self.patch_size})\n",
        "        return config\n",
        "\n",
        "class PatchEncoder(layers.Layer):\n",
        "    def __init__(self, num_patches, projection_dim):\n",
        "        super().__init__()\n",
        "        self.num_patches = num_patches\n",
        "        self.projection = layers.Dense(units=projection_dim)\n",
        "        self.position_embedding = layers.Embedding(\n",
        "            input_dim=num_patches, output_dim=projection_dim\n",
        "        )\n",
        "\n",
        "    def call(self, patch):\n",
        "        positions = tf.experimental.numpy.expand_dims(\n",
        "            tf.experimental.numpy.arange(start=0, stop=self.num_patches, step=1), axis=0\n",
        "        )\n",
        "        projected_patches = self.projection(patch)\n",
        "        encoded = projected_patches + self.position_embedding(positions)\n",
        "        return encoded\n",
        "\n",
        "    def get_config(self):\n",
        "        config = super().get_config()\n",
        "        config.update({\"num_patches\": self.num_patches})\n",
        "        return config\n",
        "\n",
        "class PatchAndEncode(layers.Layer):\n",
        "    \"\"\"https://blog.gopenai.com/understanding-vision-transformers-vit-with-tensorflow-and-keras-a-cifar-100-experiment-b820e08473f8\"\"\"\n",
        "    def __init__(self, num_patches=64, patch_size=4, projection_dim=64):\n",
        "        super().__init__()\n",
        "        self.num_patches = num_patches\n",
        "        self.patch_size = patch_size\n",
        "        self.projection_dim = projection_dim\n",
        "\n",
        "    def build(self, input_shape):\n",
        "        # patching the input image into patches\n",
        "        self.patching = layers.Conv2D(self.projection_dim, kernel_size=self.patch_size, strides=self.patch_size)\n",
        "        self.reshape = layers.Reshape((self.num_patches, self.projection_dim), name='pacthes')\n",
        "\n",
        "        # Learnable positional embeddings\n",
        "        self.lambda0 = layers.Lambda(lambda x: tf.expand_dims(tf.range(self.num_patches), axis=0))\n",
        "        self.embedding = layers.Embedding(input_dim=self.num_patches, output_dim=self.projection_dim)\n",
        "\n",
        "        # Add positional embeddings to patches\n",
        "        self.add = layers.Add()\n",
        "\n",
        "\n",
        "    def call(self, x):\n",
        "        # patching the input image into patches\n",
        "        patching = self.patching(x)\n",
        "        patches = self.reshape(patching)\n",
        "\n",
        "        # Learnable positional embeddings\n",
        "        lmbd = self.lambda0(patches)\n",
        "        position_embeddings = self.embedding(lmbd)\n",
        "\n",
        "        # Add positional embeddings to patches\n",
        "        patches = self.add([patches,position_embeddings])\n",
        "        return patches\n",
        "\n",
        "\n",
        "    def get_config(self):\n",
        "        config = super().get_config()\n",
        "        config.update({\"num_patches\": self.num_patches})\n",
        "        return config"
      ]
    },
    {
      "cell_type": "code",
      "execution_count": 7,
      "metadata": {
        "id": "_XgcfnzTxtj-"
      },
      "outputs": [],
      "source": [
        "class MakeShape(layers.Layer):\n",
        "    def __init__(self, shape, **kwargs):\n",
        "        super().__init__(**kwargs)\n",
        "        self.shape = shape\n",
        "    def build(self, input_shape):\n",
        "        s = self.shape\n",
        "        self.dense = layers.Dense(s[1]*s[2]*s[3]//input_shape[1])\n",
        "        self.reshape = layers.Reshape(s[1:])\n",
        "\n",
        "    def call(self, x):\n",
        "        x = self.dense(x)\n",
        "        x = self.reshape(x)\n",
        "        return x\n",
        "\n",
        "    def get_config(self):\n",
        "        config = super().get_config()\n",
        "        config.update({\"num_patches\": self.num_patches})\n",
        "        return config"
      ]
    },
    {
      "cell_type": "code",
      "execution_count": 8,
      "metadata": {
        "id": "ZdyU3U9Yfujb"
      },
      "outputs": [],
      "source": [
        "class TransformerBlock(layers.Layer):\n",
        "    def __init__(self, num_heads=4, projection_dim=64, **kwargs):\n",
        "        super().__init__(**kwargs)\n",
        "        self.num_heads = num_heads\n",
        "        self.projection_dim = projection_dim\n",
        "\n",
        "    def get_config(self):\n",
        "        config = super().get_config()\n",
        "        config.update({\"num_heads\"})\n",
        "\n",
        "    def build(self, input_shape):\n",
        "        # Layer normalization 1.\n",
        "        self.norm1 = layers.LayerNormalization(epsilon=1e-6)\n",
        "        # Create a multi-head attention layer.\n",
        "        self.attention = layers.MultiHeadAttention(\n",
        "            num_heads=self.num_heads, key_dim=self.projection_dim, dropout=0.1\n",
        "        )\n",
        "        # Skip connection 1.\n",
        "        self.add1 = layers.Add()\n",
        "        # Layer normalization 2.\n",
        "        self.norm2 = layers.LayerNormalization(epsilon=1e-6)\n",
        "        # MLP.\n",
        "        self.mlp = MLP(hidden_units=[self.projection_dim*2,self.projection_dim])\n",
        "        # Skip connection 2.\n",
        "        self.add2 = layers.Add()\n",
        "\n",
        "    def call(self, x):\n",
        "        # Layer normalization 1.\n",
        "        x1 = self.norm1(x)\n",
        "        # Create a multi-head attention layer.\n",
        "        attention_output = self.attention(x1, x1)\n",
        "        # Skip connection 1.\n",
        "        x2 = self.add1([attention_output, x])\n",
        "        # Layer normalization 2.\n",
        "        x3 = self.norm2(x2)\n",
        "        # MLP.\n",
        "        x3 = self.mlp(x3)\n",
        "        # Skip connection 2.\n",
        "        encoded_patches = self.add2([x3, x2])\n",
        "        return encoded_patches"
      ]
    },
    {
      "cell_type": "markdown",
      "metadata": {
        "id": "EVQnqabeeDV8"
      },
      "source": [
        "## U-Net"
      ]
    },
    {
      "cell_type": "code",
      "execution_count": 9,
      "metadata": {
        "id": "BqhiCIWag5Nt"
      },
      "outputs": [],
      "source": [
        "def downsample(filters, size, apply_batchnorm=True):\n",
        "  initializer = tf.random_normal_initializer(0., 0.02)\n",
        "\n",
        "  result = tf.keras.Sequential()\n",
        "  result.add(\n",
        "      tf.keras.layers.Conv2D(filters, size, strides=2, padding='same',\n",
        "                             kernel_initializer=initializer, use_bias=False))\n",
        "\n",
        "  if apply_batchnorm:\n",
        "    result.add(tf.keras.layers.BatchNormalization())\n",
        "\n",
        "  result.add(tf.keras.layers.LeakyReLU())\n",
        "\n",
        "  return result\n",
        "\n",
        "def upsample(filters, size, apply_dropout=False):\n",
        "  initializer = tf.random_normal_initializer(0., 0.02)\n",
        "\n",
        "  result = tf.keras.Sequential()\n",
        "  result.add(\n",
        "    tf.keras.layers.Conv2DTranspose(filters, size, strides=2,\n",
        "                                    padding='same',\n",
        "                                    kernel_initializer=initializer,\n",
        "                                    use_bias=False))\n",
        "\n",
        "  result.add(tf.keras.layers.BatchNormalization())\n",
        "\n",
        "  if apply_dropout:\n",
        "      result.add(tf.keras.layers.Dropout(0.5))\n",
        "\n",
        "  result.add(tf.keras.layers.ReLU())\n",
        "\n",
        "  return result\n",
        "\n",
        "def Generator():\n",
        "  inputs = tf.keras.layers.Input(shape=[256, 256, 3])\n",
        "\n",
        "  down_stack = [\n",
        "    downsample(64, 4, apply_batchnorm=False),  # (batch_size, 128, 128, 64)\n",
        "    downsample(128, 4),  # (batch_size, 64, 64, 128)\n",
        "    downsample(256, 4),  # (batch_size, 32, 32, 256)\n",
        "    downsample(512, 4),  # (batch_size, 16, 16, 512)\n",
        "    downsample(512, 4),  # (batch_size, 8, 8, 512)\n",
        "    downsample(512, 4),  # (batch_size, 4, 4, 512)\n",
        "    downsample(512, 4),  # (batch_size, 2, 2, 512)\n",
        "    downsample(512, 4),  # (batch_size, 1, 1, 512)\n",
        "  ]\n",
        "\n",
        "  up_stack = [\n",
        "    upsample(512, 4, apply_dropout=True),  # (batch_size, 2, 2, 1024)\n",
        "    upsample(512, 4, apply_dropout=True),  # (batch_size, 4, 4, 1024)\n",
        "    upsample(512, 4, apply_dropout=True),  # (batch_size, 8, 8, 1024)\n",
        "    upsample(512, 4),  # (batch_size, 16, 16, 1024)\n",
        "    upsample(256, 4),  # (batch_size, 32, 32, 512)\n",
        "    upsample(128, 4),  # (batch_size, 64, 64, 256)\n",
        "    upsample(64, 4),  # (batch_size, 128, 128, 128)\n",
        "  ]\n",
        "\n",
        "  initializer = tf.random_normal_initializer(0., 0.02)\n",
        "  last = tf.keras.layers.Conv2DTranspose(3, 4,\n",
        "                                         strides=2,\n",
        "                                         padding='same',\n",
        "                                         kernel_initializer=initializer,\n",
        "                                         )  # (batch_size, 256, 256, 3)\n",
        "\n",
        "  x = inputs\n",
        "\n",
        "  # Downsampling through the model\n",
        "  skips = []\n",
        "  for down in down_stack:\n",
        "    x = down(x)\n",
        "    skips.append(x)\n",
        "\n",
        "  skips = reversed(skips[:-1])\n",
        "\n",
        "  # Upsampling and establishing the skip connections\n",
        "  for up, skip in zip(up_stack, skips):\n",
        "    x = up(x)\n",
        "    x = tf.keras.layers.Concatenate()([x, skip])\n",
        "\n",
        "  x = last(x)\n",
        "\n",
        "  return tf.keras.Model(inputs=inputs, outputs=x)"
      ]
    },
    {
      "cell_type": "code",
      "execution_count": 10,
      "metadata": {
        "colab": {
          "base_uri": "https://localhost:8080/"
        },
        "id": "tApwe3QT6XZx",
        "outputId": "6909078f-910b-41ce-b27f-a6c1dd96f18e"
      },
      "outputs": [
        {
          "output_type": "stream",
          "name": "stdout",
          "text": [
            "Model: \"model\"\n",
            "__________________________________________________________________________________________________\n",
            " Layer (type)                Output Shape                 Param #   Connected to                  \n",
            "==================================================================================================\n",
            " input_1 (InputLayer)        [(None, 256, 256, 3)]        0         []                            \n",
            "                                                                                                  \n",
            " sequential (Sequential)     (None, 128, 128, 64)         3072      ['input_1[0][0]']             \n",
            "                                                                                                  \n",
            " sequential_1 (Sequential)   (None, 64, 64, 128)          131584    ['sequential[0][0]']          \n",
            "                                                                                                  \n",
            " sequential_2 (Sequential)   (None, 32, 32, 256)          525312    ['sequential_1[0][0]']        \n",
            "                                                                                                  \n",
            " sequential_3 (Sequential)   (None, 16, 16, 512)          2099200   ['sequential_2[0][0]']        \n",
            "                                                                                                  \n",
            " sequential_4 (Sequential)   (None, 8, 8, 512)            4196352   ['sequential_3[0][0]']        \n",
            "                                                                                                  \n",
            " sequential_5 (Sequential)   (None, 4, 4, 512)            4196352   ['sequential_4[0][0]']        \n",
            "                                                                                                  \n",
            " sequential_6 (Sequential)   (None, 2, 2, 512)            4196352   ['sequential_5[0][0]']        \n",
            "                                                                                                  \n",
            " sequential_7 (Sequential)   (None, 1, 1, 512)            4196352   ['sequential_6[0][0]']        \n",
            "                                                                                                  \n",
            " sequential_8 (Sequential)   (None, 2, 2, 512)            4196352   ['sequential_7[0][0]']        \n",
            "                                                                                                  \n",
            " concatenate (Concatenate)   (None, 2, 2, 1024)           0         ['sequential_8[0][0]',        \n",
            "                                                                     'sequential_6[0][0]']        \n",
            "                                                                                                  \n",
            " sequential_9 (Sequential)   (None, 4, 4, 512)            8390656   ['concatenate[0][0]']         \n",
            "                                                                                                  \n",
            " concatenate_1 (Concatenate  (None, 4, 4, 1024)           0         ['sequential_9[0][0]',        \n",
            " )                                                                   'sequential_5[0][0]']        \n",
            "                                                                                                  \n",
            " sequential_10 (Sequential)  (None, 8, 8, 512)            8390656   ['concatenate_1[0][0]']       \n",
            "                                                                                                  \n",
            " concatenate_2 (Concatenate  (None, 8, 8, 1024)           0         ['sequential_10[0][0]',       \n",
            " )                                                                   'sequential_4[0][0]']        \n",
            "                                                                                                  \n",
            " sequential_11 (Sequential)  (None, 16, 16, 512)          8390656   ['concatenate_2[0][0]']       \n",
            "                                                                                                  \n",
            " concatenate_3 (Concatenate  (None, 16, 16, 1024)         0         ['sequential_11[0][0]',       \n",
            " )                                                                   'sequential_3[0][0]']        \n",
            "                                                                                                  \n",
            " sequential_12 (Sequential)  (None, 32, 32, 256)          4195328   ['concatenate_3[0][0]']       \n",
            "                                                                                                  \n",
            " concatenate_4 (Concatenate  (None, 32, 32, 512)          0         ['sequential_12[0][0]',       \n",
            " )                                                                   'sequential_2[0][0]']        \n",
            "                                                                                                  \n",
            " sequential_13 (Sequential)  (None, 64, 64, 128)          1049088   ['concatenate_4[0][0]']       \n",
            "                                                                                                  \n",
            " concatenate_5 (Concatenate  (None, 64, 64, 256)          0         ['sequential_13[0][0]',       \n",
            " )                                                                   'sequential_1[0][0]']        \n",
            "                                                                                                  \n",
            " sequential_14 (Sequential)  (None, 128, 128, 64)         262400    ['concatenate_5[0][0]']       \n",
            "                                                                                                  \n",
            " concatenate_6 (Concatenate  (None, 128, 128, 128)        0         ['sequential_14[0][0]',       \n",
            " )                                                                   'sequential[0][0]']          \n",
            "                                                                                                  \n",
            " conv2d_transpose_7 (Conv2D  (None, 256, 256, 3)          6147      ['concatenate_6[0][0]']       \n",
            " Transpose)                                                                                       \n",
            "                                                                                                  \n",
            "==================================================================================================\n",
            "Total params: 54425859 (207.62 MB)\n",
            "Trainable params: 54414979 (207.58 MB)\n",
            "Non-trainable params: 10880 (42.50 KB)\n",
            "__________________________________________________________________________________________________\n"
          ]
        }
      ],
      "source": [
        "model = Generator()\n",
        "model.summary()"
      ]
    },
    {
      "cell_type": "markdown",
      "metadata": {
        "id": "bu1dT0ulal0x"
      },
      "source": [
        "## New model"
      ]
    },
    {
      "cell_type": "code",
      "execution_count": 11,
      "metadata": {
        "id": "WLnPoP0TZs0D"
      },
      "outputs": [],
      "source": [
        "def downsample1(filters, size, apply_batchnorm=True):\n",
        "\n",
        "  result = tf.keras.Sequential([InverseResidualBlock(filters),\n",
        "InverseResidualBlock(filters),\n",
        "InverseResidualBlock(filters, strides =2)])\n",
        "  return result\n",
        "\n",
        "\n",
        "def upsample1(filters, size, apply_dropout=False):\n",
        "\n",
        "\n",
        "  result = tf.keras.Sequential([layers.UpSampling2D(size=2),\n",
        "InverseResidualBlock(filters),\n",
        "InverseResidualBlock(filters) ])\n",
        "\n",
        "  return result\n",
        "\n",
        "def foolsunet(num_transformers=0):\n",
        "  inputs = tf.keras.layers.Input(shape=[256, 256, 3])\n",
        "  #initializer = tf.random_normal_initializer(0., 0.02)\n",
        "  #first = tf.keras.layers.Conv2D(64, 3,\n",
        "  #                                      strides=1,\n",
        "  #                                      padding='same',\n",
        "  #                                      kernel_initializer=initializer,\n",
        "  #                                      activation='relu6')  # (batch_size, 256, 256, 3)\n",
        "\n",
        "\n",
        "  down_stack = [\n",
        "    downsample(64, 4, apply_batchnorm=False),  # (batch_size, 128, 128, 64)\n",
        "    downsample(128, 4),  # (batch_size, 64, 64, 128)\n",
        "    downsample(256, 4),  # (batch_size, 32, 32, 256)\n",
        "    downsample1(64, 4),  # (batch_size, 16, 16, 512)\n",
        "    downsample1(96, 4),  # (batch_size, 8, 8, 512)\n",
        "    downsample1(128, 4),  # (batch_size, 4, 4, 512)\n",
        "    #downsample1(512, 4),  # (batch_size, 2, 2, 512)\n",
        "    #downsample1(512, 4),  # (batch_size, 1, 1, 512)\n",
        "  ]\n",
        "\n",
        "  transformers = []\n",
        "  if num_transformers > 0:\n",
        "    transformers.append(PatchAndEncode(num_patches=64, patch_size=4, projection_dim=128))\n",
        "\n",
        "  for _ in range(num_transformers):\n",
        "    transformers.append(TransformerBlock(num_heads=12, projection_dim=128))\n",
        "\n",
        "  if num_transformers > 0:\n",
        "    transformers.append(MakeShape([None,32,32,48]))\n",
        "\n",
        "  up_stack = [\n",
        "    #upsample1(512, 4, apply_dropout=True),  # (batch_size, 2, 2, 1024)\n",
        "    #upsample1(512, 4, apply_dropout=True),  # (batch_size, 4, 4, 1024)\n",
        "    upsample1(96, 4, apply_dropout=True),  # (batch_size, 8, 8, 1024)\n",
        "    upsample1(64, 4),  # (batch_size, 16, 16, 1024)\n",
        "    upsample(256, 4),  # (batch_size, 32, 32, 512)\n",
        "    upsample(128, 4),  # (batch_size, 64, 64, 256)\n",
        "    upsample(64, 4),  # (batch_size, 128, 128, 128)\n",
        "  ]\n",
        "\n",
        "  initializer = tf.random_normal_initializer(0., 0.02)\n",
        "  last = tf.keras.layers.Conv2DTranspose(3, 3,\n",
        "                                         strides=2,\n",
        "                                         padding='same',\n",
        "                                         kernel_initializer=initializer)  # (batch_size, 256, 256, 3)\n",
        "\n",
        "  x = inputs\n",
        "  #x = first(x)\n",
        "\n",
        "  # Downsampling through the model\n",
        "  skips = []\n",
        "  for down in down_stack:\n",
        "    x = down(x)\n",
        "    skips.append(x)\n",
        "\n",
        "  skips = reversed(skips[:-1])\n",
        "\n",
        "  # bottleneck\n",
        "  for t in transformers:\n",
        "    x = t(x)\n",
        "\n",
        "  # Upsampling and establishing the skip connections\n",
        "  for up, skip in zip(up_stack, skips):\n",
        "    x = up(x)\n",
        "    x = tf.keras.layers.Concatenate()([x, skip])\n",
        "\n",
        "  x = last(x)\n",
        "\n",
        "  return tf.keras.Model(inputs=inputs, outputs=x)"
      ]
    },
    {
      "cell_type": "code",
      "execution_count": 12,
      "metadata": {
        "colab": {
          "base_uri": "https://localhost:8080/"
        },
        "id": "66Tge2tyPE6D",
        "outputId": "6594383c-52d4-417a-d6f3-f014a722b615"
      },
      "outputs": [
        {
          "output_type": "stream",
          "name": "stdout",
          "text": [
            "Model: \"model_1\"\n",
            "__________________________________________________________________________________________________\n",
            " Layer (type)                Output Shape                 Param #   Connected to                  \n",
            "==================================================================================================\n",
            " input_2 (InputLayer)        [(None, 256, 256, 3)]        0         []                            \n",
            "                                                                                                  \n",
            " sequential_15 (Sequential)  (None, 128, 128, 64)         3072      ['input_2[0][0]']             \n",
            "                                                                                                  \n",
            " sequential_16 (Sequential)  (None, 64, 64, 128)          131584    ['sequential_15[0][0]']       \n",
            "                                                                                                  \n",
            " sequential_17 (Sequential)  (None, 32, 32, 256)          525312    ['sequential_16[0][0]']       \n",
            "                                                                                                  \n",
            " sequential_18 (Sequential)  (None, 16, 16, 64)           261312    ['sequential_17[0][0]']       \n",
            "                                                                                                  \n",
            " sequential_19 (Sequential)  (None, 8, 8, 96)             453408    ['sequential_18[0][0]']       \n",
            "                                                                                                  \n",
            " sequential_20 (Sequential)  (None, 4, 4, 128)            801152    ['sequential_19[0][0]']       \n",
            "                                                                                                  \n",
            " sequential_21 (Sequential)  (None, 8, 8, 96)             322752    ['sequential_20[0][0]']       \n",
            "                                                                                                  \n",
            " concatenate_7 (Concatenate  (None, 8, 8, 192)            0         ['sequential_21[0][0]',       \n",
            " )                                                                   'sequential_19[0][0]']       \n",
            "                                                                                                  \n",
            " sequential_22 (Sequential)  (None, 16, 16, 64)           174208    ['concatenate_7[0][0]']       \n",
            "                                                                                                  \n",
            " concatenate_8 (Concatenate  (None, 16, 16, 128)          0         ['sequential_22[0][0]',       \n",
            " )                                                                   'sequential_18[0][0]']       \n",
            "                                                                                                  \n",
            " sequential_23 (Sequential)  (None, 32, 32, 256)          525312    ['concatenate_8[0][0]']       \n",
            "                                                                                                  \n",
            " concatenate_9 (Concatenate  (None, 32, 32, 512)          0         ['sequential_23[0][0]',       \n",
            " )                                                                   'sequential_17[0][0]']       \n",
            "                                                                                                  \n",
            " sequential_24 (Sequential)  (None, 64, 64, 128)          1049088   ['concatenate_9[0][0]']       \n",
            "                                                                                                  \n",
            " concatenate_10 (Concatenat  (None, 64, 64, 256)          0         ['sequential_24[0][0]',       \n",
            " e)                                                                  'sequential_16[0][0]']       \n",
            "                                                                                                  \n",
            " sequential_25 (Sequential)  (None, 128, 128, 64)         262400    ['concatenate_10[0][0]']      \n",
            "                                                                                                  \n",
            " concatenate_11 (Concatenat  (None, 128, 128, 128)        0         ['sequential_25[0][0]',       \n",
            " e)                                                                  'sequential_15[0][0]']       \n",
            "                                                                                                  \n",
            " conv2d_transpose_11 (Conv2  (None, 256, 256, 3)          3459      ['concatenate_11[0][0]']      \n",
            " DTranspose)                                                                                      \n",
            "                                                                                                  \n",
            "==================================================================================================\n",
            "Total params: 4513059 (17.22 MB)\n",
            "Trainable params: 4490083 (17.13 MB)\n",
            "Non-trainable params: 22976 (89.75 KB)\n",
            "__________________________________________________________________________________________________\n"
          ]
        }
      ],
      "source": [
        "model = foolsunet(0)\n",
        "model.summary()"
      ]
    },
    {
      "cell_type": "code",
      "execution_count": 13,
      "metadata": {
        "colab": {
          "base_uri": "https://localhost:8080/",
          "height": 676
        },
        "id": "4ucnptWaj69U",
        "outputId": "e4bc2680-bdc7-480d-9676-99cdac1e2796"
      },
      "outputs": [
        {
          "output_type": "execute_result",
          "data": {
            "image/png": "[encoded data removed]",
            "text/plain": [
              "<IPython.core.display.Image object>"
            ]
          },
          "metadata": {},
          "execution_count": 13
        }
      ],
      "source": [
        "\n",
        "tf.keras.utils.plot_model(model, show_shapes=True, dpi=64)"
      ]
    },
    {
      "cell_type": "code",
      "execution_count": 14,
      "metadata": {
        "id": "_T9oYOGOx_UQ"
      },
      "outputs": [],
      "source": [
        "import tensorflow_datasets as tfds"
      ]
    },
    {
      "cell_type": "code",
      "execution_count": 15,
      "metadata": {
        "id": "T_kTE_y3fCPS"
      },
      "outputs": [],
      "source": [
        "dataset, info = tfds.load('oxford_iiit_pet:3.*.*', with_info=True)"
      ]
    },
    {
      "cell_type": "code",
      "execution_count": 16,
      "metadata": {
        "id": "lLaX-c2rruJY"
      },
      "outputs": [],
      "source": [
        "\n",
        "def normalize(input_image, input_mask):\n",
        "  input_image = tf.cast(input_image, tf.float32) / 255.0\n",
        "  input_mask -= 1\n",
        "  return input_image, input_mask"
      ]
    },
    {
      "cell_type": "code",
      "execution_count": 17,
      "metadata": {
        "id": "0ogd48-9r2Ng"
      },
      "outputs": [],
      "source": [
        "\n",
        "def load_image(datapoint):\n",
        "  input_image = tf.image.resize(datapoint['image'], (256, 256))\n",
        "  input_mask = tf.image.resize(\n",
        "    datapoint['segmentation_mask'],\n",
        "    (256, 256),\n",
        "    method = tf.image.ResizeMethod.NEAREST_NEIGHBOR,\n",
        "  )\n",
        "\n",
        "  input_image, input_mask = normalize(input_image, input_mask)\n",
        "\n",
        "  return input_image, input_mask"
      ]
    },
    {
      "cell_type": "code",
      "execution_count": 18,
      "metadata": {
        "id": "KjdaiFWEr3t9"
      },
      "outputs": [],
      "source": [
        "\n",
        "TRAIN_LENGTH = info.splits['train'].num_examples\n",
        "BATCH_SIZE = 64\n",
        "BUFFER_SIZE = 1000\n",
        "STEPS_PER_EPOCH = TRAIN_LENGTH // BATCH_SIZE"
      ]
    },
    {
      "cell_type": "code",
      "execution_count": 19,
      "metadata": {
        "id": "MxmCoz2rr9PG"
      },
      "outputs": [],
      "source": [
        "\n",
        "train_images = dataset['train'].map(load_image, num_parallel_calls=tf.data.AUTOTUNE)\n",
        "test_images = dataset['test'].map(load_image, num_parallel_calls=tf.data.AUTOTUNE)"
      ]
    },
    {
      "cell_type": "code",
      "execution_count": 20,
      "metadata": {
        "id": "jAv55SkfsMCE"
      },
      "outputs": [],
      "source": [
        "\n",
        "class Augment(tf.keras.layers.Layer):\n",
        "  def __init__(self, seed=42):\n",
        "    super().__init__()\n",
        "    # both use the same seed, so they'll make the same random changes.\n",
        "    self.augment_inputs = tf.keras.layers.RandomFlip(mode=\"horizontal\", seed=seed)\n",
        "    self.augment_labels = tf.keras.layers.RandomFlip(mode=\"horizontal\", seed=seed)\n",
        "\n",
        "  def call(self, inputs, labels):\n",
        "    inputs = self.augment_inputs(inputs)\n",
        "    labels = self.augment_labels(labels)\n",
        "    return inputs, labels"
      ]
    },
    {
      "cell_type": "code",
      "execution_count": 21,
      "metadata": {
        "id": "18sWhD2esNOo"
      },
      "outputs": [],
      "source": [
        "\n",
        "train_batches = (\n",
        "    train_images\n",
        "    .cache()\n",
        "    .shuffle(BUFFER_SIZE)\n",
        "    .batch(BATCH_SIZE)\n",
        "    .repeat()\n",
        "    .map(Augment())\n",
        "    .prefetch(buffer_size=tf.data.AUTOTUNE))\n",
        "\n",
        "test_batches = test_images.batch(BATCH_SIZE)"
      ]
    },
    {
      "cell_type": "code",
      "execution_count": 22,
      "metadata": {
        "id": "vsCfcuxWsk8I"
      },
      "outputs": [],
      "source": [
        "model = foolsunet(0)\n",
        "#model = Generator()\n",
        "\n",
        "model.compile(optimizer='adam',\n",
        "              loss=tf.keras.losses.SparseCategoricalCrossentropy(from_logits=True),\n",
        "              metrics=['accuracy'])"
      ]
    },
    {
      "cell_type": "code",
      "execution_count": 23,
      "metadata": {
        "colab": {
          "base_uri": "https://localhost:8080/"
        },
        "id": "zUittpCPs3LA",
        "outputId": "0d11e2fb-c8a2-4931-9807-72ef9514aa0c"
      },
      "outputs": [
        {
          "output_type": "stream",
          "name": "stdout",
          "text": [
            "Epoch 1/20\n",
            "57/57 [==============================] - 100s 755ms/step - loss: 0.7408 - accuracy: 0.6993 - val_loss: 0.9425 - val_accuracy: 0.5236\n",
            "Epoch 2/20\n",
            "57/57 [==============================] - 47s 685ms/step - loss: 0.5919 - accuracy: 0.7609 - val_loss: 1.0199 - val_accuracy: 0.4902\n",
            "Epoch 3/20\n",
            "57/57 [==============================] - 41s 723ms/step - loss: 0.5242 - accuracy: 0.7893 - val_loss: 1.0068 - val_accuracy: 0.5704\n",
            "Epoch 4/20\n",
            "57/57 [==============================] - 39s 682ms/step - loss: 0.4762 - accuracy: 0.8110 - val_loss: 1.0080 - val_accuracy: 0.5718\n",
            "Epoch 5/20\n",
            "57/57 [==============================] - 41s 727ms/step - loss: 0.4313 - accuracy: 0.8302 - val_loss: 1.0384 - val_accuracy: 0.5732\n",
            "Epoch 6/20\n",
            "57/57 [==============================] - 39s 681ms/step - loss: 0.4086 - accuracy: 0.8401 - val_loss: 1.0565 - val_accuracy: 0.5733\n",
            "Epoch 7/20\n",
            "57/57 [==============================] - 39s 684ms/step - loss: 0.3837 - accuracy: 0.8501 - val_loss: 1.1385 - val_accuracy: 0.5732\n",
            "Epoch 8/20\n",
            "57/57 [==============================] - 41s 726ms/step - loss: 0.3653 - accuracy: 0.8574 - val_loss: 1.0521 - val_accuracy: 0.5732\n",
            "Epoch 9/20\n",
            "57/57 [==============================] - 39s 681ms/step - loss: 0.3584 - accuracy: 0.8598 - val_loss: 1.7615 - val_accuracy: 0.5732\n",
            "Epoch 10/20\n",
            "57/57 [==============================] - 41s 725ms/step - loss: 0.3364 - accuracy: 0.8688 - val_loss: 1.2758 - val_accuracy: 0.6191\n",
            "Epoch 11/20\n",
            "57/57 [==============================] - 41s 720ms/step - loss: 0.3156 - accuracy: 0.8768 - val_loss: 0.4775 - val_accuracy: 0.8207\n",
            "Epoch 12/20\n",
            "57/57 [==============================] - 40s 710ms/step - loss: 0.3098 - accuracy: 0.8791 - val_loss: 0.6324 - val_accuracy: 0.7953\n",
            "Epoch 13/20\n",
            "57/57 [==============================] - 41s 721ms/step - loss: 0.3011 - accuracy: 0.8821 - val_loss: 0.3661 - val_accuracy: 0.8625\n",
            "Epoch 14/20\n",
            "57/57 [==============================] - 41s 723ms/step - loss: 0.2971 - accuracy: 0.8841 - val_loss: 0.4360 - val_accuracy: 0.8465\n",
            "Epoch 15/20\n",
            "57/57 [==============================] - 39s 680ms/step - loss: 0.2737 - accuracy: 0.8927 - val_loss: 0.3856 - val_accuracy: 0.8555\n",
            "Epoch 16/20\n",
            "57/57 [==============================] - 40s 706ms/step - loss: 0.2715 - accuracy: 0.8929 - val_loss: 0.3828 - val_accuracy: 0.8574\n",
            "Epoch 17/20\n",
            "57/57 [==============================] - 41s 725ms/step - loss: 0.2623 - accuracy: 0.8969 - val_loss: 0.3486 - val_accuracy: 0.8721\n",
            "Epoch 18/20\n",
            "57/57 [==============================] - 41s 724ms/step - loss: 0.2567 - accuracy: 0.8985 - val_loss: 0.4183 - val_accuracy: 0.8545\n",
            "Epoch 19/20\n",
            "57/57 [==============================] - 41s 728ms/step - loss: 0.2570 - accuracy: 0.8990 - val_loss: 0.3755 - val_accuracy: 0.8650\n",
            "Epoch 20/20\n",
            "57/57 [==============================] - 39s 684ms/step - loss: 0.2483 - accuracy: 0.9015 - val_loss: 0.4694 - val_accuracy: 0.8412\n"
          ]
        }
      ],
      "source": [
        "\n",
        "EPOCHS = 20\n",
        "VAL_SUBSPLITS = 5\n",
        "VALIDATION_STEPS = info.splits['test'].num_examples//BATCH_SIZE//VAL_SUBSPLITS\n",
        "\n",
        "model_history = model.fit(train_batches, epochs=EPOCHS,\n",
        "                          steps_per_epoch=STEPS_PER_EPOCH,\n",
        "                          validation_steps=VALIDATION_STEPS,\n",
        "                          validation_data=test_batches,\n",
        "                          #callbacks=[DisplayCallback()]\n",
        ")"
      ]
    }
  ],
  "metadata": {
    "colab": {
      "provenance": [],
      "gpuType": "T4",
      "authorship_tag": "ABX9TyM6DfPUrcpvCx3+xZRcWd6y",
      "include_colab_link": true
    },
    "kernelspec": {
      "display_name": "Python 3",
      "name": "python3"
    },
    "language_info": {
      "name": "python"
    },
    "accelerator": "GPU"
  },
  "nbformat": 4,
  "nbformat_minor": 0
}