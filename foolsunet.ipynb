{
  "nbformat": 4,
  "nbformat_minor": 0,
  "metadata": {
    "colab": {
      "provenance": [],
      "authorship_tag": "ABX9TyMVIcHOeiYluO1DwSZX+R0e",
      "include_colab_link": true
    },
    "kernelspec": {
      "name": "python3",
      "display_name": "Python 3"
    },
    "language_info": {
      "name": "python"
    }
  },
  "cells": [
    {
      "cell_type": "markdown",
      "metadata": {
        "id": "view-in-github",
        "colab_type": "text"
      },
      "source": [
        "<a href=\"https://colab.research.google.com/github/arminwitte/FoolsUNet/blob/main/foolsunet.ipynb\" target=\"_parent\"><img src=\"https://colab.research.google.com/assets/colab-badge.svg\" alt=\"Open In Colab\"/></a>"
      ]
    },
    {
      "cell_type": "code",
      "execution_count": null,
      "metadata": {
        "id": "gDxqzYV1Ayp1",
        "outputId": "e2dcce9a-40c3-4ca0-b19e-abfb34398f2c",
        "colab": {
          "base_uri": "https://localhost:8080/"
        }
      },
      "outputs": [
        {
          "output_type": "stream",
          "name": "stdout",
          "text": [
            "Cloning into 'FoolsUNet'...\n",
            "remote: Enumerating objects: 8, done.\u001b[K\n",
            "remote: Counting objects: 100% (8/8), done.\u001b[K\n",
            "remote: Compressing objects: 100% (8/8), done.\u001b[K\n",
            "remote: Total 8 (delta 1), reused 0 (delta 0), pack-reused 0\u001b[K\n",
            "Receiving objects: 100% (8/8), 7.68 KiB | 7.68 MiB/s, done.\n",
            "Resolving deltas: 100% (1/1), done.\n"
          ]
        }
      ],
      "source": [
        "!git clone https://github.com/arminwitte/FoolsUNet.git"
      ]
    },
    {
      "cell_type": "code",
      "source": [
        "import tensorflow as tf\n",
        "print(tf.__version__)"
      ],
      "metadata": {
        "colab": {
          "base_uri": "https://localhost:8080/"
        },
        "id": "7_B2eWxvDaHx",
        "outputId": "b871758e-69cf-4ac3-f256-ba9b4913423b"
      },
      "execution_count": null,
      "outputs": [
        {
          "output_type": "stream",
          "name": "stdout",
          "text": [
            "2.15.0\n"
          ]
        }
      ]
    },
    {
      "cell_type": "code",
      "source": [
        "from tensorflow.keras import layers"
      ],
      "metadata": {
        "id": "RCVBvZI9DEC5"
      },
      "execution_count": null,
      "outputs": []
    },
    {
      "cell_type": "code",
      "source": [
        "class SqueezeExcite(layers.Layer):\n",
        "    \"\"\"\n",
        "    https://keras.io/examples/vision/patch_convnet/\n",
        "\n",
        "    Applies squeeze and excitation to input feature maps as seen in\n",
        "    https://arxiv.org/abs/1709.01507.\n",
        "\n",
        "    Args:\n",
        "        ratio: The ratio with which the feature map needs to be reduced in\n",
        "        the reduction phase.\n",
        "\n",
        "    Inputs:\n",
        "        Convolutional features.\n",
        "\n",
        "    Outputs:\n",
        "        Attention modified feature maps.\n",
        "    \"\"\"\n",
        "\n",
        "    def __init__(self, ratio, **kwargs):\n",
        "        super().__init__(**kwargs)\n",
        "        self.ratio = ratio\n",
        "\n",
        "    def get_config(self):\n",
        "        config = super().get_config()\n",
        "        config.update({\"ratio\": self.ratio})\n",
        "        return config\n",
        "\n",
        "    def build(self, input_shape):\n",
        "        filters = input_shape[-1]\n",
        "        self.squeeze = layers.GlobalAveragePooling2D(keepdims=True)\n",
        "        self.reduction = layers.Dense(\n",
        "            units=filters // self.ratio,\n",
        "            activation=\"relu\",\n",
        "            use_bias=False,\n",
        "        )\n",
        "        self.excite = layers.Dense(units=filters, activation=\"sigmoid\", use_bias=False)\n",
        "        self.multiply = layers.Multiply()\n",
        "\n",
        "    def call(self, x):\n",
        "        shortcut = x\n",
        "        x = self.squeeze(x)\n",
        "        x = self.reduction(x)\n",
        "        x = self.excite(x)\n",
        "        x = self.multiply([shortcut, x])\n",
        "        return x"
      ],
      "metadata": {
        "id": "2_p9iD6dC4S_"
      },
      "execution_count": null,
      "outputs": []
    },
    {
      "cell_type": "code",
      "source": [
        "\n",
        "class InverseResidualBlock(layers.Layer):\n",
        "    \"\"\"Implements an Inverse Residual Block like in MobileNetV2 and MobileNetV3\n",
        "\n",
        "    https://stackoverflow.com/a/61334159\n",
        "\n",
        "    Args:\n",
        "        features: Number of features.\n",
        "        expand_factor: factor by witch to expand number of layers\n",
        "        strides: Stride used in last convolution.\n",
        "        batch_norm: flag if Batch Normalisation should be used.\n",
        "\n",
        "    Inputs:\n",
        "        Convolutional features.\n",
        "\n",
        "    Outputs:\n",
        "        Modified feature maps.\n",
        "    \"\"\"\n",
        "\n",
        "    def __init__(self, features=16, expand_factor=4, strides=1, batch_norm=True, **kwargs):\n",
        "        super().__init__(**kwargs)\n",
        "        self.features = features\n",
        "        self.expand_factor = expand_factor\n",
        "        self.strides = strides\n",
        "        self.batch_norm = batch_norm\n",
        "\n",
        "    def get_config(self):\n",
        "        config = super().get_config()\n",
        "        config.update({\"features\": self.features,\n",
        "                       \"expand_factor\": self.expand_factor,\n",
        "                       \"strides\": self.strides,\n",
        "                       \"batch_norm\": self.batch_norm, })\n",
        "        return config\n",
        "\n",
        "    def build(self, input_shape):\n",
        "        self.conv1 = layers.Conv2D(filters*expand_factor, (1,1), strides=1)\n",
        "        if self.batch_norm:\n",
        "            self.bn1 = layers.BatchNormalization()\n",
        "        self.activation1 = layers.Activation('relu6')\n",
        "        self.dwise = layers.DepthwiseConv2D(3, padding='same', strides=strides)\n",
        "        if self.batch_norm:\n",
        "            self.bn2 = layers.BatchNormalization()\n",
        "        self.activation2 = layers.Activation('relu6')\n",
        "        self.squeeze_exite = SqueezeExcite(ratio=4)\n",
        "        self.conf2 = layers.Conv2D(squeeze, (1,1), strides=1, padding='same')\n",
        "        if self.batch_norm:\n",
        "            self.bn3 = layers.BatchNormalization()\n",
        "    def call(self, x):\n",
        "        shortcut = x\n",
        "        x = self.conf1(x)\n",
        "        x = self.reduction(x)\n",
        "        x = self.excite(x)\n",
        "        x = self.multiply([shortcut, x])\n",
        "        return x\n",
        "\n",
        "  if (\n",
        "    # stride check enforces that we don't add residuals when spatial\n",
        "    # dimensions are None\n",
        "    strides == 1 and\n",
        "    # Depth matches\n",
        "    m.get_shape().as_list()[3] == x.get_shape().as_list()[3]\n",
        "  ):\n",
        "    m = tf.keras.layers.Add()([m, x])\n",
        "\n",
        "  return m"
      ],
      "metadata": {
        "id": "i5720NRRENby",
        "colab": {
          "base_uri": "https://localhost:8080/",
          "height": 141
        },
        "outputId": "dc87e58a-0d88-423e-890c-3cd873033ce0"
      },
      "execution_count": null,
      "outputs": [
        {
          "output_type": "error",
          "ename": "SyntaxError",
          "evalue": "unterminated string literal (detected at line 26) (<ipython-input-1-b2faf6397421>, line 26)",
          "traceback": [
            "\u001b[0;36m  File \u001b[0;32m\"<ipython-input-1-b2faf6397421>\"\u001b[0;36m, line \u001b[0;32m26\u001b[0m\n\u001b[0;31m    \"})\u001b[0m\n\u001b[0m    ^\u001b[0m\n\u001b[0;31mSyntaxError\u001b[0m\u001b[0;31m:\u001b[0m unterminated string literal (detected at line 26)\n"
          ]
        }
      ]
    }
  ]
}