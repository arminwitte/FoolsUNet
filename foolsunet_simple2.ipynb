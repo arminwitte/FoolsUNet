{
  "cells": [
    {
      "cell_type": "markdown",
      "metadata": {
        "id": "view-in-github",
        "colab_type": "text"
      },
      "source": [
        "<a href=\"https://colab.research.google.com/github/arminwitte/FoolsUNet/blob/main/foolsunet_simple2.ipynb\" target=\"_parent\"><img src=\"https://colab.research.google.com/assets/colab-badge.svg\" alt=\"Open In Colab\"/></a>"
      ]
    },
    {
      "cell_type": "code",
      "execution_count": 40,
      "metadata": {
        "colab": {
          "base_uri": "https://localhost:8080/"
        },
        "id": "gDxqzYV1Ayp1",
        "outputId": "3b25aa34-d060-4bdf-eb71-07a556d83a65"
      },
      "outputs": [
        {
          "output_type": "stream",
          "name": "stdout",
          "text": [
            "fatal: destination path 'FoolsUNet' already exists and is not an empty directory.\n"
          ]
        }
      ],
      "source": [
        "!git clone https://github.com/arminwitte/FoolsUNet.git"
      ]
    },
    {
      "cell_type": "code",
      "execution_count": 41,
      "metadata": {
        "colab": {
          "base_uri": "https://localhost:8080/"
        },
        "id": "7_B2eWxvDaHx",
        "outputId": "f78dbd62-b725-4c3e-a0df-25446cf534cc"
      },
      "outputs": [
        {
          "output_type": "stream",
          "name": "stdout",
          "text": [
            "2.15.0\n"
          ]
        }
      ],
      "source": [
        "import tensorflow as tf\n",
        "print(tf.__version__)"
      ]
    },
    {
      "cell_type": "code",
      "execution_count": 42,
      "metadata": {
        "id": "RCVBvZI9DEC5"
      },
      "outputs": [],
      "source": [
        "from tensorflow.keras import layers"
      ]
    },
    {
      "cell_type": "code",
      "execution_count": 43,
      "metadata": {
        "id": "2_p9iD6dC4S_"
      },
      "outputs": [],
      "source": [
        "class SqueezeExcite(layers.Layer):\n",
        "    \"\"\"\n",
        "    https://keras.io/examples/vision/patch_convnet/\n",
        "\n",
        "    Applies squeeze and excitation to input feature maps as seen in\n",
        "    https://arxiv.org/abs/1709.01507.\n",
        "\n",
        "    Args:\n",
        "        ratio: The ratio with which the feature map needs to be reduced in\n",
        "        the reduction phase.\n",
        "\n",
        "    Inputs:\n",
        "        Convolutional features.\n",
        "\n",
        "    Outputs:\n",
        "        Attention modified feature maps.\n",
        "    \"\"\"\n",
        "\n",
        "    def __init__(self, ratio, **kwargs):\n",
        "        super().__init__(**kwargs)\n",
        "        self.ratio = ratio\n",
        "\n",
        "    def get_config(self):\n",
        "        config = super().get_config()\n",
        "        config.update({\"ratio\": self.ratio})\n",
        "        return config\n",
        "\n",
        "    def build(self, input_shape):\n",
        "        filters = input_shape[-1]\n",
        "        self.squeeze = layers.GlobalAveragePooling2D(keepdims=True)\n",
        "        self.reduction = layers.Dense(\n",
        "            units=filters // self.ratio,\n",
        "            activation=\"relu\",\n",
        "            use_bias=False,\n",
        "        )\n",
        "        self.excite = layers.Dense(units=filters, activation=\"sigmoid\", use_bias=False)\n",
        "        self.multiply = layers.Multiply()\n",
        "\n",
        "    def call(self, x):\n",
        "        shortcut = x\n",
        "        x = self.squeeze(x)\n",
        "        x = self.reduction(x)\n",
        "        x = self.excite(x)\n",
        "        x = self.multiply([shortcut, x])\n",
        "        return x"
      ]
    },
    {
      "cell_type": "code",
      "execution_count": 44,
      "metadata": {
        "id": "i5720NRRENby"
      },
      "outputs": [],
      "source": [
        "\n",
        "class InverseResidualBlock(layers.Layer):\n",
        "    \"\"\"Implements an Inverse Residual Block like in MobileNetV2 and MobileNetV3\n",
        "\n",
        "    https://stackoverflow.com/a/61334159\n",
        "\n",
        "    Args:\n",
        "        features: Number of features.\n",
        "        expand_factor: factor by witch to expand number of layers\n",
        "        strides: Stride used in last convolution.\n",
        "        batch_norm: flag if Batch Normalisation should be used.\n",
        "\n",
        "    Inputs:\n",
        "        Convolutional features.\n",
        "\n",
        "    Outputs:\n",
        "        Modified feature maps.\n",
        "    \"\"\"\n",
        "\n",
        "    def __init__(self, features=16, expand_factor=4, strides=1, batch_norm=True, **kwargs):\n",
        "        super().__init__(**kwargs)\n",
        "        self.features = features\n",
        "        self.expand_factor = expand_factor\n",
        "        self.strides = strides\n",
        "        self.batch_norm = batch_norm\n",
        "\n",
        "    def get_config(self):\n",
        "        config = super().get_config()\n",
        "        config.update({\"features\": self.features,\n",
        "                       \"expand_factor\": self.expand_factor,\n",
        "                       \"strides\": self.strides,\n",
        "                       \"batch_norm\": self.batch_norm, })\n",
        "        return config\n",
        "\n",
        "    def build(self, input_shape):\n",
        "        self.conv1 = layers.Conv2D(self.features*self.expand_factor, (1,1), strides=1)\n",
        "        if self.batch_norm:\n",
        "            self.bn1 = layers.BatchNormalization()\n",
        "        self.activation1 = layers.Activation('relu6')\n",
        "        self.dwise = layers.DepthwiseConv2D(3, padding='same', strides=self.strides)\n",
        "        if self.batch_norm:\n",
        "            self.bn2 = layers.BatchNormalization()\n",
        "        self.activation2 = layers.Activation('relu6')\n",
        "        self.squeeze_excite = SqueezeExcite(ratio=4)\n",
        "        self.conv2 = layers.Conv2D(self.features, (1,1), strides=1, padding='same')\n",
        "        if self.batch_norm:\n",
        "            self.bn3 = layers.BatchNormalization()\n",
        "\n",
        "    def call(self, x):\n",
        "        shortcut = x\n",
        "        x = self.conv1(x)\n",
        "        if self.batch_norm:\n",
        "            x = self.bn1(x)\n",
        "        x = self.activation1(x)\n",
        "        x = self.dwise(x)\n",
        "        if self.batch_norm:\n",
        "            x = self.bn2(x)\n",
        "        x = self.activation2(x)\n",
        "        x = self.squeeze_excite(x)\n",
        "        x = self.conv2(x)\n",
        "        if self.batch_norm:\n",
        "            x = self.bn3(x)\n",
        "        if (\n",
        "            # stride check enforces that we don't add residuals when spatial\n",
        "            # dimensions are None\n",
        "            self.strides == 1 and\n",
        "            # Depth matches\n",
        "             x.get_shape().as_list()[3] == shortcut.get_shape().as_list()[3]\n",
        "        ):\n",
        "            x = tf.keras.layers.Add()([x, shortcut])\n",
        "\n",
        "        return x"
      ]
    },
    {
      "cell_type": "code",
      "source": [
        "\n",
        "def mlp(x, hidden_units=[2048, 1024], dropout_rate=0.1):\n",
        "    for units in hidden_units:\n",
        "        x = layers.Dense(units, activation=keras.activations.gelu)(x)\n",
        "        x = layers.Dropout(dropout_rate)(x)\n",
        "    return x\n",
        "\n",
        "class Patches(layers.Layer):\n",
        "    def __init__(self, patch_size):\n",
        "        super().__init__()\n",
        "        self.patch_size = patch_size\n",
        "\n",
        "    def call(self, images):\n",
        "        input_shape = ops.shape(images)\n",
        "        batch_size = input_shape[0]\n",
        "        height = input_shape[1]\n",
        "        width = input_shape[2]\n",
        "        channels = input_shape[3]\n",
        "        num_patches_h = height // self.patch_size\n",
        "        num_patches_w = width // self.patch_size\n",
        "        patches = keras.ops.image.extract_patches(images, size=self.patch_size)\n",
        "        patches = ops.reshape(\n",
        "            patches,\n",
        "            (\n",
        "                batch_size,\n",
        "                num_patches_h * num_patches_w,\n",
        "                self.patch_size * self.patch_size * channels,\n",
        "            ),\n",
        "        )\n",
        "        return patches\n",
        "\n",
        "    def get_config(self):\n",
        "        config = super().get_config()\n",
        "        config.update({\"patch_size\": self.patch_size})\n",
        "        return config\n",
        "\n",
        "class PatchEncoder(layers.Layer):\n",
        "    def __init__(self, num_patches, projection_dim):\n",
        "        super().__init__()\n",
        "        self.num_patches = num_patches\n",
        "        self.projection = layers.Dense(units=projection_dim)\n",
        "        self.position_embedding = layers.Embedding(\n",
        "            input_dim=num_patches, output_dim=projection_dim\n",
        "        )\n",
        "\n",
        "    def call(self, patch):\n",
        "        positions = ops.expand_dims(\n",
        "            ops.arange(start=0, stop=self.num_patches, step=1), axis=0\n",
        "        )\n",
        "        projected_patches = self.projection(patch)\n",
        "        encoded = projected_patches + self.position_embedding(positions)\n",
        "        return encoded\n",
        "\n",
        "    def get_config(self):\n",
        "        config = super().get_config()\n",
        "        config.update({\"num_patches\": self.num_patches})\n",
        "        return config"
      ],
      "metadata": {
        "id": "cdHPJheGcXQS"
      },
      "execution_count": 45,
      "outputs": []
    },
    {
      "cell_type": "code",
      "source": [
        "class TransformerBlock(layers.Layer):\n",
        "    def __init__(self, num_heads=4, projection_dim=64):\n",
        "        pass\n",
        "\n",
        "    def get_config(self):\n",
        "        config = super().get_config()\n",
        "\n",
        "    def build(self, input_shape):\n",
        "        # Layer normalization 1.\n",
        "        self.norm1 = layers.LayerNormalization(epsilon=1e-6)\n",
        "        # Create a multi-head attention layer.\n",
        "        self.attention = layers.MultiHeadAttention(\n",
        "            num_heads=num_heads, key_dim=projection_dim, dropout=0.1\n",
        "        )\n",
        "        # Skip connection 1.\n",
        "        self.add1 = layers.Add()([attention_output, encoded_patches])\n",
        "        # Layer normalization 2.\n",
        "        self.norm2 = layers.LayerNormalization(epsilon=1e-6)\n",
        "        # MLP.\n",
        "        self.mlp = mlp(x3, hidden_units=transformer_units, dropout_rate=0.1)\n",
        "        # Skip connection 2.\n",
        "        self.add2 = layers.Add()([x3, x2])"
      ],
      "metadata": {
        "id": "ZdyU3U9Yfujb"
      },
      "execution_count": 46,
      "outputs": []
    },
    {
      "cell_type": "markdown",
      "source": [
        "## U-Net"
      ],
      "metadata": {
        "id": "EVQnqabeeDV8"
      }
    },
    {
      "cell_type": "code",
      "execution_count": 47,
      "metadata": {
        "id": "BqhiCIWag5Nt"
      },
      "outputs": [],
      "source": [
        "def downsample(filters, size, apply_batchnorm=True):\n",
        "  initializer = tf.random_normal_initializer(0., 0.02)\n",
        "\n",
        "  result = tf.keras.Sequential()\n",
        "  result.add(\n",
        "      tf.keras.layers.Conv2D(filters, size, strides=2, padding='same',\n",
        "                             kernel_initializer=initializer, use_bias=False))\n",
        "\n",
        "  if apply_batchnorm:\n",
        "    result.add(tf.keras.layers.BatchNormalization())\n",
        "\n",
        "  result.add(tf.keras.layers.LeakyReLU())\n",
        "\n",
        "  return result\n",
        "\n",
        "def upsample(filters, size, apply_dropout=False):\n",
        "  initializer = tf.random_normal_initializer(0., 0.02)\n",
        "\n",
        "  result = tf.keras.Sequential()\n",
        "  result.add(\n",
        "    tf.keras.layers.Conv2DTranspose(filters, size, strides=2,\n",
        "                                    padding='same',\n",
        "                                    kernel_initializer=initializer,\n",
        "                                    use_bias=False))\n",
        "\n",
        "  result.add(tf.keras.layers.BatchNormalization())\n",
        "\n",
        "  if apply_dropout:\n",
        "      result.add(tf.keras.layers.Dropout(0.5))\n",
        "\n",
        "  result.add(tf.keras.layers.ReLU())\n",
        "\n",
        "  return result\n",
        "\n",
        "def Generator():\n",
        "  inputs = tf.keras.layers.Input(shape=[256, 256, 3])\n",
        "\n",
        "  down_stack = [\n",
        "    downsample(64, 4, apply_batchnorm=False),  # (batch_size, 128, 128, 64)\n",
        "    downsample(128, 4),  # (batch_size, 64, 64, 128)\n",
        "    downsample(256, 4),  # (batch_size, 32, 32, 256)\n",
        "    downsample(512, 4),  # (batch_size, 16, 16, 512)\n",
        "    downsample(512, 4),  # (batch_size, 8, 8, 512)\n",
        "    downsample(512, 4),  # (batch_size, 4, 4, 512)\n",
        "    downsample(512, 4),  # (batch_size, 2, 2, 512)\n",
        "    downsample(512, 4),  # (batch_size, 1, 1, 512)\n",
        "  ]\n",
        "\n",
        "  up_stack = [\n",
        "    upsample(512, 4, apply_dropout=True),  # (batch_size, 2, 2, 1024)\n",
        "    upsample(512, 4, apply_dropout=True),  # (batch_size, 4, 4, 1024)\n",
        "    upsample(512, 4, apply_dropout=True),  # (batch_size, 8, 8, 1024)\n",
        "    upsample(512, 4),  # (batch_size, 16, 16, 1024)\n",
        "    upsample(256, 4),  # (batch_size, 32, 32, 512)\n",
        "    upsample(128, 4),  # (batch_size, 64, 64, 256)\n",
        "    upsample(64, 4),  # (batch_size, 128, 128, 128)\n",
        "  ]\n",
        "\n",
        "  initializer = tf.random_normal_initializer(0., 0.02)\n",
        "  last = tf.keras.layers.Conv2DTranspose(3, 4,\n",
        "                                         strides=2,\n",
        "                                         padding='same',\n",
        "                                         kernel_initializer=initializer,\n",
        "                                         )  # (batch_size, 256, 256, 3)\n",
        "\n",
        "  x = inputs\n",
        "\n",
        "  # Downsampling through the model\n",
        "  skips = []\n",
        "  for down in down_stack:\n",
        "    x = down(x)\n",
        "    skips.append(x)\n",
        "\n",
        "  skips = reversed(skips[:-1])\n",
        "\n",
        "  # Upsampling and establishing the skip connections\n",
        "  for up, skip in zip(up_stack, skips):\n",
        "    x = up(x)\n",
        "    x = tf.keras.layers.Concatenate()([x, skip])\n",
        "\n",
        "  x = last(x)\n",
        "\n",
        "  return tf.keras.Model(inputs=inputs, outputs=x)"
      ]
    },
    {
      "cell_type": "code",
      "execution_count": 48,
      "metadata": {
        "colab": {
          "base_uri": "https://localhost:8080/"
        },
        "id": "tApwe3QT6XZx",
        "outputId": "b399e660-1b73-462a-a71d-52662516ce77"
      },
      "outputs": [
        {
          "output_type": "stream",
          "name": "stdout",
          "text": [
            "Model: \"model_4\"\n",
            "__________________________________________________________________________________________________\n",
            " Layer (type)                Output Shape                 Param #   Connected to                  \n",
            "==================================================================================================\n",
            " input_5 (InputLayer)        [(None, 256, 256, 3)]        0         []                            \n",
            "                                                                                                  \n",
            " sequential_38 (Sequential)  (None, 128, 128, 64)         3072      ['input_5[0][0]']             \n",
            "                                                                                                  \n",
            " sequential_39 (Sequential)  (None, 64, 64, 128)          131584    ['sequential_38[0][0]']       \n",
            "                                                                                                  \n",
            " sequential_40 (Sequential)  (None, 32, 32, 256)          525312    ['sequential_39[0][0]']       \n",
            "                                                                                                  \n",
            " sequential_41 (Sequential)  (None, 16, 16, 512)          2099200   ['sequential_40[0][0]']       \n",
            "                                                                                                  \n",
            " sequential_42 (Sequential)  (None, 8, 8, 512)            4196352   ['sequential_41[0][0]']       \n",
            "                                                                                                  \n",
            " sequential_43 (Sequential)  (None, 4, 4, 512)            4196352   ['sequential_42[0][0]']       \n",
            "                                                                                                  \n",
            " sequential_44 (Sequential)  (None, 2, 2, 512)            4196352   ['sequential_43[0][0]']       \n",
            "                                                                                                  \n",
            " sequential_45 (Sequential)  (None, 1, 1, 512)            4196352   ['sequential_44[0][0]']       \n",
            "                                                                                                  \n",
            " sequential_46 (Sequential)  (None, 2, 2, 512)            4196352   ['sequential_45[0][0]']       \n",
            "                                                                                                  \n",
            " concatenate_17 (Concatenat  (None, 2, 2, 1024)           0         ['sequential_46[0][0]',       \n",
            " e)                                                                  'sequential_44[0][0]']       \n",
            "                                                                                                  \n",
            " sequential_47 (Sequential)  (None, 4, 4, 512)            8390656   ['concatenate_17[0][0]']      \n",
            "                                                                                                  \n",
            " concatenate_18 (Concatenat  (None, 4, 4, 1024)           0         ['sequential_47[0][0]',       \n",
            " e)                                                                  'sequential_43[0][0]']       \n",
            "                                                                                                  \n",
            " sequential_48 (Sequential)  (None, 8, 8, 512)            8390656   ['concatenate_18[0][0]']      \n",
            "                                                                                                  \n",
            " concatenate_19 (Concatenat  (None, 8, 8, 1024)           0         ['sequential_48[0][0]',       \n",
            " e)                                                                  'sequential_42[0][0]']       \n",
            "                                                                                                  \n",
            " sequential_49 (Sequential)  (None, 16, 16, 512)          8390656   ['concatenate_19[0][0]']      \n",
            "                                                                                                  \n",
            " concatenate_20 (Concatenat  (None, 16, 16, 1024)         0         ['sequential_49[0][0]',       \n",
            " e)                                                                  'sequential_41[0][0]']       \n",
            "                                                                                                  \n",
            " sequential_50 (Sequential)  (None, 32, 32, 256)          4195328   ['concatenate_20[0][0]']      \n",
            "                                                                                                  \n",
            " concatenate_21 (Concatenat  (None, 32, 32, 512)          0         ['sequential_50[0][0]',       \n",
            " e)                                                                  'sequential_40[0][0]']       \n",
            "                                                                                                  \n",
            " sequential_51 (Sequential)  (None, 64, 64, 128)          1049088   ['concatenate_21[0][0]']      \n",
            "                                                                                                  \n",
            " concatenate_22 (Concatenat  (None, 64, 64, 256)          0         ['sequential_51[0][0]',       \n",
            " e)                                                                  'sequential_39[0][0]']       \n",
            "                                                                                                  \n",
            " sequential_52 (Sequential)  (None, 128, 128, 64)         262400    ['concatenate_22[0][0]']      \n",
            "                                                                                                  \n",
            " concatenate_23 (Concatenat  (None, 128, 128, 128)        0         ['sequential_52[0][0]',       \n",
            " e)                                                                  'sequential_38[0][0]']       \n",
            "                                                                                                  \n",
            " conv2d_transpose_24 (Conv2  (None, 256, 256, 3)          6147      ['concatenate_23[0][0]']      \n",
            " DTranspose)                                                                                      \n",
            "                                                                                                  \n",
            "==================================================================================================\n",
            "Total params: 54425859 (207.62 MB)\n",
            "Trainable params: 54414979 (207.58 MB)\n",
            "Non-trainable params: 10880 (42.50 KB)\n",
            "__________________________________________________________________________________________________\n"
          ]
        }
      ],
      "source": [
        "model = Generator()\n",
        "model.summary()"
      ]
    },
    {
      "cell_type": "markdown",
      "metadata": {
        "id": "bu1dT0ulal0x"
      },
      "source": [
        "## New model"
      ]
    },
    {
      "cell_type": "code",
      "execution_count": 49,
      "metadata": {
        "id": "WLnPoP0TZs0D"
      },
      "outputs": [],
      "source": [
        "def downsample1(filters, size, apply_batchnorm=True):\n",
        "\n",
        "  result = tf.keras.Sequential([InverseResidualBlock(filters),\n",
        "InverseResidualBlock(filters),\n",
        "InverseResidualBlock(filters, strides =2)])\n",
        "  return result\n",
        "\n",
        "\n",
        "def upsample1(filters, size, apply_dropout=False):\n",
        "\n",
        "\n",
        "  result = tf.keras.Sequential([layers.UpSampling2D(size=2),\n",
        "InverseResidualBlock(filters),\n",
        "InverseResidualBlock(filters) ])\n",
        "\n",
        "  return result\n",
        "\n",
        "def foolsunet():\n",
        "  inputs = tf.keras.layers.Input(shape=[256, 256, 3])\n",
        "  #initializer = tf.random_normal_initializer(0., 0.02)\n",
        "  #first = tf.keras.layers.Conv2D(64, 3,\n",
        "  #                                      strides=1,\n",
        "  #                                      padding='same',\n",
        "  #                                      kernel_initializer=initializer,\n",
        "  #                                      activation='relu6')  # (batch_size, 256, 256, 3)\n",
        "\n",
        "\n",
        "  down_stack = [\n",
        "    downsample(64, 4, apply_batchnorm=False),  # (batch_size, 128, 128, 64)\n",
        "    downsample(128, 4),  # (batch_size, 64, 64, 128)\n",
        "    downsample1(48, 4),  # (batch_size, 32, 32, 256)\n",
        "    downsample1(64, 4),  # (batch_size, 16, 16, 512)\n",
        "    downsample1(96, 4),  # (batch_size, 8, 8, 512)\n",
        "    #downsample1(512, 4),  # (batch_size, 4, 4, 512)\n",
        "    #downsample1(512, 4),  # (batch_size, 2, 2, 512)\n",
        "    #downsample1(512, 4),  # (batch_size, 1, 1, 512)\n",
        "  ]\n",
        "\n",
        "  up_stack = [\n",
        "    #upsample1(512, 4, apply_dropout=True),  # (batch_size, 2, 2, 1024)\n",
        "    #upsample1(512, 4, apply_dropout=True),  # (batch_size, 4, 4, 1024)\n",
        "    #upsample1(512, 4, apply_dropout=True),  # (batch_size, 8, 8, 1024)\n",
        "    upsample1(64, 4),  # (batch_size, 16, 16, 1024)\n",
        "    upsample1(48, 4),  # (batch_size, 32, 32, 512)\n",
        "    upsample(128, 4),  # (batch_size, 64, 64, 256)\n",
        "    upsample(64, 4),  # (batch_size, 128, 128, 128)\n",
        "  ]\n",
        "\n",
        "  initializer = tf.random_normal_initializer(0., 0.02)\n",
        "  last = tf.keras.layers.Conv2DTranspose(3, 3,\n",
        "                                         strides=2,\n",
        "                                         padding='same',\n",
        "                                         kernel_initializer=initializer)  # (batch_size, 256, 256, 3)\n",
        "\n",
        "  x = inputs\n",
        "  #x = first(x)\n",
        "\n",
        "  # Downsampling through the model\n",
        "  skips = []\n",
        "  for down in down_stack:\n",
        "    x = down(x)\n",
        "    skips.append(x)\n",
        "\n",
        "  skips = reversed(skips[:-1])\n",
        "\n",
        "  # Upsampling and establishing the skip connections\n",
        "  for up, skip in zip(up_stack, skips):\n",
        "    x = up(x)\n",
        "    x = tf.keras.layers.Concatenate()([x, skip])\n",
        "\n",
        "  x = last(x)\n",
        "\n",
        "  return tf.keras.Model(inputs=inputs, outputs=x)"
      ]
    },
    {
      "cell_type": "code",
      "execution_count": 50,
      "metadata": {
        "colab": {
          "base_uri": "https://localhost:8080/"
        },
        "id": "66Tge2tyPE6D",
        "outputId": "a24f75b3-6f24-4488-cfe0-a5437094b155"
      },
      "outputs": [
        {
          "output_type": "stream",
          "name": "stdout",
          "text": [
            "Model: \"model_5\"\n",
            "__________________________________________________________________________________________________\n",
            " Layer (type)                Output Shape                 Param #   Connected to                  \n",
            "==================================================================================================\n",
            " input_6 (InputLayer)        [(None, 256, 256, 3)]        0         []                            \n",
            "                                                                                                  \n",
            " sequential_53 (Sequential)  (None, 128, 128, 64)         3072      ['input_6[0][0]']             \n",
            "                                                                                                  \n",
            " sequential_54 (Sequential)  (None, 64, 64, 128)          131584    ['sequential_53[0][0]']       \n",
            "                                                                                                  \n",
            " sequential_55 (Sequential)  (None, 32, 32, 48)           137616    ['sequential_54[0][0]']       \n",
            "                                                                                                  \n",
            " sequential_56 (Sequential)  (None, 16, 16, 64)           208064    ['sequential_55[0][0]']       \n",
            "                                                                                                  \n",
            " sequential_57 (Sequential)  (None, 8, 8, 96)             453408    ['sequential_56[0][0]']       \n",
            "                                                                                                  \n",
            " sequential_58 (Sequential)  (None, 16, 16, 64)           149632    ['sequential_57[0][0]']       \n",
            "                                                                                                  \n",
            " concatenate_24 (Concatenat  (None, 16, 16, 128)          0         ['sequential_58[0][0]',       \n",
            " e)                                                                  'sequential_56[0][0]']       \n",
            "                                                                                                  \n",
            " sequential_59 (Sequential)  (None, 32, 32, 48)           96864     ['concatenate_24[0][0]']      \n",
            "                                                                                                  \n",
            " concatenate_25 (Concatenat  (None, 32, 32, 96)           0         ['sequential_59[0][0]',       \n",
            " e)                                                                  'sequential_55[0][0]']       \n",
            "                                                                                                  \n",
            " sequential_60 (Sequential)  (None, 64, 64, 128)          197120    ['concatenate_25[0][0]']      \n",
            "                                                                                                  \n",
            " concatenate_26 (Concatenat  (None, 64, 64, 256)          0         ['sequential_60[0][0]',       \n",
            " e)                                                                  'sequential_54[0][0]']       \n",
            "                                                                                                  \n",
            " sequential_61 (Sequential)  (None, 128, 128, 64)         262400    ['concatenate_26[0][0]']      \n",
            "                                                                                                  \n",
            " concatenate_27 (Concatenat  (None, 128, 128, 128)        0         ['sequential_61[0][0]',       \n",
            " e)                                                                  'sequential_53[0][0]']       \n",
            "                                                                                                  \n",
            " conv2d_transpose_27 (Conv2  (None, 256, 256, 3)          3459      ['concatenate_27[0][0]']      \n",
            " DTranspose)                                                                                      \n",
            "                                                                                                  \n",
            "==================================================================================================\n",
            "Total params: 1643219 (6.27 MB)\n",
            "Trainable params: 1627315 (6.21 MB)\n",
            "Non-trainable params: 15904 (62.12 KB)\n",
            "__________________________________________________________________________________________________\n"
          ]
        }
      ],
      "source": [
        "model = foolsunet()\n",
        "model.summary()"
      ]
    },
    {
      "cell_type": "code",
      "execution_count": 51,
      "metadata": {
        "colab": {
          "base_uri": "https://localhost:8080/",
          "height": 587
        },
        "id": "4ucnptWaj69U",
        "outputId": "a39ec4c6-70b4-4ed3-a396-7482e9143281"
      },
      "outputs": [
        {
          "output_type": "execute_result",
          "data": {
            "image/png": "[encoded data removed]",
            "text/plain": [
              "<IPython.core.display.Image object>"
            ]
          },
          "metadata": {},
          "execution_count": 51
        }
      ],
      "source": [
        "\n",
        "tf.keras.utils.plot_model(model, show_shapes=True, dpi=64)"
      ]
    },
    {
      "cell_type": "code",
      "execution_count": 52,
      "metadata": {
        "id": "_T9oYOGOx_UQ"
      },
      "outputs": [],
      "source": [
        "import tensorflow_datasets as tfds"
      ]
    },
    {
      "cell_type": "code",
      "execution_count": 53,
      "metadata": {
        "id": "T_kTE_y3fCPS"
      },
      "outputs": [],
      "source": [
        "dataset, info = tfds.load('oxford_iiit_pet:3.*.*', with_info=True)"
      ]
    },
    {
      "cell_type": "code",
      "execution_count": 54,
      "metadata": {
        "id": "lLaX-c2rruJY"
      },
      "outputs": [],
      "source": [
        "\n",
        "def normalize(input_image, input_mask):\n",
        "  input_image = tf.cast(input_image, tf.float32) / 255.0\n",
        "  input_mask -= 1\n",
        "  return input_image, input_mask"
      ]
    },
    {
      "cell_type": "code",
      "execution_count": 55,
      "metadata": {
        "id": "0ogd48-9r2Ng"
      },
      "outputs": [],
      "source": [
        "\n",
        "def load_image(datapoint):\n",
        "  input_image = tf.image.resize(datapoint['image'], (256, 256))\n",
        "  input_mask = tf.image.resize(\n",
        "    datapoint['segmentation_mask'],\n",
        "    (256, 256),\n",
        "    method = tf.image.ResizeMethod.NEAREST_NEIGHBOR,\n",
        "  )\n",
        "\n",
        "  input_image, input_mask = normalize(input_image, input_mask)\n",
        "\n",
        "  return input_image, input_mask"
      ]
    },
    {
      "cell_type": "code",
      "execution_count": 56,
      "metadata": {
        "id": "KjdaiFWEr3t9"
      },
      "outputs": [],
      "source": [
        "\n",
        "TRAIN_LENGTH = info.splits['train'].num_examples\n",
        "BATCH_SIZE = 64\n",
        "BUFFER_SIZE = 1000\n",
        "STEPS_PER_EPOCH = TRAIN_LENGTH // BATCH_SIZE"
      ]
    },
    {
      "cell_type": "code",
      "execution_count": 57,
      "metadata": {
        "id": "MxmCoz2rr9PG"
      },
      "outputs": [],
      "source": [
        "\n",
        "train_images = dataset['train'].map(load_image, num_parallel_calls=tf.data.AUTOTUNE)\n",
        "test_images = dataset['test'].map(load_image, num_parallel_calls=tf.data.AUTOTUNE)"
      ]
    },
    {
      "cell_type": "code",
      "execution_count": 58,
      "metadata": {
        "id": "jAv55SkfsMCE"
      },
      "outputs": [],
      "source": [
        "\n",
        "class Augment(tf.keras.layers.Layer):\n",
        "  def __init__(self, seed=42):\n",
        "    super().__init__()\n",
        "    # both use the same seed, so they'll make the same random changes.\n",
        "    self.augment_inputs = tf.keras.layers.RandomFlip(mode=\"horizontal\", seed=seed)\n",
        "    self.augment_labels = tf.keras.layers.RandomFlip(mode=\"horizontal\", seed=seed)\n",
        "\n",
        "  def call(self, inputs, labels):\n",
        "    inputs = self.augment_inputs(inputs)\n",
        "    labels = self.augment_labels(labels)\n",
        "    return inputs, labels"
      ]
    },
    {
      "cell_type": "code",
      "execution_count": 59,
      "metadata": {
        "id": "18sWhD2esNOo"
      },
      "outputs": [],
      "source": [
        "\n",
        "train_batches = (\n",
        "    train_images\n",
        "    .cache()\n",
        "    .shuffle(BUFFER_SIZE)\n",
        "    .batch(BATCH_SIZE)\n",
        "    .repeat()\n",
        "    .map(Augment())\n",
        "    .prefetch(buffer_size=tf.data.AUTOTUNE))\n",
        "\n",
        "test_batches = test_images.batch(BATCH_SIZE)"
      ]
    },
    {
      "cell_type": "code",
      "execution_count": 60,
      "metadata": {
        "id": "vsCfcuxWsk8I"
      },
      "outputs": [],
      "source": [
        "model = foolsunet()\n",
        "\n",
        "model.compile(optimizer='adam',\n",
        "              loss=tf.keras.losses.SparseCategoricalCrossentropy(from_logits=True),\n",
        "              metrics=['accuracy'])"
      ]
    },
    {
      "cell_type": "code",
      "execution_count": 61,
      "metadata": {
        "colab": {
          "base_uri": "https://localhost:8080/"
        },
        "id": "zUittpCPs3LA",
        "outputId": "7d6f473f-f3e2-4a5c-cf2e-f1659aefd7ba"
      },
      "outputs": [
        {
          "output_type": "stream",
          "name": "stdout",
          "text": [
            "Epoch 1/20\n",
            "57/57 [==============================] - 82s 819ms/step - loss: 0.7142 - accuracy: 0.7070 - val_loss: 0.9538 - val_accuracy: 0.5732\n",
            "Epoch 2/20\n",
            "57/57 [==============================] - 42s 731ms/step - loss: 0.5342 - accuracy: 0.7852 - val_loss: 0.9795 - val_accuracy: 0.5732\n",
            "Epoch 3/20\n",
            "57/57 [==============================] - 41s 725ms/step - loss: 0.4800 - accuracy: 0.8107 - val_loss: 1.1154 - val_accuracy: 0.5732\n",
            "Epoch 4/20\n",
            "57/57 [==============================] - 44s 768ms/step - loss: 0.4285 - accuracy: 0.8312 - val_loss: 1.1813 - val_accuracy: 0.5732\n",
            "Epoch 5/20\n",
            "57/57 [==============================] - 43s 752ms/step - loss: 0.3992 - accuracy: 0.8430 - val_loss: 1.2515 - val_accuracy: 0.5732\n",
            "Epoch 6/20\n",
            "57/57 [==============================] - 44s 767ms/step - loss: 0.3750 - accuracy: 0.8527 - val_loss: 1.3403 - val_accuracy: 0.5732\n",
            "Epoch 7/20\n",
            "57/57 [==============================] - 44s 766ms/step - loss: 0.3452 - accuracy: 0.8653 - val_loss: 1.4933 - val_accuracy: 0.5732\n",
            "Epoch 8/20\n",
            "57/57 [==============================] - 43s 749ms/step - loss: 0.3383 - accuracy: 0.8678 - val_loss: 2.3390 - val_accuracy: 0.5732\n",
            "Epoch 9/20\n",
            "57/57 [==============================] - 43s 763ms/step - loss: 0.3215 - accuracy: 0.8747 - val_loss: 1.7381 - val_accuracy: 0.5733\n",
            "Epoch 10/20\n",
            "57/57 [==============================] - 41s 726ms/step - loss: 0.3082 - accuracy: 0.8795 - val_loss: 0.6729 - val_accuracy: 0.7515\n",
            "Epoch 11/20\n",
            "57/57 [==============================] - 41s 722ms/step - loss: 0.2884 - accuracy: 0.8871 - val_loss: 0.4996 - val_accuracy: 0.8097\n",
            "Epoch 12/20\n",
            "57/57 [==============================] - 44s 767ms/step - loss: 0.2942 - accuracy: 0.8850 - val_loss: 0.3321 - val_accuracy: 0.8742\n",
            "Epoch 13/20\n",
            "57/57 [==============================] - 41s 725ms/step - loss: 0.2744 - accuracy: 0.8924 - val_loss: 0.3290 - val_accuracy: 0.8766\n",
            "Epoch 14/20\n",
            "57/57 [==============================] - 42s 730ms/step - loss: 0.2616 - accuracy: 0.8974 - val_loss: 0.3537 - val_accuracy: 0.8609\n",
            "Epoch 15/20\n",
            "57/57 [==============================] - 41s 725ms/step - loss: 0.2543 - accuracy: 0.8998 - val_loss: 0.3433 - val_accuracy: 0.8728\n",
            "Epoch 16/20\n",
            "57/57 [==============================] - 41s 726ms/step - loss: 0.2534 - accuracy: 0.9005 - val_loss: 0.3269 - val_accuracy: 0.8771\n",
            "Epoch 17/20\n",
            "57/57 [==============================] - 44s 770ms/step - loss: 0.2497 - accuracy: 0.9014 - val_loss: 0.3513 - val_accuracy: 0.8670\n",
            "Epoch 18/20\n",
            "57/57 [==============================] - 44s 767ms/step - loss: 0.2461 - accuracy: 0.9029 - val_loss: 0.3176 - val_accuracy: 0.8810\n",
            "Epoch 19/20\n",
            "57/57 [==============================] - 44s 766ms/step - loss: 0.2338 - accuracy: 0.9077 - val_loss: 0.3278 - val_accuracy: 0.8805\n",
            "Epoch 20/20\n",
            "57/57 [==============================] - 42s 732ms/step - loss: 0.2249 - accuracy: 0.9113 - val_loss: 0.3755 - val_accuracy: 0.8664\n"
          ]
        }
      ],
      "source": [
        "\n",
        "EPOCHS = 20\n",
        "VAL_SUBSPLITS = 5\n",
        "VALIDATION_STEPS = info.splits['test'].num_examples//BATCH_SIZE//VAL_SUBSPLITS\n",
        "\n",
        "model_history = model.fit(train_batches, epochs=EPOCHS,\n",
        "                          steps_per_epoch=STEPS_PER_EPOCH,\n",
        "                          validation_steps=VALIDATION_STEPS,\n",
        "                          validation_data=test_batches,\n",
        "                          #callbacks=[DisplayCallback()]\n",
        ")"
      ]
    }
  ],
  "metadata": {
    "colab": {
      "provenance": [],
      "gpuType": "T4",
      "authorship_tag": "ABX9TyMCTWDY3gCvXaGcS0xzjWjl",
      "include_colab_link": true
    },
    "kernelspec": {
      "display_name": "Python 3",
      "name": "python3"
    },
    "language_info": {
      "name": "python"
    },
    "accelerator": "GPU"
  },
  "nbformat": 4,
  "nbformat_minor": 0
}