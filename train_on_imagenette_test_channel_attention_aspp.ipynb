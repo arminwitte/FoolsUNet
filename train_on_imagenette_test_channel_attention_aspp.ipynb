{
 "cells": [
  {
   "cell_type": "code",
   "execution_count": 1,
   "id": "910e5335",
   "metadata": {
    "execution": {
     "iopub.execute_input": "2024-09-28T05:09:42.559527Z",
     "iopub.status.busy": "2024-09-28T05:09:42.559155Z",
     "iopub.status.idle": "2024-09-28T05:09:51.540252Z",
     "shell.execute_reply": "2024-09-28T05:09:51.539244Z"
    },
    "executionInfo": {
     "elapsed": 1483,
     "status": "ok",
     "timestamp": 1716153909120,
     "user": {
      "displayName": "Armin Witte",
      "userId": "07594162465801018397"
     },
     "user_tz": -120
    },
    "id": "gDxqzYV1Ayp1",
    "outputId": "faaf0792-ed9b-4f0d-f506-4ec10ef00f66",
    "papermill": {
     "duration": 9.011898,
     "end_time": "2024-09-28T05:09:51.542976",
     "exception": false,
     "start_time": "2024-09-28T05:09:42.531078",
     "status": "completed"
    },
    "tags": []
   },
   "outputs": [
    {
     "name": "stdout",
     "output_type": "stream",
     "text": [
      "Cloning into 'FoolsUNet'...\r\n",
      "remote: Enumerating objects: 573, done.\u001b[K\r\n",
      "remote: Counting objects: 100% (9/9), done.\u001b[K\r\n",
      "remote: Compressing objects: 100% (7/7), done.\u001b[K\r\n",
      "remote: Total 573 (delta 3), reused 2 (delta 2), pack-reused 564 (from 1)\u001b[K\r\n",
      "Receiving objects: 100% (573/573), 111.99 MiB | 39.49 MiB/s, done.\r\n",
      "Resolving deltas: 100% (342/342), done.\r\n",
      "Updating files: 100% (41/41), done.\r\n",
      "/kaggle/working/FoolsUNet\n",
      "Already up to date.\r\n"
     ]
    }
   ],
   "source": [
    "try:\n",
    "    #!rm foolsunet_imagenette.weights.h5\n",
    "    passes += 1\n",
    "    #!git stash\n",
    "    !git pull --force\n",
    "except:\n",
    "    passes = 1\n",
    "    !git clone https://github.com/arminwitte/FoolsUNet.git\n",
    "    %cd FoolsUNet\n",
    "    !git pull --force"
   ]
  },
  {
   "cell_type": "code",
   "execution_count": 2,
   "id": "3b0d966e",
   "metadata": {
    "execution": {
     "iopub.execute_input": "2024-09-28T05:09:51.605352Z",
     "iopub.status.busy": "2024-09-28T05:09:51.604996Z",
     "iopub.status.idle": "2024-09-28T05:10:04.395996Z",
     "shell.execute_reply": "2024-09-28T05:10:04.394573Z"
    },
    "executionInfo": {
     "elapsed": 4365,
     "status": "ok",
     "timestamp": 1716153913480,
     "user": {
      "displayName": "Armin Witte",
      "userId": "07594162465801018397"
     },
     "user_tz": -120
    },
    "id": "7_B2eWxvDaHx",
    "outputId": "346b3212-1add-4049-cf1f-7c9c48e7f65b",
    "papermill": {
     "duration": 12.823289,
     "end_time": "2024-09-28T05:10:04.398183",
     "exception": false,
     "start_time": "2024-09-28T05:09:51.574894",
     "status": "completed"
    },
    "tags": []
   },
   "outputs": [
    {
     "name": "stderr",
     "output_type": "stream",
     "text": [
      "2024-09-28 05:09:53.395897: E external/local_xla/xla/stream_executor/cuda/cuda_dnn.cc:9261] Unable to register cuDNN factory: Attempting to register factory for plugin cuDNN when one has already been registered\n",
      "2024-09-28 05:09:53.396025: E external/local_xla/xla/stream_executor/cuda/cuda_fft.cc:607] Unable to register cuFFT factory: Attempting to register factory for plugin cuFFT when one has already been registered\n",
      "2024-09-28 05:09:53.528099: E external/local_xla/xla/stream_executor/cuda/cuda_blas.cc:1515] Unable to register cuBLAS factory: Attempting to register factory for plugin cuBLAS when one has already been registered\n"
     ]
    },
    {
     "name": "stdout",
     "output_type": "stream",
     "text": [
      "2.15.0\n"
     ]
    }
   ],
   "source": [
    "import tensorflow as tf\n",
    "\n",
    "print(tf.__version__)"
   ]
  },
  {
   "cell_type": "code",
   "execution_count": 3,
   "id": "8cdcadd8",
   "metadata": {
    "execution": {
     "iopub.execute_input": "2024-09-28T05:10:04.461356Z",
     "iopub.status.busy": "2024-09-28T05:10:04.460779Z",
     "iopub.status.idle": "2024-09-28T05:10:04.465039Z",
     "shell.execute_reply": "2024-09-28T05:10:04.464181Z"
    },
    "papermill": {
     "duration": 0.035229,
     "end_time": "2024-09-28T05:10:04.466891",
     "exception": false,
     "start_time": "2024-09-28T05:10:04.431662",
     "status": "completed"
    },
    "tags": []
   },
   "outputs": [],
   "source": [
    "#resolver = tf.distribute.cluster_resolver.TPUClusterResolver()\n",
    "#tf.config.experimental_connect_to_cluster(resolver)\n",
    "# This is the TPU initialization code that has to be at the beginning.\n",
    "#tf.tpu.experimental.initialize_tpu_system(resolver)\n",
    "#print(\"All devices: \", tf.config.list_logical_devices('TPU'))"
   ]
  },
  {
   "cell_type": "code",
   "execution_count": 4,
   "id": "62340952",
   "metadata": {
    "execution": {
     "iopub.execute_input": "2024-09-28T05:10:04.524062Z",
     "iopub.status.busy": "2024-09-28T05:10:04.523788Z",
     "iopub.status.idle": "2024-09-28T05:10:06.262402Z",
     "shell.execute_reply": "2024-09-28T05:10:06.261581Z"
    },
    "papermill": {
     "duration": 1.7696,
     "end_time": "2024-09-28T05:10:06.264670",
     "exception": false,
     "start_time": "2024-09-28T05:10:04.495070",
     "status": "completed"
    },
    "tags": []
   },
   "outputs": [],
   "source": [
    "import tensorflow_datasets as tfds"
   ]
  },
  {
   "cell_type": "code",
   "execution_count": 5,
   "id": "f35796dc",
   "metadata": {
    "execution": {
     "iopub.execute_input": "2024-09-28T05:10:06.322558Z",
     "iopub.status.busy": "2024-09-28T05:10:06.322174Z",
     "iopub.status.idle": "2024-09-28T05:10:46.695317Z",
     "shell.execute_reply": "2024-09-28T05:10:46.694515Z"
    },
    "executionInfo": {
     "elapsed": 192465,
     "status": "ok",
     "timestamp": 1716154115588,
     "user": {
      "displayName": "Armin Witte",
      "userId": "07594162465801018397"
     },
     "user_tz": -120
    },
    "id": "T_kTE_y3fCPS",
    "outputId": "1bbd8c57-9332-4101-92d4-bd20f2cc7e5d",
    "papermill": {
     "duration": 40.404419,
     "end_time": "2024-09-28T05:10:46.697521",
     "exception": false,
     "start_time": "2024-09-28T05:10:06.293102",
     "status": "completed"
    },
    "tags": []
   },
   "outputs": [
    {
     "name": "stdout",
     "output_type": "stream",
     "text": [
      "\u001b[1mDownloading and preparing dataset 325.84 MiB (download: 325.84 MiB, generated: 332.71 MiB, total: 658.55 MiB) to ./data/imagenette/320px-v2/1.0.0...\u001b[0m\n"
     ]
    },
    {
     "data": {
      "application/vnd.jupyter.widget-view+json": {
       "model_id": "107d19377c21453bad0a1ffe0d29152b",
       "version_major": 2,
       "version_minor": 0
      },
      "text/plain": [
       "Dl Completed...: 0 url [00:00, ? url/s]"
      ]
     },
     "metadata": {},
     "output_type": "display_data"
    },
    {
     "data": {
      "application/vnd.jupyter.widget-view+json": {
       "model_id": "e837aad5a5df4e8cb124edd023753694",
       "version_major": 2,
       "version_minor": 0
      },
      "text/plain": [
       "Dl Size...: 0 MiB [00:00, ? MiB/s]"
      ]
     },
     "metadata": {},
     "output_type": "display_data"
    },
    {
     "data": {
      "application/vnd.jupyter.widget-view+json": {
       "model_id": "f98d748eec1e4486a8afe07a59a5a7cf",
       "version_major": 2,
       "version_minor": 0
      },
      "text/plain": [
       "Extraction completed...: 0 file [00:00, ? file/s]"
      ]
     },
     "metadata": {},
     "output_type": "display_data"
    },
    {
     "data": {
      "application/vnd.jupyter.widget-view+json": {
       "model_id": "238f658af40349b88475c0e11d836305",
       "version_major": 2,
       "version_minor": 0
      },
      "text/plain": [
       "Generating splits...:   0%|          | 0/2 [00:00<?, ? splits/s]"
      ]
     },
     "metadata": {},
     "output_type": "display_data"
    },
    {
     "data": {
      "application/vnd.jupyter.widget-view+json": {
       "model_id": "472edf7bdd8144bcbd3a5d9f5bb7fd7b",
       "version_major": 2,
       "version_minor": 0
      },
      "text/plain": [
       "Generating train examples...:   0%|          | 0/9469 [00:00<?, ? examples/s]"
      ]
     },
     "metadata": {},
     "output_type": "display_data"
    },
    {
     "data": {
      "application/vnd.jupyter.widget-view+json": {
       "model_id": "449644049b8d443f92594183739b86a9",
       "version_major": 2,
       "version_minor": 0
      },
      "text/plain": [
       "Shuffling data/imagenette/320px-v2/1.0.0.incompleteNCUMVV/imagenette-train.tfrecord*...:   0%|          | 0/94…"
      ]
     },
     "metadata": {},
     "output_type": "display_data"
    },
    {
     "data": {
      "application/vnd.jupyter.widget-view+json": {
       "model_id": "904dba8e3a754ef8a66d20b8cdc31985",
       "version_major": 2,
       "version_minor": 0
      },
      "text/plain": [
       "Generating validation examples...:   0%|          | 0/3925 [00:00<?, ? examples/s]"
      ]
     },
     "metadata": {},
     "output_type": "display_data"
    },
    {
     "data": {
      "application/vnd.jupyter.widget-view+json": {
       "model_id": "e9a072ddf0c44dde9ae906c9019df295",
       "version_major": 2,
       "version_minor": 0
      },
      "text/plain": [
       "Shuffling data/imagenette/320px-v2/1.0.0.incompleteNCUMVV/imagenette-validation.tfrecord*...:   0%|          |…"
      ]
     },
     "metadata": {},
     "output_type": "display_data"
    },
    {
     "name": "stdout",
     "output_type": "stream",
     "text": [
      "\u001b[1mDataset imagenette downloaded and prepared to ./data/imagenette/320px-v2/1.0.0. Subsequent calls will reuse this data.\u001b[0m\n"
     ]
    }
   ],
   "source": [
    "dataset, info = tfds.load(\"imagenette/320px-v2:1.*.*\", with_info=True, data_dir=\"./data/\")"
   ]
  },
  {
   "cell_type": "code",
   "execution_count": 6,
   "id": "799f3517",
   "metadata": {
    "execution": {
     "iopub.execute_input": "2024-09-28T05:10:46.758361Z",
     "iopub.status.busy": "2024-09-28T05:10:46.758033Z",
     "iopub.status.idle": "2024-09-28T05:10:46.764784Z",
     "shell.execute_reply": "2024-09-28T05:10:46.763844Z"
    },
    "papermill": {
     "duration": 0.039285,
     "end_time": "2024-09-28T05:10:46.766824",
     "exception": false,
     "start_time": "2024-09-28T05:10:46.727539",
     "status": "completed"
    },
    "tags": []
   },
   "outputs": [
    {
     "data": {
      "text/plain": [
       "{Split('train'): <_PrefetchDataset element_spec={'image': TensorSpec(shape=(None, None, 3), dtype=tf.uint8, name=None), 'label': TensorSpec(shape=(), dtype=tf.int64, name=None)}>,\n",
       " Split('validation'): <_PrefetchDataset element_spec={'image': TensorSpec(shape=(None, None, 3), dtype=tf.uint8, name=None), 'label': TensorSpec(shape=(), dtype=tf.int64, name=None)}>}"
      ]
     },
     "execution_count": 6,
     "metadata": {},
     "output_type": "execute_result"
    }
   ],
   "source": [
    "dataset"
   ]
  },
  {
   "cell_type": "code",
   "execution_count": 7,
   "id": "892b25d9",
   "metadata": {
    "execution": {
     "iopub.execute_input": "2024-09-28T05:10:46.827876Z",
     "iopub.status.busy": "2024-09-28T05:10:46.827191Z",
     "iopub.status.idle": "2024-09-28T05:10:46.831499Z",
     "shell.execute_reply": "2024-09-28T05:10:46.830717Z"
    },
    "executionInfo": {
     "elapsed": 15,
     "status": "ok",
     "timestamp": 1716154115589,
     "user": {
      "displayName": "Armin Witte",
      "userId": "07594162465801018397"
     },
     "user_tz": -120
    },
    "id": "lLaX-c2rruJY",
    "jupyter": {
     "source_hidden": true
    },
    "papermill": {
     "duration": 0.036509,
     "end_time": "2024-09-28T05:10:46.833366",
     "exception": false,
     "start_time": "2024-09-28T05:10:46.796857",
     "status": "completed"
    },
    "tags": []
   },
   "outputs": [],
   "source": [
    "def normalize(input_image):\n",
    "    input_image = tf.cast(input_image, tf.float32) / 255.0\n",
    "    return input_image"
   ]
  },
  {
   "cell_type": "code",
   "execution_count": 8,
   "id": "4e9064a5",
   "metadata": {
    "execution": {
     "iopub.execute_input": "2024-09-28T05:10:46.893865Z",
     "iopub.status.busy": "2024-09-28T05:10:46.893612Z",
     "iopub.status.idle": "2024-09-28T05:10:46.898146Z",
     "shell.execute_reply": "2024-09-28T05:10:46.897331Z"
    },
    "executionInfo": {
     "elapsed": 14,
     "status": "ok",
     "timestamp": 1716154115590,
     "user": {
      "displayName": "Armin Witte",
      "userId": "07594162465801018397"
     },
     "user_tz": -120
    },
    "id": "0ogd48-9r2Ng",
    "papermill": {
     "duration": 0.036936,
     "end_time": "2024-09-28T05:10:46.900012",
     "exception": false,
     "start_time": "2024-09-28T05:10:46.863076",
     "status": "completed"
    },
    "tags": []
   },
   "outputs": [],
   "source": [
    "def load_image(datapoint):\n",
    "    input_image = tf.image.resize(datapoint[\"image\"], (256, 256))\n",
    "    input_label = datapoint[\"label\"]\n",
    "\n",
    "    input_image = normalize(input_image)\n",
    "\n",
    "    return input_image, input_label"
   ]
  },
  {
   "cell_type": "code",
   "execution_count": 9,
   "id": "9d5e8018",
   "metadata": {
    "execution": {
     "iopub.execute_input": "2024-09-28T05:10:46.964397Z",
     "iopub.status.busy": "2024-09-28T05:10:46.964031Z",
     "iopub.status.idle": "2024-09-28T05:10:46.969394Z",
     "shell.execute_reply": "2024-09-28T05:10:46.968519Z"
    },
    "papermill": {
     "duration": 0.041947,
     "end_time": "2024-09-28T05:10:46.971538",
     "exception": false,
     "start_time": "2024-09-28T05:10:46.929591",
     "status": "completed"
    },
    "tags": []
   },
   "outputs": [
    {
     "name": "stdout",
     "output_type": "stream",
     "text": [
      "train length: 9469\n",
      "train length: 147.953125\n",
      "train length: 147\n"
     ]
    }
   ],
   "source": [
    "TRAIN_LENGTH = info.splits[\"train\"].num_examples\n",
    "BATCH_SIZE = 64\n",
    "BUFFER_SIZE = TRAIN_LENGTH\n",
    "STEPS_PER_EPOCH = TRAIN_LENGTH // BATCH_SIZE\n",
    "print(f\"train length: {TRAIN_LENGTH}\")\n",
    "print(f\"train length: {TRAIN_LENGTH / BATCH_SIZE}\")\n",
    "print(f\"train length: {STEPS_PER_EPOCH}\")"
   ]
  },
  {
   "cell_type": "code",
   "execution_count": 10,
   "id": "2401c255",
   "metadata": {
    "execution": {
     "iopub.execute_input": "2024-09-28T05:10:47.033139Z",
     "iopub.status.busy": "2024-09-28T05:10:47.032821Z",
     "iopub.status.idle": "2024-09-28T05:10:47.160556Z",
     "shell.execute_reply": "2024-09-28T05:10:47.159330Z"
    },
    "executionInfo": {
     "elapsed": 12,
     "status": "ok",
     "timestamp": 1716154115590,
     "user": {
      "displayName": "Armin Witte",
      "userId": "07594162465801018397"
     },
     "user_tz": -120
    },
    "id": "MxmCoz2rr9PG",
    "papermill": {
     "duration": 0.161731,
     "end_time": "2024-09-28T05:10:47.164109",
     "exception": false,
     "start_time": "2024-09-28T05:10:47.002378",
     "status": "completed"
    },
    "tags": []
   },
   "outputs": [],
   "source": [
    "train_images = dataset[\"train\"].map(load_image, num_parallel_calls=tf.data.AUTOTUNE)\n",
    "test_images = dataset[\"validation\"].map(load_image, num_parallel_calls=tf.data.AUTOTUNE)"
   ]
  },
  {
   "cell_type": "code",
   "execution_count": 11,
   "id": "86867089",
   "metadata": {
    "execution": {
     "iopub.execute_input": "2024-09-28T05:10:47.230604Z",
     "iopub.status.busy": "2024-09-28T05:10:47.230210Z",
     "iopub.status.idle": "2024-09-28T05:10:47.237195Z",
     "shell.execute_reply": "2024-09-28T05:10:47.236320Z"
    },
    "executionInfo": {
     "elapsed": 13,
     "status": "ok",
     "timestamp": 1716154115591,
     "user": {
      "displayName": "Armin Witte",
      "userId": "07594162465801018397"
     },
     "user_tz": -120
    },
    "id": "jAv55SkfsMCE",
    "papermill": {
     "duration": 0.042662,
     "end_time": "2024-09-28T05:10:47.239210",
     "exception": false,
     "start_time": "2024-09-28T05:10:47.196548",
     "status": "completed"
    },
    "tags": []
   },
   "outputs": [],
   "source": [
    "from tensorflow.keras import layers\n",
    "class Augment(layers.Layer):\n",
    "    def __init__(self, seed=42):\n",
    "        super().__init__()\n",
    "        # both use the same seed, so they'll make the same random changes.\n",
    "        self.augment_inputs = layers.RandomFlip(mode=\"horizontal\", seed=seed)\n",
    "\n",
    "    def call(self, inputs, labels):\n",
    "        inputs = self.augment_inputs(inputs)\n",
    "        return inputs, labels"
   ]
  },
  {
   "cell_type": "code",
   "execution_count": 12,
   "id": "9ae8f09c",
   "metadata": {
    "execution": {
     "iopub.execute_input": "2024-09-28T05:10:47.301385Z",
     "iopub.status.busy": "2024-09-28T05:10:47.301010Z",
     "iopub.status.idle": "2024-09-28T05:10:47.365821Z",
     "shell.execute_reply": "2024-09-28T05:10:47.365023Z"
    },
    "executionInfo": {
     "elapsed": 13,
     "status": "ok",
     "timestamp": 1716154115591,
     "user": {
      "displayName": "Armin Witte",
      "userId": "07594162465801018397"
     },
     "user_tz": -120
    },
    "id": "18sWhD2esNOo",
    "papermill": {
     "duration": 0.098161,
     "end_time": "2024-09-28T05:10:47.367747",
     "exception": false,
     "start_time": "2024-09-28T05:10:47.269586",
     "status": "completed"
    },
    "tags": []
   },
   "outputs": [],
   "source": [
    "train_batches = (\n",
    "    train_images.cache()\n",
    "    .shuffle(BUFFER_SIZE)\n",
    "    .repeat()\n",
    "    .batch(BATCH_SIZE, drop_remainder=True)\n",
    "    .map(Augment())\n",
    "    .prefetch(buffer_size=tf.data.AUTOTUNE)\n",
    ")\n",
    "\n",
    "test_batches = test_images.batch(BATCH_SIZE)"
   ]
  },
  {
   "cell_type": "markdown",
   "id": "4cf40509",
   "metadata": {
    "papermill": {
     "duration": 0.029955,
     "end_time": "2024-09-28T05:10:47.428126",
     "exception": false,
     "start_time": "2024-09-28T05:10:47.398171",
     "status": "completed"
    },
    "tags": []
   },
   "source": [
    "## Get pre-trained encoder and attach classification head"
   ]
  },
  {
   "cell_type": "code",
   "execution_count": 13,
   "id": "27930357",
   "metadata": {
    "execution": {
     "iopub.execute_input": "2024-09-28T05:10:47.489051Z",
     "iopub.status.busy": "2024-09-28T05:10:47.488708Z",
     "iopub.status.idle": "2024-09-28T05:10:47.501835Z",
     "shell.execute_reply": "2024-09-28T05:10:47.500956Z"
    },
    "papermill": {
     "duration": 0.045812,
     "end_time": "2024-09-28T05:10:47.503783",
     "exception": false,
     "start_time": "2024-09-28T05:10:47.457971",
     "status": "completed"
    },
    "tags": []
   },
   "outputs": [],
   "source": [
    "from foolsunet.model import foolsunet, encoder, classification_head"
   ]
  },
  {
   "cell_type": "code",
   "execution_count": 14,
   "id": "c0c1cbaa",
   "metadata": {
    "execution": {
     "iopub.execute_input": "2024-09-28T05:10:47.564205Z",
     "iopub.status.busy": "2024-09-28T05:10:47.563896Z",
     "iopub.status.idle": "2024-09-28T05:10:47.567750Z",
     "shell.execute_reply": "2024-09-28T05:10:47.566981Z"
    },
    "papermill": {
     "duration": 0.036059,
     "end_time": "2024-09-28T05:10:47.569525",
     "exception": false,
     "start_time": "2024-09-28T05:10:47.533466",
     "status": "completed"
    },
    "tags": []
   },
   "outputs": [],
   "source": [
    "num_classes = 10"
   ]
  },
  {
   "cell_type": "code",
   "execution_count": 15,
   "id": "c2e37d9c",
   "metadata": {
    "execution": {
     "iopub.execute_input": "2024-09-28T05:10:47.629805Z",
     "iopub.status.busy": "2024-09-28T05:10:47.629561Z",
     "iopub.status.idle": "2024-09-28T05:10:49.645374Z",
     "shell.execute_reply": "2024-09-28T05:10:49.644462Z"
    },
    "papermill": {
     "duration": 2.048399,
     "end_time": "2024-09-28T05:10:49.647563",
     "exception": false,
     "start_time": "2024-09-28T05:10:47.599164",
     "status": "completed"
    },
    "tags": []
   },
   "outputs": [
    {
     "name": "stdout",
     "output_type": "stream",
     "text": [
      "(None, 8, 8, 256)\n"
     ]
    }
   ],
   "source": [
    "strategy = tf.distribute.MirroredStrategy()\n",
    "#strategy = tf.distribute.TPUStrategy(resolver)\n",
    "with strategy.scope():\n",
    "    # base_model_1 = tf.keras.models.load_model(\"foolsunet_imagenet_resized_6-9_epoch.keras\")\n",
    "    # base_model_2 = foolsunet(channel_attention=\"eca\")\n",
    "    # base_model_1.summary()\n",
    "    enc = encoder()\n",
    "    print(enc.output_shape)\n",
    "    head = classification_head(num_classes, input_shape=enc.output_shape[1:])\n",
    "    "
   ]
  },
  {
   "cell_type": "code",
   "execution_count": 16,
   "id": "7362af7f",
   "metadata": {
    "execution": {
     "iopub.execute_input": "2024-09-28T05:10:49.709593Z",
     "iopub.status.busy": "2024-09-28T05:10:49.708916Z",
     "iopub.status.idle": "2024-09-28T05:10:49.713526Z",
     "shell.execute_reply": "2024-09-28T05:10:49.712651Z"
    },
    "papermill": {
     "duration": 0.037883,
     "end_time": "2024-09-28T05:10:49.715634",
     "exception": false,
     "start_time": "2024-09-28T05:10:49.677751",
     "status": "completed"
    },
    "tags": []
   },
   "outputs": [],
   "source": [
    "def assemble_model():\n",
    "    model = tf.keras.Sequential([enc,head])\n",
    "    model.build()\n",
    "    return model "
   ]
  },
  {
   "cell_type": "markdown",
   "id": "5b141195",
   "metadata": {
    "papermill": {
     "duration": 0.02941,
     "end_time": "2024-09-28T05:10:49.774571",
     "exception": false,
     "start_time": "2024-09-28T05:10:49.745161",
     "status": "completed"
    },
    "tags": []
   },
   "source": [
    "### Define encoder"
   ]
  },
  {
   "cell_type": "markdown",
   "id": "0dda0dfa",
   "metadata": {
    "execution": {
     "iopub.execute_input": "2024-09-25T13:54:20.190786Z",
     "iopub.status.busy": "2024-09-25T13:54:20.190449Z",
     "iopub.status.idle": "2024-09-25T13:54:20.196642Z",
     "shell.execute_reply": "2024-09-25T13:54:20.195736Z",
     "shell.execute_reply.started": "2024-09-25T13:54:20.190758Z"
    },
    "papermill": {
     "duration": 0.029452,
     "end_time": "2024-09-28T05:10:49.875429",
     "exception": false,
     "start_time": "2024-09-28T05:10:49.845977",
     "status": "completed"
    },
    "tags": []
   },
   "source": [
    "# Use the activations of these layers\n",
    "layer_names = [\n",
    "    'block_1_downsample',   # 64x64\n",
    "    #'block_2_downsample',   # 32x32\n",
    "]\n",
    "base_model_layers = [base_model_2.get_layer(name) for name in layer_names]\n",
    "layer_names = [\n",
    "    'block_2_invres_downsample',   # 32x32\n",
    "    'block_3_invres_downsample',   # 16x16\n",
    "    # 'block_4_invres_downsample',  # 8x8\n",
    "    # 'block_5_invres_downsample',      # 4x4\n",
    "    # 'block_6_invres_downsample'\n",
    "]\n",
    "base_model_layers += [base_model_2.get_layer(name) for name in layer_names]\n",
    "\n",
    "# # Create the feature extraction model\n",
    "# down_stack = tf.keras.Model(inputs=base_model.input, outputs=base_model_outputs)\n",
    "\n",
    "# down_stack.trainable = False"
   ]
  },
  {
   "cell_type": "markdown",
   "id": "3f21b460",
   "metadata": {
    "papermill": {
     "duration": 0.029422,
     "end_time": "2024-09-28T05:10:49.934769",
     "exception": false,
     "start_time": "2024-09-28T05:10:49.905347",
     "status": "completed"
    },
    "tags": []
   },
   "source": [
    "### Define classifier"
   ]
  },
  {
   "cell_type": "markdown",
   "id": "d1d72ef9",
   "metadata": {
    "execution": {
     "iopub.execute_input": "2024-09-25T13:54:20.198273Z",
     "iopub.status.busy": "2024-09-25T13:54:20.197779Z",
     "iopub.status.idle": "2024-09-25T13:54:20.213676Z",
     "shell.execute_reply": "2024-09-25T13:54:20.212805Z",
     "shell.execute_reply.started": "2024-09-25T13:54:20.198249Z"
    },
    "papermill": {
     "duration": 0.02971,
     "end_time": "2024-09-28T05:10:49.994355",
     "exception": false,
     "start_time": "2024-09-28T05:10:49.964645",
     "status": "completed"
    },
    "tags": []
   },
   "source": [
    "def assemble_model():\n",
    "    inputs = tf.keras.layers.Input(shape=[256, 256, 3])\n",
    "    x = inputs\n",
    "#     x = base_model.input\n",
    "#     x = down_stack(inputs)\n",
    "    for layer in base_model_layers:\n",
    "#         layer.trainable = False\n",
    "        x = layer(x)\n",
    "    x = tf.keras.layers.Conv2D(1024, 1)(x)\n",
    "    x = tf.keras.layers.BatchNormalization()(x)\n",
    "    x = tf.keras.layers.Dropout(0.3)(x)\n",
    "    x = tf.keras.layers.Activation(\"relu6\")(x)\n",
    "    x = tf.keras.layers.Conv2D(num_classes, 1)(x)\n",
    "    x = tf.keras.layers.GlobalAveragePooling2D(name=\"outputs\")(x)\n",
    "\n",
    "    \n",
    "    return tf.keras.Model(inputs=inputs, outputs=x)"
   ]
  },
  {
   "cell_type": "markdown",
   "id": "3d5f84bb",
   "metadata": {
    "execution": {
     "iopub.execute_input": "2024-09-25T13:52:27.554234Z",
     "iopub.status.busy": "2024-09-25T13:52:27.553982Z",
     "iopub.status.idle": "2024-09-25T13:52:27.571243Z",
     "shell.execute_reply": "2024-09-25T13:52:27.570448Z",
     "shell.execute_reply.started": "2024-09-25T13:52:27.554212Z"
    },
    "papermill": {
     "duration": 0.029711,
     "end_time": "2024-09-28T05:10:50.055223",
     "exception": false,
     "start_time": "2024-09-28T05:10:50.025512",
     "status": "completed"
    },
    "tags": []
   },
   "source": [
    "def assemble_model():\n",
    "    inputs = tf.keras.layers.Input(shape=[256, 256, 3])\n",
    "    x = inputs\n",
    "#     x = base_model.input\n",
    "#     x = down_stack(inputs)\n",
    "    for layer in base_model_layers:\n",
    "#         layer.trainable = False\n",
    "        x = layer(x)\n",
    "    x = tf.keras.layers.Conv2D(1024, 1)(x)\n",
    "    x = tf.keras.layers.BatchNormalization()(x)\n",
    "    x = tf.keras.layers.Dropout(0.5)(x)\n",
    "    x = tf.keras.layers.Activation(\"relu6\")(x)\n",
    "    x = tf.keras.layers.AveragePooling2D(32)(x)\n",
    "    x = tf.keras.layers.Conv2D(num_classes, 1)(x)\n",
    "    x = tf.keras.layers.Flatten(name=\"outputs\")(x)\n",
    "\n",
    "    \n",
    "    return tf.keras.Model(inputs=inputs, outputs=x)"
   ]
  },
  {
   "cell_type": "code",
   "execution_count": 17,
   "id": "5b3e876f",
   "metadata": {
    "execution": {
     "iopub.execute_input": "2024-09-28T05:10:50.118179Z",
     "iopub.status.busy": "2024-09-28T05:10:50.117310Z",
     "iopub.status.idle": "2024-09-28T05:10:50.121669Z",
     "shell.execute_reply": "2024-09-28T05:10:50.120760Z"
    },
    "papermill": {
     "duration": 0.037737,
     "end_time": "2024-09-28T05:10:50.123611",
     "exception": false,
     "start_time": "2024-09-28T05:10:50.085874",
     "status": "completed"
    },
    "tags": []
   },
   "outputs": [],
   "source": [
    "# classification_head = tf.keras.Sequential([\n",
    "#     tf.keras.layers.Input([8,8,128]),\n",
    "#     tf.keras.layers.Flatten(),\n",
    "#   tf.keras.layers.Dense(128, activation='relu'),\n",
    "#   tf.keras.layers.Dense(num_classes, name=\"outputs\"),])\n",
    "# # classification_head.build()"
   ]
  },
  {
   "cell_type": "code",
   "execution_count": 18,
   "id": "f94adda1",
   "metadata": {
    "execution": {
     "iopub.execute_input": "2024-09-28T05:10:50.186671Z",
     "iopub.status.busy": "2024-09-28T05:10:50.186030Z",
     "iopub.status.idle": "2024-09-28T05:10:50.190368Z",
     "shell.execute_reply": "2024-09-28T05:10:50.189482Z"
    },
    "papermill": {
     "duration": 0.037782,
     "end_time": "2024-09-28T05:10:50.192253",
     "exception": false,
     "start_time": "2024-09-28T05:10:50.154471",
     "status": "completed"
    },
    "tags": []
   },
   "outputs": [],
   "source": [
    "# model = tf.keras.Sequential([base_model.get_layer(name) for name in layer_names] + [layers.Flatten(),\n",
    "#   layers.Dense(128, activation='relu'),\n",
    "#   layers.Dense(num_classes, name=\"outputs\"),\n",
    "#                                                                                    ])\n",
    "# model.build()"
   ]
  },
  {
   "cell_type": "code",
   "execution_count": 19,
   "id": "0bb9c8f6",
   "metadata": {
    "execution": {
     "iopub.execute_input": "2024-09-28T05:10:50.256305Z",
     "iopub.status.busy": "2024-09-28T05:10:50.256022Z",
     "iopub.status.idle": "2024-09-28T05:10:50.296187Z",
     "shell.execute_reply": "2024-09-28T05:10:50.295190Z"
    },
    "executionInfo": {
     "elapsed": 12,
     "status": "ok",
     "timestamp": 1716154115591,
     "user": {
      "displayName": "Armin Witte",
      "userId": "07594162465801018397"
     },
     "user_tz": -120
    },
    "id": "vsCfcuxWsk8I",
    "papermill": {
     "duration": 0.0729,
     "end_time": "2024-09-28T05:10:50.298114",
     "exception": false,
     "start_time": "2024-09-28T05:10:50.225214",
     "status": "completed"
    },
    "tags": []
   },
   "outputs": [
    {
     "data": {
      "text/html": [
       "<pre style=\"white-space:pre;overflow-x:auto;line-height:normal;font-family:Menlo,'DejaVu Sans Mono',consolas,'Courier New',monospace\"><span style=\"font-weight: bold\">Model: \"sequential\"</span>\n",
       "</pre>\n"
      ],
      "text/plain": [
       "\u001b[1mModel: \"sequential\"\u001b[0m\n"
      ]
     },
     "metadata": {},
     "output_type": "display_data"
    },
    {
     "data": {
      "text/html": [
       "<pre style=\"white-space:pre;overflow-x:auto;line-height:normal;font-family:Menlo,'DejaVu Sans Mono',consolas,'Courier New',monospace\">┏━━━━━━━━━━━━━━━━━━━━━━━━━━━━━━━━━┳━━━━━━━━━━━━━━━━━━━━━━━━┳━━━━━━━━━━━━━━━┓\n",
       "┃<span style=\"font-weight: bold\"> Layer (type)                    </span>┃<span style=\"font-weight: bold\"> Output Shape           </span>┃<span style=\"font-weight: bold\">       Param # </span>┃\n",
       "┡━━━━━━━━━━━━━━━━━━━━━━━━━━━━━━━━━╇━━━━━━━━━━━━━━━━━━━━━━━━╇━━━━━━━━━━━━━━━┩\n",
       "│ functional_1 (<span style=\"color: #0087ff; text-decoration-color: #0087ff\">Functional</span>)       │ ?                      │     <span style=\"color: #00af00; text-decoration-color: #00af00\">2,744,510</span> │\n",
       "├─────────────────────────────────┼────────────────────────┼───────────────┤\n",
       "│ functional_3 (<span style=\"color: #0087ff; text-decoration-color: #0087ff\">Functional</span>)       │ ?                      │     <span style=\"color: #00af00; text-decoration-color: #00af00\">1,493,450</span> │\n",
       "└─────────────────────────────────┴────────────────────────┴───────────────┘\n",
       "</pre>\n"
      ],
      "text/plain": [
       "┏━━━━━━━━━━━━━━━━━━━━━━━━━━━━━━━━━┳━━━━━━━━━━━━━━━━━━━━━━━━┳━━━━━━━━━━━━━━━┓\n",
       "┃\u001b[1m \u001b[0m\u001b[1mLayer (type)                   \u001b[0m\u001b[1m \u001b[0m┃\u001b[1m \u001b[0m\u001b[1mOutput Shape          \u001b[0m\u001b[1m \u001b[0m┃\u001b[1m \u001b[0m\u001b[1m      Param #\u001b[0m\u001b[1m \u001b[0m┃\n",
       "┡━━━━━━━━━━━━━━━━━━━━━━━━━━━━━━━━━╇━━━━━━━━━━━━━━━━━━━━━━━━╇━━━━━━━━━━━━━━━┩\n",
       "│ functional_1 (\u001b[38;5;33mFunctional\u001b[0m)       │ ?                      │     \u001b[38;5;34m2,744,510\u001b[0m │\n",
       "├─────────────────────────────────┼────────────────────────┼───────────────┤\n",
       "│ functional_3 (\u001b[38;5;33mFunctional\u001b[0m)       │ ?                      │     \u001b[38;5;34m1,493,450\u001b[0m │\n",
       "└─────────────────────────────────┴────────────────────────┴───────────────┘\n"
      ]
     },
     "metadata": {},
     "output_type": "display_data"
    },
    {
     "data": {
      "text/html": [
       "<pre style=\"white-space:pre;overflow-x:auto;line-height:normal;font-family:Menlo,'DejaVu Sans Mono',consolas,'Courier New',monospace\"><span style=\"font-weight: bold\"> Total params: </span><span style=\"color: #00af00; text-decoration-color: #00af00\">4,237,960</span> (16.17 MB)\n",
       "</pre>\n"
      ],
      "text/plain": [
       "\u001b[1m Total params: \u001b[0m\u001b[38;5;34m4,237,960\u001b[0m (16.17 MB)\n"
      ]
     },
     "metadata": {},
     "output_type": "display_data"
    },
    {
     "data": {
      "text/html": [
       "<pre style=\"white-space:pre;overflow-x:auto;line-height:normal;font-family:Menlo,'DejaVu Sans Mono',consolas,'Courier New',monospace\"><span style=\"font-weight: bold\"> Trainable params: </span><span style=\"color: #00af00; text-decoration-color: #00af00\">4,208,280</span> (16.05 MB)\n",
       "</pre>\n"
      ],
      "text/plain": [
       "\u001b[1m Trainable params: \u001b[0m\u001b[38;5;34m4,208,280\u001b[0m (16.05 MB)\n"
      ]
     },
     "metadata": {},
     "output_type": "display_data"
    },
    {
     "data": {
      "text/html": [
       "<pre style=\"white-space:pre;overflow-x:auto;line-height:normal;font-family:Menlo,'DejaVu Sans Mono',consolas,'Courier New',monospace\"><span style=\"font-weight: bold\"> Non-trainable params: </span><span style=\"color: #00af00; text-decoration-color: #00af00\">29,680</span> (115.94 KB)\n",
       "</pre>\n"
      ],
      "text/plain": [
       "\u001b[1m Non-trainable params: \u001b[0m\u001b[38;5;34m29,680\u001b[0m (115.94 KB)\n"
      ]
     },
     "metadata": {},
     "output_type": "display_data"
    }
   ],
   "source": [
    "with strategy.scope():\n",
    "    model = assemble_model()\n",
    "    opt = tf.keras.optimizers.Adam(learning_rate=0.005)\n",
    "    model.compile(\n",
    "    optimizer=opt,\n",
    "    #Anything between 2 and `steps_per_epoch` could help here.\n",
    "    #steps_per_execution = 50,\n",
    "    loss=tf.keras.losses.SparseCategoricalCrossentropy(from_logits=True),\n",
    "    metrics=[\"accuracy\"],\n",
    ")\n",
    "    model.summary()\n"
   ]
  },
  {
   "cell_type": "code",
   "execution_count": 20,
   "id": "78da8ded",
   "metadata": {
    "execution": {
     "iopub.execute_input": "2024-09-28T05:10:50.360759Z",
     "iopub.status.busy": "2024-09-28T05:10:50.360033Z",
     "iopub.status.idle": "2024-09-28T05:10:50.565329Z",
     "shell.execute_reply": "2024-09-28T05:10:50.564193Z"
    },
    "papermill": {
     "duration": 0.238463,
     "end_time": "2024-09-28T05:10:50.567341",
     "exception": false,
     "start_time": "2024-09-28T05:10:50.328878",
     "status": "completed"
    },
    "tags": []
   },
   "outputs": [
    {
     "data": {
      "image/png": "[encoded data removed]",
      "text/plain": [
       "<IPython.core.display.Image object>"
      ]
     },
     "execution_count": 20,
     "metadata": {},
     "output_type": "execute_result"
    }
   ],
   "source": [
    "tf.keras.utils.plot_model(model, show_shapes=True, dpi=64)"
   ]
  },
  {
   "cell_type": "code",
   "execution_count": 21,
   "id": "240fd9eb",
   "metadata": {
    "execution": {
     "iopub.execute_input": "2024-09-28T05:10:50.630976Z",
     "iopub.status.busy": "2024-09-28T05:10:50.630649Z",
     "iopub.status.idle": "2024-09-28T05:38:30.802796Z",
     "shell.execute_reply": "2024-09-28T05:38:30.801952Z"
    },
    "id": "zUittpCPs3LA",
    "outputId": "b1bb6134-c9f4-4efb-d4f6-8221d8b7912a",
    "papermill": {
     "duration": 1660.206195,
     "end_time": "2024-09-28T05:38:30.805045",
     "exception": false,
     "start_time": "2024-09-28T05:10:50.598850",
     "status": "completed"
    },
    "tags": []
   },
   "outputs": [
    {
     "name": "stdout",
     "output_type": "stream",
     "text": [
      "Epoch 1/20\n"
     ]
    },
    {
     "name": "stderr",
     "output_type": "stream",
     "text": [
      "2024-09-28 05:11:18.919498: E tensorflow/core/grappler/optimizers/meta_optimizer.cc:961] layout failed: INVALID_ARGUMENT: Size of values 0 does not match size of permutation 4 @ fanin shape inStatefulPartitionedCall/sequential_1/functional_3_1/dropout_1/stateless_dropout/SelectV2-2-TransposeNHWCToNCHW-LayoutOptimizer\n"
     ]
    },
    {
     "name": "stdout",
     "output_type": "stream",
     "text": [
      "\u001b[1m147/147\u001b[0m \u001b[32m━━━━━━━━━━━━━━━━━━━━\u001b[0m\u001b[37m\u001b[0m \u001b[1m133s\u001b[0m 591ms/step - accuracy: 0.1591 - loss: 2.7349 - val_accuracy: 0.1445 - val_loss: 2.5801\n",
      "Epoch 2/20\n",
      "\u001b[1m147/147\u001b[0m \u001b[32m━━━━━━━━━━━━━━━━━━━━\u001b[0m\u001b[37m\u001b[0m \u001b[1m78s\u001b[0m 528ms/step - accuracy: 0.2557 - loss: 2.1076 - val_accuracy: 0.2381 - val_loss: 2.7133\n",
      "Epoch 3/20\n"
     ]
    },
    {
     "name": "stderr",
     "output_type": "stream",
     "text": [
      "/opt/conda/lib/python3.10/contextlib.py:153: UserWarning: Your input ran out of data; interrupting training. Make sure that your dataset or generator can generate at least `steps_per_epoch * epochs` batches. You may need to use the `.repeat()` function when building your dataset.\n",
      "  self.gen.throw(typ, value, traceback)\n"
     ]
    },
    {
     "name": "stdout",
     "output_type": "stream",
     "text": [
      "\u001b[1m147/147\u001b[0m \u001b[32m━━━━━━━━━━━━━━━━━━━━\u001b[0m\u001b[37m\u001b[0m \u001b[1m84s\u001b[0m 574ms/step - accuracy: 0.3567 - loss: 1.8605 - val_accuracy: 0.1537 - val_loss: 5.3661\n",
      "Epoch 4/20\n",
      "\u001b[1m147/147\u001b[0m \u001b[32m━━━━━━━━━━━━━━━━━━━━\u001b[0m\u001b[37m\u001b[0m \u001b[1m77s\u001b[0m 522ms/step - accuracy: 0.4152 - loss: 1.7212 - val_accuracy: 0.2381 - val_loss: 2.3459\n",
      "Epoch 5/20\n",
      "\u001b[1m147/147\u001b[0m \u001b[32m━━━━━━━━━━━━━━━━━━━━\u001b[0m\u001b[37m\u001b[0m \u001b[1m84s\u001b[0m 575ms/step - accuracy: 0.4646 - loss: 1.5627 - val_accuracy: 0.3007 - val_loss: 2.5944\n",
      "Epoch 6/20\n",
      "\u001b[1m147/147\u001b[0m \u001b[32m━━━━━━━━━━━━━━━━━━━━\u001b[0m\u001b[37m\u001b[0m \u001b[1m77s\u001b[0m 522ms/step - accuracy: 0.5377 - loss: 1.3879 - val_accuracy: 0.0952 - val_loss: 4.4370\n",
      "Epoch 7/20\n",
      "\u001b[1m147/147\u001b[0m \u001b[32m━━━━━━━━━━━━━━━━━━━━\u001b[0m\u001b[37m\u001b[0m \u001b[1m84s\u001b[0m 574ms/step - accuracy: 0.5662 - loss: 1.2806 - val_accuracy: 0.4577 - val_loss: 2.2608\n",
      "Epoch 8/20\n",
      "\u001b[1m147/147\u001b[0m \u001b[32m━━━━━━━━━━━━━━━━━━━━\u001b[0m\u001b[37m\u001b[0m \u001b[1m77s\u001b[0m 522ms/step - accuracy: 0.6273 - loss: 1.1495 - val_accuracy: 0.5238 - val_loss: 1.2648\n",
      "Epoch 9/20\n",
      "\u001b[1m147/147\u001b[0m \u001b[32m━━━━━━━━━━━━━━━━━━━━\u001b[0m\u001b[37m\u001b[0m \u001b[1m84s\u001b[0m 574ms/step - accuracy: 0.6603 - loss: 1.0527 - val_accuracy: 0.4588 - val_loss: 2.2852\n",
      "Epoch 10/20\n",
      "\u001b[1m147/147\u001b[0m \u001b[32m━━━━━━━━━━━━━━━━━━━━\u001b[0m\u001b[37m\u001b[0m \u001b[1m77s\u001b[0m 522ms/step - accuracy: 0.6808 - loss: 0.9581 - val_accuracy: 0.5714 - val_loss: 1.0317\n",
      "Epoch 11/20\n",
      "\u001b[1m147/147\u001b[0m \u001b[32m━━━━━━━━━━━━━━━━━━━━\u001b[0m\u001b[37m\u001b[0m \u001b[1m84s\u001b[0m 574ms/step - accuracy: 0.6939 - loss: 0.9374 - val_accuracy: 0.5766 - val_loss: 1.6006\n",
      "Epoch 12/20\n",
      "\u001b[1m147/147\u001b[0m \u001b[32m━━━━━━━━━━━━━━━━━━━━\u001b[0m\u001b[37m\u001b[0m \u001b[1m77s\u001b[0m 522ms/step - accuracy: 0.7113 - loss: 0.8932 - val_accuracy: 0.7143 - val_loss: 0.9581\n",
      "Epoch 13/20\n",
      "\u001b[1m147/147\u001b[0m \u001b[32m━━━━━━━━━━━━━━━━━━━━\u001b[0m\u001b[37m\u001b[0m \u001b[1m84s\u001b[0m 574ms/step - accuracy: 0.7371 - loss: 0.8185 - val_accuracy: 0.5246 - val_loss: 2.1410\n",
      "Epoch 14/20\n",
      "\u001b[1m147/147\u001b[0m \u001b[32m━━━━━━━━━━━━━━━━━━━━\u001b[0m\u001b[37m\u001b[0m \u001b[1m77s\u001b[0m 521ms/step - accuracy: 0.7352 - loss: 0.8081 - val_accuracy: 0.6667 - val_loss: 1.1155\n",
      "Epoch 15/20\n",
      "\u001b[1m147/147\u001b[0m \u001b[32m━━━━━━━━━━━━━━━━━━━━\u001b[0m\u001b[37m\u001b[0m \u001b[1m84s\u001b[0m 574ms/step - accuracy: 0.7561 - loss: 0.7741 - val_accuracy: 0.5981 - val_loss: 1.5942\n",
      "Epoch 16/20\n",
      "\u001b[1m147/147\u001b[0m \u001b[32m━━━━━━━━━━━━━━━━━━━━\u001b[0m\u001b[37m\u001b[0m \u001b[1m77s\u001b[0m 522ms/step - accuracy: 0.7837 - loss: 0.6710 - val_accuracy: 0.7143 - val_loss: 1.6922\n",
      "Epoch 17/20\n",
      "\u001b[1m147/147\u001b[0m \u001b[32m━━━━━━━━━━━━━━━━━━━━\u001b[0m\u001b[37m\u001b[0m \u001b[1m84s\u001b[0m 574ms/step - accuracy: 0.7769 - loss: 0.6976 - val_accuracy: 0.5517 - val_loss: 2.1922\n",
      "Epoch 18/20\n",
      "\u001b[1m147/147\u001b[0m \u001b[32m━━━━━━━━━━━━━━━━━━━━\u001b[0m\u001b[37m\u001b[0m \u001b[1m77s\u001b[0m 522ms/step - accuracy: 0.7836 - loss: 0.6880 - val_accuracy: 0.7619 - val_loss: 0.6719\n",
      "Epoch 19/20\n",
      "\u001b[1m147/147\u001b[0m \u001b[32m━━━━━━━━━━━━━━━━━━━━\u001b[0m\u001b[37m\u001b[0m \u001b[1m84s\u001b[0m 574ms/step - accuracy: 0.7988 - loss: 0.6211 - val_accuracy: 0.6119 - val_loss: 1.6920\n",
      "Epoch 20/20\n",
      "\u001b[1m147/147\u001b[0m \u001b[32m━━━━━━━━━━━━━━━━━━━━\u001b[0m\u001b[37m\u001b[0m \u001b[1m77s\u001b[0m 522ms/step - accuracy: 0.8177 - loss: 0.5668 - val_accuracy: 0.7143 - val_loss: 1.2735\n"
     ]
    }
   ],
   "source": [
    "EPOCHS = 20\n",
    "VAL_SUBSPLITS = 1\n",
    "VALIDATION_STEPS = info.splits[\"validation\"].num_examples // BATCH_SIZE // VAL_SUBSPLITS\n",
    "\n",
    "model_history = model.fit(\n",
    "    train_batches,\n",
    "    epochs=EPOCHS,\n",
    "    steps_per_epoch=STEPS_PER_EPOCH,\n",
    "    validation_steps=VALIDATION_STEPS,\n",
    "    validation_data=test_batches,\n",
    "    # callbacks=[DisplayCallback()]\n",
    "    # callbacks=[tf.keras.callbacks.EarlyStopping(restore_best_weights=True, start_from_epoch=10)],\n",
    ")"
   ]
  },
  {
   "cell_type": "code",
   "execution_count": 22,
   "id": "3fbaece3",
   "metadata": {
    "execution": {
     "iopub.execute_input": "2024-09-28T05:38:31.350123Z",
     "iopub.status.busy": "2024-09-28T05:38:31.349246Z",
     "iopub.status.idle": "2024-09-28T05:38:32.812072Z",
     "shell.execute_reply": "2024-09-28T05:38:32.811199Z"
    },
    "papermill": {
     "duration": 1.736967,
     "end_time": "2024-09-28T05:38:32.815060",
     "exception": false,
     "start_time": "2024-09-28T05:38:31.078093",
     "status": "completed"
    },
    "tags": []
   },
   "outputs": [
    {
     "data": {
      "image/png": "[encoded data removed]",
      "text/plain": [
       "<Figure size 1000x1000 with 4 Axes>"
      ]
     },
     "metadata": {},
     "output_type": "display_data"
    }
   ],
   "source": [
    "import matplotlib.pyplot as plt\n",
    "fig, ax = plt.subplots(2, 2, figsize=(10, 10))\n",
    "\n",
    "ax[0, 0].plot(model_history.history[\"accuracy\"])\n",
    "ax[0, 0].plot(model_history.history[\"val_accuracy\"])\n",
    "ax[0, 0].set_title(\"accuracy\")\n",
    "ax[0, 0].set_ylabel(\"accuracy\")\n",
    "ax[0, 0].set_xlabel(\"epoch\")\n",
    "ax[0, 0].set_ylim(0.0,1.0)\n",
    "ax[0, 0].legend([\"train\", \"val\"], loc=\"lower right\")\n",
    "ax[0, 0].grid()\n",
    "\n",
    "\n",
    "ax[0, 1].plot(model_history.history[\"loss\"])\n",
    "ax[0, 1].plot(model_history.history[\"val_loss\"])\n",
    "ax[0, 1].set_yscale(\"log\")\n",
    "ax[0, 1].set_title(\"loss\")\n",
    "ax[0, 1].set_ylabel(\"loss\")\n",
    "ax[0, 1].set_xlabel(\"epoch\")\n",
    "ax[0, 1].set_ylim(0.1,10.0)\n",
    "ax[0, 1].legend([\"train\", \"val\"], loc=\"lower left\")\n",
    "ax[0, 1].grid()\n",
    "\n",
    "ax[1, 0].plot(model_history.history[\"accuracy\"])\n",
    "ax[1, 0].plot(model_history.history[\"val_accuracy\"])\n",
    "ax[1, 0].set_title(\"accuracy\")\n",
    "ax[1, 0].set_ylabel(\"accuracy\")\n",
    "ax[1, 0].set_xlabel(\"epoch\")\n",
    "ax[1, 0].set_ylim(0.6,1.0)\n",
    "ax[1, 0].legend([\"train\", \"val\"], loc=\"lower right\")\n",
    "ax[1, 0].grid()\n",
    "\n",
    "fig.tight_layout()"
   ]
  },
  {
   "cell_type": "code",
   "execution_count": 23,
   "id": "799b160f",
   "metadata": {
    "execution": {
     "iopub.execute_input": "2024-09-28T05:38:33.416124Z",
     "iopub.status.busy": "2024-09-28T05:38:33.415154Z",
     "iopub.status.idle": "2024-09-28T05:38:34.282094Z",
     "shell.execute_reply": "2024-09-28T05:38:34.280951Z"
    },
    "papermill": {
     "duration": 1.195854,
     "end_time": "2024-09-28T05:38:34.284803",
     "exception": false,
     "start_time": "2024-09-28T05:38:33.088949",
     "status": "completed"
    },
    "tags": []
   },
   "outputs": [],
   "source": [
    "# Save the entire model as a `.keras` zip archive.\n",
    "model.save(\"foolsunet_imagenette.keras\")"
   ]
  },
  {
   "cell_type": "code",
   "execution_count": 24,
   "id": "c99bcaaa",
   "metadata": {
    "execution": {
     "iopub.execute_input": "2024-09-28T05:38:34.829494Z",
     "iopub.status.busy": "2024-09-28T05:38:34.828823Z",
     "iopub.status.idle": "2024-09-28T05:38:35.551453Z",
     "shell.execute_reply": "2024-09-28T05:38:35.550429Z"
    },
    "papermill": {
     "duration": 0.998482,
     "end_time": "2024-09-28T05:38:35.555081",
     "exception": false,
     "start_time": "2024-09-28T05:38:34.556599",
     "status": "completed"
    },
    "tags": []
   },
   "outputs": [],
   "source": [
    "\n",
    "model.save_weights(\"foolsunet_imagenette.weights.h5\")"
   ]
  },
  {
   "cell_type": "code",
   "execution_count": 25,
   "id": "9cd4563f",
   "metadata": {
    "execution": {
     "iopub.execute_input": "2024-09-28T05:38:36.102167Z",
     "iopub.status.busy": "2024-09-28T05:38:36.101369Z",
     "iopub.status.idle": "2024-09-28T05:38:41.674452Z",
     "shell.execute_reply": "2024-09-28T05:38:41.673470Z"
    },
    "papermill": {
     "duration": 5.848785,
     "end_time": "2024-09-28T05:38:41.676461",
     "exception": false,
     "start_time": "2024-09-28T05:38:35.827676",
     "status": "completed"
    },
    "tags": []
   },
   "outputs": [
    {
     "data": {
      "text/html": [
       "<pre style=\"white-space:pre;overflow-x:auto;line-height:normal;font-family:Menlo,'DejaVu Sans Mono',consolas,'Courier New',monospace\"><span style=\"font-weight: bold\">Model: \"sequential\"</span>\n",
       "</pre>\n"
      ],
      "text/plain": [
       "\u001b[1mModel: \"sequential\"\u001b[0m\n"
      ]
     },
     "metadata": {},
     "output_type": "display_data"
    },
    {
     "data": {
      "text/html": [
       "<pre style=\"white-space:pre;overflow-x:auto;line-height:normal;font-family:Menlo,'DejaVu Sans Mono',consolas,'Courier New',monospace\">┏━━━━━━━━━━━━━━━━━━━━━━━━━━━━━━━━━┳━━━━━━━━━━━━━━━━━━━━━━━━┳━━━━━━━━━━━━━━━┓\n",
       "┃<span style=\"font-weight: bold\"> Layer (type)                    </span>┃<span style=\"font-weight: bold\"> Output Shape           </span>┃<span style=\"font-weight: bold\">       Param # </span>┃\n",
       "┡━━━━━━━━━━━━━━━━━━━━━━━━━━━━━━━━━╇━━━━━━━━━━━━━━━━━━━━━━━━╇━━━━━━━━━━━━━━━┩\n",
       "│ functional_1 (<span style=\"color: #0087ff; text-decoration-color: #0087ff\">Functional</span>)       │ ?                      │     <span style=\"color: #00af00; text-decoration-color: #00af00\">2,744,510</span> │\n",
       "├─────────────────────────────────┼────────────────────────┼───────────────┤\n",
       "│ functional_3 (<span style=\"color: #0087ff; text-decoration-color: #0087ff\">Functional</span>)       │ ?                      │     <span style=\"color: #00af00; text-decoration-color: #00af00\">1,493,450</span> │\n",
       "└─────────────────────────────────┴────────────────────────┴───────────────┘\n",
       "</pre>\n"
      ],
      "text/plain": [
       "┏━━━━━━━━━━━━━━━━━━━━━━━━━━━━━━━━━┳━━━━━━━━━━━━━━━━━━━━━━━━┳━━━━━━━━━━━━━━━┓\n",
       "┃\u001b[1m \u001b[0m\u001b[1mLayer (type)                   \u001b[0m\u001b[1m \u001b[0m┃\u001b[1m \u001b[0m\u001b[1mOutput Shape          \u001b[0m\u001b[1m \u001b[0m┃\u001b[1m \u001b[0m\u001b[1m      Param #\u001b[0m\u001b[1m \u001b[0m┃\n",
       "┡━━━━━━━━━━━━━━━━━━━━━━━━━━━━━━━━━╇━━━━━━━━━━━━━━━━━━━━━━━━╇━━━━━━━━━━━━━━━┩\n",
       "│ functional_1 (\u001b[38;5;33mFunctional\u001b[0m)       │ ?                      │     \u001b[38;5;34m2,744,510\u001b[0m │\n",
       "├─────────────────────────────────┼────────────────────────┼───────────────┤\n",
       "│ functional_3 (\u001b[38;5;33mFunctional\u001b[0m)       │ ?                      │     \u001b[38;5;34m1,493,450\u001b[0m │\n",
       "└─────────────────────────────────┴────────────────────────┴───────────────┘\n"
      ]
     },
     "metadata": {},
     "output_type": "display_data"
    },
    {
     "data": {
      "text/html": [
       "<pre style=\"white-space:pre;overflow-x:auto;line-height:normal;font-family:Menlo,'DejaVu Sans Mono',consolas,'Courier New',monospace\"><span style=\"font-weight: bold\"> Total params: </span><span style=\"color: #00af00; text-decoration-color: #00af00\">12,654,522</span> (48.27 MB)\n",
       "</pre>\n"
      ],
      "text/plain": [
       "\u001b[1m Total params: \u001b[0m\u001b[38;5;34m12,654,522\u001b[0m (48.27 MB)\n"
      ]
     },
     "metadata": {},
     "output_type": "display_data"
    },
    {
     "data": {
      "text/html": [
       "<pre style=\"white-space:pre;overflow-x:auto;line-height:normal;font-family:Menlo,'DejaVu Sans Mono',consolas,'Courier New',monospace\"><span style=\"font-weight: bold\"> Trainable params: </span><span style=\"color: #00af00; text-decoration-color: #00af00\">4,208,280</span> (16.05 MB)\n",
       "</pre>\n"
      ],
      "text/plain": [
       "\u001b[1m Trainable params: \u001b[0m\u001b[38;5;34m4,208,280\u001b[0m (16.05 MB)\n"
      ]
     },
     "metadata": {},
     "output_type": "display_data"
    },
    {
     "data": {
      "text/html": [
       "<pre style=\"white-space:pre;overflow-x:auto;line-height:normal;font-family:Menlo,'DejaVu Sans Mono',consolas,'Courier New',monospace\"><span style=\"font-weight: bold\"> Non-trainable params: </span><span style=\"color: #00af00; text-decoration-color: #00af00\">29,680</span> (115.94 KB)\n",
       "</pre>\n"
      ],
      "text/plain": [
       "\u001b[1m Non-trainable params: \u001b[0m\u001b[38;5;34m29,680\u001b[0m (115.94 KB)\n"
      ]
     },
     "metadata": {},
     "output_type": "display_data"
    },
    {
     "data": {
      "text/html": [
       "<pre style=\"white-space:pre;overflow-x:auto;line-height:normal;font-family:Menlo,'DejaVu Sans Mono',consolas,'Courier New',monospace\"><span style=\"font-weight: bold\"> Optimizer params: </span><span style=\"color: #00af00; text-decoration-color: #00af00\">8,416,562</span> (32.11 MB)\n",
       "</pre>\n"
      ],
      "text/plain": [
       "\u001b[1m Optimizer params: \u001b[0m\u001b[38;5;34m8,416,562\u001b[0m (32.11 MB)\n"
      ]
     },
     "metadata": {},
     "output_type": "display_data"
    }
   ],
   "source": [
    "new_model = tf.keras.models.load_model(\"foolsunet_imagenette.keras\")\n",
    "\n",
    "# Show the model architecture\n",
    "new_model.summary()"
   ]
  }
 ],
 "metadata": {
  "accelerator": "GPU",
  "colab": {
   "authorship_tag": "ABX9TyO8jtgoa2+gG2hQMdVpA7Jo",
   "gpuType": "T4",
   "provenance": []
  },
  "kaggle": {
   "accelerator": "gpu",
   "dataSources": [],
   "dockerImageVersionId": 30698,
   "isGpuEnabled": true,
   "isInternetEnabled": true,
   "language": "python",
   "sourceType": "notebook"
  },
  "kernelspec": {
   "display_name": "Python 3",
   "language": "python",
   "name": "python3"
  },
  "language_info": {
   "codemirror_mode": {
    "name": "ipython",
    "version": 3
   },
   "file_extension": ".py",
   "mimetype": "text/x-python",
   "name": "python",
   "nbconvert_exporter": "python",
   "pygments_lexer": "ipython3",
   "version": "3.10.13"
  },
  "papermill": {
   "default_parameters": {},
   "duration": 1745.299513,
   "end_time": "2024-09-28T05:38:45.043616",
   "environment_variables": {},
   "exception": null,
   "input_path": "__notebook__.ipynb",
   "output_path": "__notebook__.ipynb",
   "parameters": {},
   "start_time": "2024-09-28T05:09:39.744103",
   "version": "2.5.0"
  },
  "widgets": {
   "application/vnd.jupyter.widget-state+json": {
    "state": {
     "056de26c560c4b2dac2dc4c92d0448e9": {
      "model_module": "@jupyter-widgets/controls",
      "model_module_version": "1.5.0",
      "model_name": "HTMLModel",
      "state": {
       "_dom_classes": [],
       "_model_module": "@jupyter-widgets/controls",
       "_model_module_version": "1.5.0",
       "_model_name": "HTMLModel",
       "_view_count": null,
       "_view_module": "@jupyter-widgets/controls",
       "_view_module_version": "1.5.0",
       "_view_name": "HTMLView",
       "description": "",
       "description_tooltip": null,
       "layout": "IPY_MODEL_4f6d53ee7b6744e29f5112e3f92bd86a",
       "placeholder": "​",
       "style": "IPY_MODEL_bcccf6a9fc344209b48d4efe8f55bead",
       "value": "Extraction completed...: 100%"
      }
     },
     "0740e0a469544b91b69e0b9618ba56ee": {
      "model_module": "@jupyter-widgets/controls",
      "model_module_version": "1.5.0",
      "model_name": "FloatProgressModel",
      "state": {
       "_dom_classes": [],
       "_model_module": "@jupyter-widgets/controls",
       "_model_module_version": "1.5.0",
       "_model_name": "FloatProgressModel",
       "_view_count": null,
       "_view_module": "@jupyter-widgets/controls",
       "_view_module_version": "1.5.0",
       "_view_name": "ProgressView",
       "bar_style": "",
       "description": "",
       "description_tooltip": null,
       "layout": "IPY_MODEL_df9da7b29b31476da49da12b7a17c2af",
       "max": 2.0,
       "min": 0.0,
       "orientation": "horizontal",
       "style": "IPY_MODEL_a9e8d635edc0430e97522467adc91917",
       "value": 2.0
      }
     },
     "0b157b5087a946e5b09db5ed05d2b76f": {
      "model_module": "@jupyter-widgets/controls",
      "model_module_version": "1.5.0",
      "model_name": "DescriptionStyleModel",
      "state": {
       "_model_module": "@jupyter-widgets/controls",
       "_model_module_version": "1.5.0",
       "_model_name": "DescriptionStyleModel",
       "_view_count": null,
       "_view_module": "@jupyter-widgets/base",
       "_view_module_version": "1.2.0",
       "_view_name": "StyleView",
       "description_width": ""
      }
     },
     "0f5e3b74ca1f453aa7c5b3df33405f96": {
      "model_module": "@jupyter-widgets/base",
      "model_module_version": "1.2.0",
      "model_name": "LayoutModel",
      "state": {
       "_model_module": "@jupyter-widgets/base",
       "_model_module_version": "1.2.0",
       "_model_name": "LayoutModel",
       "_view_count": null,
       "_view_module": "@jupyter-widgets/base",
       "_view_module_version": "1.2.0",
       "_view_name": "LayoutView",
       "align_content": null,
       "align_items": null,
       "align_self": null,
       "border": null,
       "bottom": null,
       "display": null,
       "flex": null,
       "flex_flow": null,
       "grid_area": null,
       "grid_auto_columns": null,
       "grid_auto_flow": null,
       "grid_auto_rows": null,
       "grid_column": null,
       "grid_gap": null,
       "grid_row": null,
       "grid_template_areas": null,
       "grid_template_columns": null,
       "grid_template_rows": null,
       "height": null,
       "justify_content": null,
       "justify_items": null,
       "left": null,
       "margin": null,
       "max_height": null,
       "max_width": null,
       "min_height": null,
       "min_width": null,
       "object_fit": null,
       "object_position": null,
       "order": null,
       "overflow": null,
       "overflow_x": null,
       "overflow_y": null,
       "padding": null,
       "right": null,
       "top": null,
       "visibility": null,
       "width": "20px"
      }
     },
     "107d19377c21453bad0a1ffe0d29152b": {
      "model_module": "@jupyter-widgets/controls",
      "model_module_version": "1.5.0",
      "model_name": "HBoxModel",
      "state": {
       "_dom_classes": [],
       "_model_module": "@jupyter-widgets/controls",
       "_model_module_version": "1.5.0",
       "_model_name": "HBoxModel",
       "_view_count": null,
       "_view_module": "@jupyter-widgets/controls",
       "_view_module_version": "1.5.0",
       "_view_name": "HBoxView",
       "box_style": "",
       "children": [
        "IPY_MODEL_c401075cda674b8bbe9143428f6fc4e7",
        "IPY_MODEL_22566b8a1a274a46bb39e48b02e087b2",
        "IPY_MODEL_af806b33a31f4ea3b7dc973788a324bb"
       ],
       "layout": "IPY_MODEL_b12bc7269310472d8afc6e45ac237e8c"
      }
     },
     "10b00e350f5d4a0db9acd1bc6b279d1a": {
      "model_module": "@jupyter-widgets/controls",
      "model_module_version": "1.5.0",
      "model_name": "FloatProgressModel",
      "state": {
       "_dom_classes": [],
       "_model_module": "@jupyter-widgets/controls",
       "_model_module_version": "1.5.0",
       "_model_name": "FloatProgressModel",
       "_view_count": null,
       "_view_module": "@jupyter-widgets/controls",
       "_view_module_version": "1.5.0",
       "_view_name": "ProgressView",
       "bar_style": "",
       "description": "",
       "description_tooltip": null,
       "layout": "IPY_MODEL_b7caa155c7614b71a4d793e523b9aec9",
       "max": 9469.0,
       "min": 0.0,
       "orientation": "horizontal",
       "style": "IPY_MODEL_214c7a54ea6b44e1a5a95e50e7856ef5",
       "value": 9469.0
      }
     },
     "11c8e56e1ddc409380fbd5944752127c": {
      "model_module": "@jupyter-widgets/controls",
      "model_module_version": "1.5.0",
      "model_name": "HTMLModel",
      "state": {
       "_dom_classes": [],
       "_model_module": "@jupyter-widgets/controls",
       "_model_module_version": "1.5.0",
       "_model_name": "HTMLModel",
       "_view_count": null,
       "_view_module": "@jupyter-widgets/controls",
       "_view_module_version": "1.5.0",
       "_view_name": "HTMLView",
       "description": "",
       "description_tooltip": null,
       "layout": "IPY_MODEL_24717dbfedb74002a989891f3f2ae58c",
       "placeholder": "​",
       "style": "IPY_MODEL_8fb9a53edec24dc681f0b8e8d7d5708b",
       "value": " 6340/9469 [00:00&lt;00:00, 32163.95 examples/s]"
      }
     },
     "16ba1b6085f441a5bd88e0042f378ee6": {
      "model_module": "@jupyter-widgets/controls",
      "model_module_version": "1.5.0",
      "model_name": "DescriptionStyleModel",
      "state": {
       "_model_module": "@jupyter-widgets/controls",
       "_model_module_version": "1.5.0",
       "_model_name": "DescriptionStyleModel",
       "_view_count": null,
       "_view_module": "@jupyter-widgets/base",
       "_view_module_version": "1.2.0",
       "_view_name": "StyleView",
       "description_width": ""
      }
     },
     "1b147f6195d74008b3c5f3877780123d": {
      "model_module": "@jupyter-widgets/base",
      "model_module_version": "1.2.0",
      "model_name": "LayoutModel",
      "state": {
       "_model_module": "@jupyter-widgets/base",
       "_model_module_version": "1.2.0",
       "_model_name": "LayoutModel",
       "_view_count": null,
       "_view_module": "@jupyter-widgets/base",
       "_view_module_version": "1.2.0",
       "_view_name": "LayoutView",
       "align_content": null,
       "align_items": null,
       "align_self": null,
       "border": null,
       "bottom": null,
       "display": null,
       "flex": null,
       "flex_flow": null,
       "grid_area": null,
       "grid_auto_columns": null,
       "grid_auto_flow": null,
       "grid_auto_rows": null,
       "grid_column": null,
       "grid_gap": null,
       "grid_row": null,
       "grid_template_areas": null,
       "grid_template_columns": null,
       "grid_template_rows": null,
       "height": null,
       "justify_content": null,
       "justify_items": null,
       "left": null,
       "margin": null,
       "max_height": null,
       "max_width": null,
       "min_height": null,
       "min_width": null,
       "object_fit": null,
       "object_position": null,
       "order": null,
       "overflow": null,
       "overflow_x": null,
       "overflow_y": null,
       "padding": null,
       "right": null,
       "top": null,
       "visibility": null,
       "width": null
      }
     },
     "1e61013cb79e40b3a3db54a7fb934da2": {
      "model_module": "@jupyter-widgets/controls",
      "model_module_version": "1.5.0",
      "model_name": "FloatProgressModel",
      "state": {
       "_dom_classes": [],
       "_model_module": "@jupyter-widgets/controls",
       "_model_module_version": "1.5.0",
       "_model_name": "FloatProgressModel",
       "_view_count": null,
       "_view_module": "@jupyter-widgets/controls",
       "_view_module_version": "1.5.0",
       "_view_name": "ProgressView",
       "bar_style": "",
       "description": "",
       "description_tooltip": null,
       "layout": "IPY_MODEL_3a526523a2de40039ec483ed7128c824",
       "max": 3925.0,
       "min": 0.0,
       "orientation": "horizontal",
       "style": "IPY_MODEL_ca68a25e9dcf46c8a0f16930af240a92",
       "value": 3925.0
      }
     },
     "1eb1d39a8a14463b8b1c6aef97d7955d": {
      "model_module": "@jupyter-widgets/base",
      "model_module_version": "1.2.0",
      "model_name": "LayoutModel",
      "state": {
       "_model_module": "@jupyter-widgets/base",
       "_model_module_version": "1.2.0",
       "_model_name": "LayoutModel",
       "_view_count": null,
       "_view_module": "@jupyter-widgets/base",
       "_view_module_version": "1.2.0",
       "_view_name": "LayoutView",
       "align_content": null,
       "align_items": null,
       "align_self": null,
       "border": null,
       "bottom": null,
       "display": null,
       "flex": null,
       "flex_flow": null,
       "grid_area": null,
       "grid_auto_columns": null,
       "grid_auto_flow": null,
       "grid_auto_rows": null,
       "grid_column": null,
       "grid_gap": null,
       "grid_row": null,
       "grid_template_areas": null,
       "grid_template_columns": null,
       "grid_template_rows": null,
       "height": null,
       "justify_content": null,
       "justify_items": null,
       "left": null,
       "margin": null,
       "max_height": null,
       "max_width": null,
       "min_height": null,
       "min_width": null,
       "object_fit": null,
       "object_position": null,
       "order": null,
       "overflow": null,
       "overflow_x": null,
       "overflow_y": null,
       "padding": null,
       "right": null,
       "top": null,
       "visibility": null,
       "width": null
      }
     },
     "1f1f60834d8a4580acccd7e93248c0ac": {
      "model_module": "@jupyter-widgets/base",
      "model_module_version": "1.2.0",
      "model_name": "LayoutModel",
      "state": {
       "_model_module": "@jupyter-widgets/base",
       "_model_module_version": "1.2.0",
       "_model_name": "LayoutModel",
       "_view_count": null,
       "_view_module": "@jupyter-widgets/base",
       "_view_module_version": "1.2.0",
       "_view_name": "LayoutView",
       "align_content": null,
       "align_items": null,
       "align_self": null,
       "border": null,
       "bottom": null,
       "display": null,
       "flex": null,
       "flex_flow": null,
       "grid_area": null,
       "grid_auto_columns": null,
       "grid_auto_flow": null,
       "grid_auto_rows": null,
       "grid_column": null,
       "grid_gap": null,
       "grid_row": null,
       "grid_template_areas": null,
       "grid_template_columns": null,
       "grid_template_rows": null,
       "height": null,
       "justify_content": null,
       "justify_items": null,
       "left": null,
       "margin": null,
       "max_height": null,
       "max_width": null,
       "min_height": null,
       "min_width": null,
       "object_fit": null,
       "object_position": null,
       "order": null,
       "overflow": null,
       "overflow_x": null,
       "overflow_y": null,
       "padding": null,
       "right": null,
       "top": null,
       "visibility": null,
       "width": null
      }
     },
     "214c7a54ea6b44e1a5a95e50e7856ef5": {
      "model_module": "@jupyter-widgets/controls",
      "model_module_version": "1.5.0",
      "model_name": "ProgressStyleModel",
      "state": {
       "_model_module": "@jupyter-widgets/controls",
       "_model_module_version": "1.5.0",
       "_model_name": "ProgressStyleModel",
       "_view_count": null,
       "_view_module": "@jupyter-widgets/base",
       "_view_module_version": "1.2.0",
       "_view_name": "StyleView",
       "bar_color": null,
       "description_width": ""
      }
     },
     "22566b8a1a274a46bb39e48b02e087b2": {
      "model_module": "@jupyter-widgets/controls",
      "model_module_version": "1.5.0",
      "model_name": "FloatProgressModel",
      "state": {
       "_dom_classes": [],
       "_model_module": "@jupyter-widgets/controls",
       "_model_module_version": "1.5.0",
       "_model_name": "FloatProgressModel",
       "_view_count": null,
       "_view_module": "@jupyter-widgets/controls",
       "_view_module_version": "1.5.0",
       "_view_name": "ProgressView",
       "bar_style": "success",
       "description": "",
       "description_tooltip": null,
       "layout": "IPY_MODEL_de74a504571b4725b9c9c5b31481012e",
       "max": 1.0,
       "min": 0.0,
       "orientation": "horizontal",
       "style": "IPY_MODEL_9027646205b34b88ad37f86309651715",
       "value": 1.0
      }
     },
     "238f658af40349b88475c0e11d836305": {
      "model_module": "@jupyter-widgets/controls",
      "model_module_version": "1.5.0",
      "model_name": "HBoxModel",
      "state": {
       "_dom_classes": [],
       "_model_module": "@jupyter-widgets/controls",
       "_model_module_version": "1.5.0",
       "_model_name": "HBoxModel",
       "_view_count": null,
       "_view_module": "@jupyter-widgets/controls",
       "_view_module_version": "1.5.0",
       "_view_name": "HBoxView",
       "box_style": "",
       "children": [
        "IPY_MODEL_c3f0f6fe6a254753af6cd27667f9c153",
        "IPY_MODEL_0740e0a469544b91b69e0b9618ba56ee",
        "IPY_MODEL_e0a414f8f740400a991691fdf131e9f4"
       ],
       "layout": "IPY_MODEL_a6d6f657f5874d6caad3fe835de566c5"
      }
     },
     "24717dbfedb74002a989891f3f2ae58c": {
      "model_module": "@jupyter-widgets/base",
      "model_module_version": "1.2.0",
      "model_name": "LayoutModel",
      "state": {
       "_model_module": "@jupyter-widgets/base",
       "_model_module_version": "1.2.0",
       "_model_name": "LayoutModel",
       "_view_count": null,
       "_view_module": "@jupyter-widgets/base",
       "_view_module_version": "1.2.0",
       "_view_name": "LayoutView",
       "align_content": null,
       "align_items": null,
       "align_self": null,
       "border": null,
       "bottom": null,
       "display": null,
       "flex": null,
       "flex_flow": null,
       "grid_area": null,
       "grid_auto_columns": null,
       "grid_auto_flow": null,
       "grid_auto_rows": null,
       "grid_column": null,
       "grid_gap": null,
       "grid_row": null,
       "grid_template_areas": null,
       "grid_template_columns": null,
       "grid_template_rows": null,
       "height": null,
       "justify_content": null,
       "justify_items": null,
       "left": null,
       "margin": null,
       "max_height": null,
       "max_width": null,
       "min_height": null,
       "min_width": null,
       "object_fit": null,
       "object_position": null,
       "order": null,
       "overflow": null,
       "overflow_x": null,
       "overflow_y": null,
       "padding": null,
       "right": null,
       "top": null,
       "visibility": null,
       "width": null
      }
     },
     "27180f59118f49ee8604d132710b4121": {
      "model_module": "@jupyter-widgets/controls",
      "model_module_version": "1.5.0",
      "model_name": "DescriptionStyleModel",
      "state": {
       "_model_module": "@jupyter-widgets/controls",
       "_model_module_version": "1.5.0",
       "_model_name": "DescriptionStyleModel",
       "_view_count": null,
       "_view_module": "@jupyter-widgets/base",
       "_view_module_version": "1.2.0",
       "_view_name": "StyleView",
       "description_width": ""
      }
     },
     "275498cd0e30467186325fb30b84eaa7": {
      "model_module": "@jupyter-widgets/controls",
      "model_module_version": "1.5.0",
      "model_name": "DescriptionStyleModel",
      "state": {
       "_model_module": "@jupyter-widgets/controls",
       "_model_module_version": "1.5.0",
       "_model_name": "DescriptionStyleModel",
       "_view_count": null,
       "_view_module": "@jupyter-widgets/base",
       "_view_module_version": "1.2.0",
       "_view_name": "StyleView",
       "description_width": ""
      }
     },
     "2e816416252c4c9abf06cf5207abc047": {
      "model_module": "@jupyter-widgets/controls",
      "model_module_version": "1.5.0",
      "model_name": "ProgressStyleModel",
      "state": {
       "_model_module": "@jupyter-widgets/controls",
       "_model_module_version": "1.5.0",
       "_model_name": "ProgressStyleModel",
       "_view_count": null,
       "_view_module": "@jupyter-widgets/base",
       "_view_module_version": "1.2.0",
       "_view_name": "StyleView",
       "bar_color": null,
       "description_width": ""
      }
     },
     "3202b8c098394fa192a28a75b54a01b0": {
      "model_module": "@jupyter-widgets/controls",
      "model_module_version": "1.5.0",
      "model_name": "HTMLModel",
      "state": {
       "_dom_classes": [],
       "_model_module": "@jupyter-widgets/controls",
       "_model_module_version": "1.5.0",
       "_model_name": "HTMLModel",
       "_view_count": null,
       "_view_module": "@jupyter-widgets/controls",
       "_view_module_version": "1.5.0",
       "_view_name": "HTMLView",
       "description": "",
       "description_tooltip": null,
       "layout": "IPY_MODEL_a884793ff1524b0dbd7d0c0be3c65684",
       "placeholder": "​",
       "style": "IPY_MODEL_f97c0b4776b0402d958125f65324a602",
       "value": "Generating validation examples...:   0%"
      }
     },
     "354bda0764ff49eb90b2d466bce8c8bc": {
      "model_module": "@jupyter-widgets/controls",
      "model_module_version": "1.5.0",
      "model_name": "FloatProgressModel",
      "state": {
       "_dom_classes": [],
       "_model_module": "@jupyter-widgets/controls",
       "_model_module_version": "1.5.0",
       "_model_name": "FloatProgressModel",
       "_view_count": null,
       "_view_module": "@jupyter-widgets/controls",
       "_view_module_version": "1.5.0",
       "_view_name": "ProgressView",
       "bar_style": "success",
       "description": "",
       "description_tooltip": null,
       "layout": "IPY_MODEL_0f5e3b74ca1f453aa7c5b3df33405f96",
       "max": 1.0,
       "min": 0.0,
       "orientation": "horizontal",
       "style": "IPY_MODEL_2e816416252c4c9abf06cf5207abc047",
       "value": 1.0
      }
     },
     "3a526523a2de40039ec483ed7128c824": {
      "model_module": "@jupyter-widgets/base",
      "model_module_version": "1.2.0",
      "model_name": "LayoutModel",
      "state": {
       "_model_module": "@jupyter-widgets/base",
       "_model_module_version": "1.2.0",
       "_model_name": "LayoutModel",
       "_view_count": null,
       "_view_module": "@jupyter-widgets/base",
       "_view_module_version": "1.2.0",
       "_view_name": "LayoutView",
       "align_content": null,
       "align_items": null,
       "align_self": null,
       "border": null,
       "bottom": null,
       "display": null,
       "flex": null,
       "flex_flow": null,
       "grid_area": null,
       "grid_auto_columns": null,
       "grid_auto_flow": null,
       "grid_auto_rows": null,
       "grid_column": null,
       "grid_gap": null,
       "grid_row": null,
       "grid_template_areas": null,
       "grid_template_columns": null,
       "grid_template_rows": null,
       "height": null,
       "justify_content": null,
       "justify_items": null,
       "left": null,
       "margin": null,
       "max_height": null,
       "max_width": null,
       "min_height": null,
       "min_width": null,
       "object_fit": null,
       "object_position": null,
       "order": null,
       "overflow": null,
       "overflow_x": null,
       "overflow_y": null,
       "padding": null,
       "right": null,
       "top": null,
       "visibility": null,
       "width": null
      }
     },
     "4457ab9c8bd04907808278ea56aef7b5": {
      "model_module": "@jupyter-widgets/controls",
      "model_module_version": "1.5.0",
      "model_name": "HTMLModel",
      "state": {
       "_dom_classes": [],
       "_model_module": "@jupyter-widgets/controls",
       "_model_module_version": "1.5.0",
       "_model_name": "HTMLModel",
       "_view_count": null,
       "_view_module": "@jupyter-widgets/controls",
       "_view_module_version": "1.5.0",
       "_view_name": "HTMLView",
       "description": "",
       "description_tooltip": null,
       "layout": "IPY_MODEL_1b147f6195d74008b3c5f3877780123d",
       "placeholder": "​",
       "style": "IPY_MODEL_d596a6021b9b4b688912ed3d67087efe",
       "value": " 13395/13395 [00:35&lt;00:00, 788.84 file/s]"
      }
     },
     "449644049b8d443f92594183739b86a9": {
      "model_module": "@jupyter-widgets/controls",
      "model_module_version": "1.5.0",
      "model_name": "HBoxModel",
      "state": {
       "_dom_classes": [],
       "_model_module": "@jupyter-widgets/controls",
       "_model_module_version": "1.5.0",
       "_model_name": "HBoxModel",
       "_view_count": null,
       "_view_module": "@jupyter-widgets/controls",
       "_view_module_version": "1.5.0",
       "_view_name": "HBoxView",
       "box_style": "",
       "children": [
        "IPY_MODEL_efdeb591dc4441f09faf3084d1f3afe8",
        "IPY_MODEL_10b00e350f5d4a0db9acd1bc6b279d1a",
        "IPY_MODEL_11c8e56e1ddc409380fbd5944752127c"
       ],
       "layout": "IPY_MODEL_d6cac4f35cb24c2b99c7fbb090422c39"
      }
     },
     "472edf7bdd8144bcbd3a5d9f5bb7fd7b": {
      "model_module": "@jupyter-widgets/controls",
      "model_module_version": "1.5.0",
      "model_name": "HBoxModel",
      "state": {
       "_dom_classes": [],
       "_model_module": "@jupyter-widgets/controls",
       "_model_module_version": "1.5.0",
       "_model_name": "HBoxModel",
       "_view_count": null,
       "_view_module": "@jupyter-widgets/controls",
       "_view_module_version": "1.5.0",
       "_view_name": "HBoxView",
       "box_style": "",
       "children": [
        "IPY_MODEL_ea4bd2e3dba64b11b9db8b05ce362403",
        "IPY_MODEL_81b62d9cbdda416f92ce4df839bbd72e",
        "IPY_MODEL_ed2d2842893643debead19b9ee6b5356"
       ],
       "layout": "IPY_MODEL_fb2cfe3099024aacaf775531dfa9761e"
      }
     },
     "47eca7f94952406792bfb121252de7d2": {
      "model_module": "@jupyter-widgets/base",
      "model_module_version": "1.2.0",
      "model_name": "LayoutModel",
      "state": {
       "_model_module": "@jupyter-widgets/base",
       "_model_module_version": "1.2.0",
       "_model_name": "LayoutModel",
       "_view_count": null,
       "_view_module": "@jupyter-widgets/base",
       "_view_module_version": "1.2.0",
       "_view_name": "LayoutView",
       "align_content": null,
       "align_items": null,
       "align_self": null,
       "border": null,
       "bottom": null,
       "display": null,
       "flex": null,
       "flex_flow": null,
       "grid_area": null,
       "grid_auto_columns": null,
       "grid_auto_flow": null,
       "grid_auto_rows": null,
       "grid_column": null,
       "grid_gap": null,
       "grid_row": null,
       "grid_template_areas": null,
       "grid_template_columns": null,
       "grid_template_rows": null,
       "height": null,
       "justify_content": null,
       "justify_items": null,
       "left": null,
       "margin": null,
       "max_height": null,
       "max_width": null,
       "min_height": null,
       "min_width": null,
       "object_fit": null,
       "object_position": null,
       "order": null,
       "overflow": null,
       "overflow_x": null,
       "overflow_y": null,
       "padding": null,
       "right": null,
       "top": null,
       "visibility": null,
       "width": null
      }
     },
     "4e1931f3b64d4143a8c619960f62a775": {
      "model_module": "@jupyter-widgets/controls",
      "model_module_version": "1.5.0",
      "model_name": "FloatProgressModel",
      "state": {
       "_dom_classes": [],
       "_model_module": "@jupyter-widgets/controls",
       "_model_module_version": "1.5.0",
       "_model_name": "FloatProgressModel",
       "_view_count": null,
       "_view_module": "@jupyter-widgets/controls",
       "_view_module_version": "1.5.0",
       "_view_name": "ProgressView",
       "bar_style": "",
       "description": "",
       "description_tooltip": null,
       "layout": "IPY_MODEL_1f1f60834d8a4580acccd7e93248c0ac",
       "max": 3925.0,
       "min": 0.0,
       "orientation": "horizontal",
       "style": "IPY_MODEL_d3d933830e094513855970b3486b5038",
       "value": 3925.0
      }
     },
     "4f6d53ee7b6744e29f5112e3f92bd86a": {
      "model_module": "@jupyter-widgets/base",
      "model_module_version": "1.2.0",
      "model_name": "LayoutModel",
      "state": {
       "_model_module": "@jupyter-widgets/base",
       "_model_module_version": "1.2.0",
       "_model_name": "LayoutModel",
       "_view_count": null,
       "_view_module": "@jupyter-widgets/base",
       "_view_module_version": "1.2.0",
       "_view_name": "LayoutView",
       "align_content": null,
       "align_items": null,
       "align_self": null,
       "border": null,
       "bottom": null,
       "display": null,
       "flex": null,
       "flex_flow": null,
       "grid_area": null,
       "grid_auto_columns": null,
       "grid_auto_flow": null,
       "grid_auto_rows": null,
       "grid_column": null,
       "grid_gap": null,
       "grid_row": null,
       "grid_template_areas": null,
       "grid_template_columns": null,
       "grid_template_rows": null,
       "height": null,
       "justify_content": null,
       "justify_items": null,
       "left": null,
       "margin": null,
       "max_height": null,
       "max_width": null,
       "min_height": null,
       "min_width": null,
       "object_fit": null,
       "object_position": null,
       "order": null,
       "overflow": null,
       "overflow_x": null,
       "overflow_y": null,
       "padding": null,
       "right": null,
       "top": null,
       "visibility": null,
       "width": null
      }
     },
     "50eef29710e44066bce8268f141d81cd": {
      "model_module": "@jupyter-widgets/controls",
      "model_module_version": "1.5.0",
      "model_name": "HTMLModel",
      "state": {
       "_dom_classes": [],
       "_model_module": "@jupyter-widgets/controls",
       "_model_module_version": "1.5.0",
       "_model_name": "HTMLModel",
       "_view_count": null,
       "_view_module": "@jupyter-widgets/controls",
       "_view_module_version": "1.5.0",
       "_view_name": "HTMLView",
       "description": "",
       "description_tooltip": null,
       "layout": "IPY_MODEL_b98352f6c29347e3a5c8c068b266c3b4",
       "placeholder": "​",
       "style": "IPY_MODEL_af8c61a6d29a43cabf19ec98aad9d53e",
       "value": " 0/3925 [00:00&lt;?, ? examples/s]"
      }
     },
     "584fb733c38b48718a1537e4cf679954": {
      "model_module": "@jupyter-widgets/base",
      "model_module_version": "1.2.0",
      "model_name": "LayoutModel",
      "state": {
       "_model_module": "@jupyter-widgets/base",
       "_model_module_version": "1.2.0",
       "_model_name": "LayoutModel",
       "_view_count": null,
       "_view_module": "@jupyter-widgets/base",
       "_view_module_version": "1.2.0",
       "_view_name": "LayoutView",
       "align_content": null,
       "align_items": null,
       "align_self": null,
       "border": null,
       "bottom": null,
       "display": null,
       "flex": null,
       "flex_flow": null,
       "grid_area": null,
       "grid_auto_columns": null,
       "grid_auto_flow": null,
       "grid_auto_rows": null,
       "grid_column": null,
       "grid_gap": null,
       "grid_row": null,
       "grid_template_areas": null,
       "grid_template_columns": null,
       "grid_template_rows": null,
       "height": null,
       "justify_content": null,
       "justify_items": null,
       "left": null,
       "margin": null,
       "max_height": null,
       "max_width": null,
       "min_height": null,
       "min_width": null,
       "object_fit": null,
       "object_position": null,
       "order": null,
       "overflow": null,
       "overflow_x": null,
       "overflow_y": null,
       "padding": null,
       "right": null,
       "top": null,
       "visibility": null,
       "width": null
      }
     },
     "5a0ea7d3683f4674ac94cbd0dc5b105a": {
      "model_module": "@jupyter-widgets/controls",
      "model_module_version": "1.5.0",
      "model_name": "HTMLModel",
      "state": {
       "_dom_classes": [],
       "_model_module": "@jupyter-widgets/controls",
       "_model_module_version": "1.5.0",
       "_model_name": "HTMLModel",
       "_view_count": null,
       "_view_module": "@jupyter-widgets/controls",
       "_view_module_version": "1.5.0",
       "_view_name": "HTMLView",
       "description": "",
       "description_tooltip": null,
       "layout": "IPY_MODEL_47eca7f94952406792bfb121252de7d2",
       "placeholder": "​",
       "style": "IPY_MODEL_16ba1b6085f441a5bd88e0042f378ee6",
       "value": "Shuffling data/imagenette/320px-v2/1.0.0.incompleteNCUMVV/imagenette-validation.tfrecord*...:  77%"
      }
     },
     "6560898c5f844aaaa74e010e7a32dc38": {
      "model_module": "@jupyter-widgets/base",
      "model_module_version": "1.2.0",
      "model_name": "LayoutModel",
      "state": {
       "_model_module": "@jupyter-widgets/base",
       "_model_module_version": "1.2.0",
       "_model_name": "LayoutModel",
       "_view_count": null,
       "_view_module": "@jupyter-widgets/base",
       "_view_module_version": "1.2.0",
       "_view_name": "LayoutView",
       "align_content": null,
       "align_items": null,
       "align_self": null,
       "border": null,
       "bottom": null,
       "display": null,
       "flex": null,
       "flex_flow": null,
       "grid_area": null,
       "grid_auto_columns": null,
       "grid_auto_flow": null,
       "grid_auto_rows": null,
       "grid_column": null,
       "grid_gap": null,
       "grid_row": null,
       "grid_template_areas": null,
       "grid_template_columns": null,
       "grid_template_rows": null,
       "height": null,
       "justify_content": null,
       "justify_items": null,
       "left": null,
       "margin": null,
       "max_height": null,
       "max_width": null,
       "min_height": null,
       "min_width": null,
       "object_fit": null,
       "object_position": null,
       "order": null,
       "overflow": null,
       "overflow_x": null,
       "overflow_y": null,
       "padding": null,
       "right": null,
       "top": null,
       "visibility": null,
       "width": null
      }
     },
     "767eb38564264449a11761b744a5d517": {
      "model_module": "@jupyter-widgets/base",
      "model_module_version": "1.2.0",
      "model_name": "LayoutModel",
      "state": {
       "_model_module": "@jupyter-widgets/base",
       "_model_module_version": "1.2.0",
       "_model_name": "LayoutModel",
       "_view_count": null,
       "_view_module": "@jupyter-widgets/base",
       "_view_module_version": "1.2.0",
       "_view_name": "LayoutView",
       "align_content": null,
       "align_items": null,
       "align_self": null,
       "border": null,
       "bottom": null,
       "display": null,
       "flex": null,
       "flex_flow": null,
       "grid_area": null,
       "grid_auto_columns": null,
       "grid_auto_flow": null,
       "grid_auto_rows": null,
       "grid_column": null,
       "grid_gap": null,
       "grid_row": null,
       "grid_template_areas": null,
       "grid_template_columns": null,
       "grid_template_rows": null,
       "height": null,
       "justify_content": null,
       "justify_items": null,
       "left": null,
       "margin": null,
       "max_height": null,
       "max_width": null,
       "min_height": null,
       "min_width": null,
       "object_fit": null,
       "object_position": null,
       "order": null,
       "overflow": null,
       "overflow_x": null,
       "overflow_y": null,
       "padding": null,
       "right": null,
       "top": null,
       "visibility": null,
       "width": "20px"
      }
     },
     "7e04591348474fedbbd0aa00c4970571": {
      "model_module": "@jupyter-widgets/base",
      "model_module_version": "1.2.0",
      "model_name": "LayoutModel",
      "state": {
       "_model_module": "@jupyter-widgets/base",
       "_model_module_version": "1.2.0",
       "_model_name": "LayoutModel",
       "_view_count": null,
       "_view_module": "@jupyter-widgets/base",
       "_view_module_version": "1.2.0",
       "_view_name": "LayoutView",
       "align_content": null,
       "align_items": null,
       "align_self": null,
       "border": null,
       "bottom": null,
       "display": null,
       "flex": null,
       "flex_flow": null,
       "grid_area": null,
       "grid_auto_columns": null,
       "grid_auto_flow": null,
       "grid_auto_rows": null,
       "grid_column": null,
       "grid_gap": null,
       "grid_row": null,
       "grid_template_areas": null,
       "grid_template_columns": null,
       "grid_template_rows": null,
       "height": null,
       "justify_content": null,
       "justify_items": null,
       "left": null,
       "margin": null,
       "max_height": null,
       "max_width": null,
       "min_height": null,
       "min_width": null,
       "object_fit": null,
       "object_position": null,
       "order": null,
       "overflow": null,
       "overflow_x": null,
       "overflow_y": null,
       "padding": null,
       "right": null,
       "top": null,
       "visibility": "hidden",
       "width": null
      }
     },
     "81b62d9cbdda416f92ce4df839bbd72e": {
      "model_module": "@jupyter-widgets/controls",
      "model_module_version": "1.5.0",
      "model_name": "FloatProgressModel",
      "state": {
       "_dom_classes": [],
       "_model_module": "@jupyter-widgets/controls",
       "_model_module_version": "1.5.0",
       "_model_name": "FloatProgressModel",
       "_view_count": null,
       "_view_module": "@jupyter-widgets/controls",
       "_view_module_version": "1.5.0",
       "_view_name": "ProgressView",
       "bar_style": "",
       "description": "",
       "description_tooltip": null,
       "layout": "IPY_MODEL_99c7d004d0864c96887cea83f4571032",
       "max": 9469.0,
       "min": 0.0,
       "orientation": "horizontal",
       "style": "IPY_MODEL_ffec32dc1ae545cba50d5ded7a83ddb7",
       "value": 9469.0
      }
     },
     "83551e5e08904e968f0f2a49cc0deb45": {
      "model_module": "@jupyter-widgets/base",
      "model_module_version": "1.2.0",
      "model_name": "LayoutModel",
      "state": {
       "_model_module": "@jupyter-widgets/base",
       "_model_module_version": "1.2.0",
       "_model_name": "LayoutModel",
       "_view_count": null,
       "_view_module": "@jupyter-widgets/base",
       "_view_module_version": "1.2.0",
       "_view_name": "LayoutView",
       "align_content": null,
       "align_items": null,
       "align_self": null,
       "border": null,
       "bottom": null,
       "display": null,
       "flex": null,
       "flex_flow": null,
       "grid_area": null,
       "grid_auto_columns": null,
       "grid_auto_flow": null,
       "grid_auto_rows": null,
       "grid_column": null,
       "grid_gap": null,
       "grid_row": null,
       "grid_template_areas": null,
       "grid_template_columns": null,
       "grid_template_rows": null,
       "height": null,
       "justify_content": null,
       "justify_items": null,
       "left": null,
       "margin": null,
       "max_height": null,
       "max_width": null,
       "min_height": null,
       "min_width": null,
       "object_fit": null,
       "object_position": null,
       "order": null,
       "overflow": null,
       "overflow_x": null,
       "overflow_y": null,
       "padding": null,
       "right": null,
       "top": null,
       "visibility": null,
       "width": null
      }
     },
     "89af915a670d447288b97dd5f860591f": {
      "model_module": "@jupyter-widgets/controls",
      "model_module_version": "1.5.0",
      "model_name": "ProgressStyleModel",
      "state": {
       "_model_module": "@jupyter-widgets/controls",
       "_model_module_version": "1.5.0",
       "_model_name": "ProgressStyleModel",
       "_view_count": null,
       "_view_module": "@jupyter-widgets/base",
       "_view_module_version": "1.2.0",
       "_view_name": "StyleView",
       "bar_color": null,
       "description_width": ""
      }
     },
     "8fb9a53edec24dc681f0b8e8d7d5708b": {
      "model_module": "@jupyter-widgets/controls",
      "model_module_version": "1.5.0",
      "model_name": "DescriptionStyleModel",
      "state": {
       "_model_module": "@jupyter-widgets/controls",
       "_model_module_version": "1.5.0",
       "_model_name": "DescriptionStyleModel",
       "_view_count": null,
       "_view_module": "@jupyter-widgets/base",
       "_view_module_version": "1.2.0",
       "_view_name": "StyleView",
       "description_width": ""
      }
     },
     "9027646205b34b88ad37f86309651715": {
      "model_module": "@jupyter-widgets/controls",
      "model_module_version": "1.5.0",
      "model_name": "ProgressStyleModel",
      "state": {
       "_model_module": "@jupyter-widgets/controls",
       "_model_module_version": "1.5.0",
       "_model_name": "ProgressStyleModel",
       "_view_count": null,
       "_view_module": "@jupyter-widgets/base",
       "_view_module_version": "1.2.0",
       "_view_name": "StyleView",
       "bar_color": null,
       "description_width": ""
      }
     },
     "904dba8e3a754ef8a66d20b8cdc31985": {
      "model_module": "@jupyter-widgets/controls",
      "model_module_version": "1.5.0",
      "model_name": "HBoxModel",
      "state": {
       "_dom_classes": [],
       "_model_module": "@jupyter-widgets/controls",
       "_model_module_version": "1.5.0",
       "_model_name": "HBoxModel",
       "_view_count": null,
       "_view_module": "@jupyter-widgets/controls",
       "_view_module_version": "1.5.0",
       "_view_name": "HBoxView",
       "box_style": "",
       "children": [
        "IPY_MODEL_3202b8c098394fa192a28a75b54a01b0",
        "IPY_MODEL_4e1931f3b64d4143a8c619960f62a775",
        "IPY_MODEL_50eef29710e44066bce8268f141d81cd"
       ],
       "layout": "IPY_MODEL_fcba344854874079983295a17c063e16"
      }
     },
     "937f56f7435e4953bcc13578ee5b91fa": {
      "model_module": "@jupyter-widgets/base",
      "model_module_version": "1.2.0",
      "model_name": "LayoutModel",
      "state": {
       "_model_module": "@jupyter-widgets/base",
       "_model_module_version": "1.2.0",
       "_model_name": "LayoutModel",
       "_view_count": null,
       "_view_module": "@jupyter-widgets/base",
       "_view_module_version": "1.2.0",
       "_view_name": "LayoutView",
       "align_content": null,
       "align_items": null,
       "align_self": null,
       "border": null,
       "bottom": null,
       "display": null,
       "flex": null,
       "flex_flow": null,
       "grid_area": null,
       "grid_auto_columns": null,
       "grid_auto_flow": null,
       "grid_auto_rows": null,
       "grid_column": null,
       "grid_gap": null,
       "grid_row": null,
       "grid_template_areas": null,
       "grid_template_columns": null,
       "grid_template_rows": null,
       "height": null,
       "justify_content": null,
       "justify_items": null,
       "left": null,
       "margin": null,
       "max_height": null,
       "max_width": null,
       "min_height": null,
       "min_width": null,
       "object_fit": null,
       "object_position": null,
       "order": null,
       "overflow": null,
       "overflow_x": null,
       "overflow_y": null,
       "padding": null,
       "right": null,
       "top": null,
       "visibility": null,
       "width": null
      }
     },
     "968be1e8a0634fa9827de655f69b06a0": {
      "model_module": "@jupyter-widgets/controls",
      "model_module_version": "1.5.0",
      "model_name": "FloatProgressModel",
      "state": {
       "_dom_classes": [],
       "_model_module": "@jupyter-widgets/controls",
       "_model_module_version": "1.5.0",
       "_model_name": "FloatProgressModel",
       "_view_count": null,
       "_view_module": "@jupyter-widgets/controls",
       "_view_module_version": "1.5.0",
       "_view_name": "ProgressView",
       "bar_style": "success",
       "description": "",
       "description_tooltip": null,
       "layout": "IPY_MODEL_767eb38564264449a11761b744a5d517",
       "max": 1.0,
       "min": 0.0,
       "orientation": "horizontal",
       "style": "IPY_MODEL_89af915a670d447288b97dd5f860591f",
       "value": 1.0
      }
     },
     "979cd8c273c94352bf177617d5c41826": {
      "model_module": "@jupyter-widgets/controls",
      "model_module_version": "1.5.0",
      "model_name": "DescriptionStyleModel",
      "state": {
       "_model_module": "@jupyter-widgets/controls",
       "_model_module_version": "1.5.0",
       "_model_name": "DescriptionStyleModel",
       "_view_count": null,
       "_view_module": "@jupyter-widgets/base",
       "_view_module_version": "1.2.0",
       "_view_name": "StyleView",
       "description_width": ""
      }
     },
     "99c7d004d0864c96887cea83f4571032": {
      "model_module": "@jupyter-widgets/base",
      "model_module_version": "1.2.0",
      "model_name": "LayoutModel",
      "state": {
       "_model_module": "@jupyter-widgets/base",
       "_model_module_version": "1.2.0",
       "_model_name": "LayoutModel",
       "_view_count": null,
       "_view_module": "@jupyter-widgets/base",
       "_view_module_version": "1.2.0",
       "_view_name": "LayoutView",
       "align_content": null,
       "align_items": null,
       "align_self": null,
       "border": null,
       "bottom": null,
       "display": null,
       "flex": null,
       "flex_flow": null,
       "grid_area": null,
       "grid_auto_columns": null,
       "grid_auto_flow": null,
       "grid_auto_rows": null,
       "grid_column": null,
       "grid_gap": null,
       "grid_row": null,
       "grid_template_areas": null,
       "grid_template_columns": null,
       "grid_template_rows": null,
       "height": null,
       "justify_content": null,
       "justify_items": null,
       "left": null,
       "margin": null,
       "max_height": null,
       "max_width": null,
       "min_height": null,
       "min_width": null,
       "object_fit": null,
       "object_position": null,
       "order": null,
       "overflow": null,
       "overflow_x": null,
       "overflow_y": null,
       "padding": null,
       "right": null,
       "top": null,
       "visibility": null,
       "width": null
      }
     },
     "a0c8d9ac4ac5449f97a795d09cb0afad": {
      "model_module": "@jupyter-widgets/base",
      "model_module_version": "1.2.0",
      "model_name": "LayoutModel",
      "state": {
       "_model_module": "@jupyter-widgets/base",
       "_model_module_version": "1.2.0",
       "_model_name": "LayoutModel",
       "_view_count": null,
       "_view_module": "@jupyter-widgets/base",
       "_view_module_version": "1.2.0",
       "_view_name": "LayoutView",
       "align_content": null,
       "align_items": null,
       "align_self": null,
       "border": null,
       "bottom": null,
       "display": null,
       "flex": null,
       "flex_flow": null,
       "grid_area": null,
       "grid_auto_columns": null,
       "grid_auto_flow": null,
       "grid_auto_rows": null,
       "grid_column": null,
       "grid_gap": null,
       "grid_row": null,
       "grid_template_areas": null,
       "grid_template_columns": null,
       "grid_template_rows": null,
       "height": null,
       "justify_content": null,
       "justify_items": null,
       "left": null,
       "margin": null,
       "max_height": null,
       "max_width": null,
       "min_height": null,
       "min_width": null,
       "object_fit": null,
       "object_position": null,
       "order": null,
       "overflow": null,
       "overflow_x": null,
       "overflow_y": null,
       "padding": null,
       "right": null,
       "top": null,
       "visibility": null,
       "width": null
      }
     },
     "a6d6f657f5874d6caad3fe835de566c5": {
      "model_module": "@jupyter-widgets/base",
      "model_module_version": "1.2.0",
      "model_name": "LayoutModel",
      "state": {
       "_model_module": "@jupyter-widgets/base",
       "_model_module_version": "1.2.0",
       "_model_name": "LayoutModel",
       "_view_count": null,
       "_view_module": "@jupyter-widgets/base",
       "_view_module_version": "1.2.0",
       "_view_name": "LayoutView",
       "align_content": null,
       "align_items": null,
       "align_self": null,
       "border": null,
       "bottom": null,
       "display": null,
       "flex": null,
       "flex_flow": null,
       "grid_area": null,
       "grid_auto_columns": null,
       "grid_auto_flow": null,
       "grid_auto_rows": null,
       "grid_column": null,
       "grid_gap": null,
       "grid_row": null,
       "grid_template_areas": null,
       "grid_template_columns": null,
       "grid_template_rows": null,
       "height": null,
       "justify_content": null,
       "justify_items": null,
       "left": null,
       "margin": null,
       "max_height": null,
       "max_width": null,
       "min_height": null,
       "min_width": null,
       "object_fit": null,
       "object_position": null,
       "order": null,
       "overflow": null,
       "overflow_x": null,
       "overflow_y": null,
       "padding": null,
       "right": null,
       "top": null,
       "visibility": "hidden",
       "width": null
      }
     },
     "a884793ff1524b0dbd7d0c0be3c65684": {
      "model_module": "@jupyter-widgets/base",
      "model_module_version": "1.2.0",
      "model_name": "LayoutModel",
      "state": {
       "_model_module": "@jupyter-widgets/base",
       "_model_module_version": "1.2.0",
       "_model_name": "LayoutModel",
       "_view_count": null,
       "_view_module": "@jupyter-widgets/base",
       "_view_module_version": "1.2.0",
       "_view_name": "LayoutView",
       "align_content": null,
       "align_items": null,
       "align_self": null,
       "border": null,
       "bottom": null,
       "display": null,
       "flex": null,
       "flex_flow": null,
       "grid_area": null,
       "grid_auto_columns": null,
       "grid_auto_flow": null,
       "grid_auto_rows": null,
       "grid_column": null,
       "grid_gap": null,
       "grid_row": null,
       "grid_template_areas": null,
       "grid_template_columns": null,
       "grid_template_rows": null,
       "height": null,
       "justify_content": null,
       "justify_items": null,
       "left": null,
       "margin": null,
       "max_height": null,
       "max_width": null,
       "min_height": null,
       "min_width": null,
       "object_fit": null,
       "object_position": null,
       "order": null,
       "overflow": null,
       "overflow_x": null,
       "overflow_y": null,
       "padding": null,
       "right": null,
       "top": null,
       "visibility": null,
       "width": null
      }
     },
     "a8b595b9f524493883223ca13536e820": {
      "model_module": "@jupyter-widgets/controls",
      "model_module_version": "1.5.0",
      "model_name": "DescriptionStyleModel",
      "state": {
       "_model_module": "@jupyter-widgets/controls",
       "_model_module_version": "1.5.0",
       "_model_name": "DescriptionStyleModel",
       "_view_count": null,
       "_view_module": "@jupyter-widgets/base",
       "_view_module_version": "1.2.0",
       "_view_name": "StyleView",
       "description_width": ""
      }
     },
     "a9e8d635edc0430e97522467adc91917": {
      "model_module": "@jupyter-widgets/controls",
      "model_module_version": "1.5.0",
      "model_name": "ProgressStyleModel",
      "state": {
       "_model_module": "@jupyter-widgets/controls",
       "_model_module_version": "1.5.0",
       "_model_name": "ProgressStyleModel",
       "_view_count": null,
       "_view_module": "@jupyter-widgets/base",
       "_view_module_version": "1.2.0",
       "_view_name": "StyleView",
       "bar_color": null,
       "description_width": ""
      }
     },
     "ab0a07b6f5ed42da93292e2bcda028a2": {
      "model_module": "@jupyter-widgets/controls",
      "model_module_version": "1.5.0",
      "model_name": "HTMLModel",
      "state": {
       "_dom_classes": [],
       "_model_module": "@jupyter-widgets/controls",
       "_model_module_version": "1.5.0",
       "_model_name": "HTMLModel",
       "_view_count": null,
       "_view_module": "@jupyter-widgets/controls",
       "_view_module_version": "1.5.0",
       "_view_name": "HTMLView",
       "description": "",
       "description_tooltip": null,
       "layout": "IPY_MODEL_c1ec1b9c262f4b30b8be4e683fc64e5f",
       "placeholder": "​",
       "style": "IPY_MODEL_27180f59118f49ee8604d132710b4121",
       "value": " 325/325 [00:35&lt;00:00, 32.67 MiB/s]"
      }
     },
     "af806b33a31f4ea3b7dc973788a324bb": {
      "model_module": "@jupyter-widgets/controls",
      "model_module_version": "1.5.0",
      "model_name": "HTMLModel",
      "state": {
       "_dom_classes": [],
       "_model_module": "@jupyter-widgets/controls",
       "_model_module_version": "1.5.0",
       "_model_name": "HTMLModel",
       "_view_count": null,
       "_view_module": "@jupyter-widgets/controls",
       "_view_module_version": "1.5.0",
       "_view_name": "HTMLView",
       "description": "",
       "description_tooltip": null,
       "layout": "IPY_MODEL_dd3379ca16ba4766a02ea1e5d884534e",
       "placeholder": "​",
       "style": "IPY_MODEL_d7e949728a254c82986e41281c8a2a75",
       "value": " 1/1 [00:35&lt;00:00, 10.90s/ url]"
      }
     },
     "af8c61a6d29a43cabf19ec98aad9d53e": {
      "model_module": "@jupyter-widgets/controls",
      "model_module_version": "1.5.0",
      "model_name": "DescriptionStyleModel",
      "state": {
       "_model_module": "@jupyter-widgets/controls",
       "_model_module_version": "1.5.0",
       "_model_name": "DescriptionStyleModel",
       "_view_count": null,
       "_view_module": "@jupyter-widgets/base",
       "_view_module_version": "1.2.0",
       "_view_name": "StyleView",
       "description_width": ""
      }
     },
     "b12bc7269310472d8afc6e45ac237e8c": {
      "model_module": "@jupyter-widgets/base",
      "model_module_version": "1.2.0",
      "model_name": "LayoutModel",
      "state": {
       "_model_module": "@jupyter-widgets/base",
       "_model_module_version": "1.2.0",
       "_model_name": "LayoutModel",
       "_view_count": null,
       "_view_module": "@jupyter-widgets/base",
       "_view_module_version": "1.2.0",
       "_view_name": "LayoutView",
       "align_content": null,
       "align_items": null,
       "align_self": null,
       "border": null,
       "bottom": null,
       "display": null,
       "flex": null,
       "flex_flow": null,
       "grid_area": null,
       "grid_auto_columns": null,
       "grid_auto_flow": null,
       "grid_auto_rows": null,
       "grid_column": null,
       "grid_gap": null,
       "grid_row": null,
       "grid_template_areas": null,
       "grid_template_columns": null,
       "grid_template_rows": null,
       "height": null,
       "justify_content": null,
       "justify_items": null,
       "left": null,
       "margin": null,
       "max_height": null,
       "max_width": null,
       "min_height": null,
       "min_width": null,
       "object_fit": null,
       "object_position": null,
       "order": null,
       "overflow": null,
       "overflow_x": null,
       "overflow_y": null,
       "padding": null,
       "right": null,
       "top": null,
       "visibility": null,
       "width": null
      }
     },
     "b7caa155c7614b71a4d793e523b9aec9": {
      "model_module": "@jupyter-widgets/base",
      "model_module_version": "1.2.0",
      "model_name": "LayoutModel",
      "state": {
       "_model_module": "@jupyter-widgets/base",
       "_model_module_version": "1.2.0",
       "_model_name": "LayoutModel",
       "_view_count": null,
       "_view_module": "@jupyter-widgets/base",
       "_view_module_version": "1.2.0",
       "_view_name": "LayoutView",
       "align_content": null,
       "align_items": null,
       "align_self": null,
       "border": null,
       "bottom": null,
       "display": null,
       "flex": null,
       "flex_flow": null,
       "grid_area": null,
       "grid_auto_columns": null,
       "grid_auto_flow": null,
       "grid_auto_rows": null,
       "grid_column": null,
       "grid_gap": null,
       "grid_row": null,
       "grid_template_areas": null,
       "grid_template_columns": null,
       "grid_template_rows": null,
       "height": null,
       "justify_content": null,
       "justify_items": null,
       "left": null,
       "margin": null,
       "max_height": null,
       "max_width": null,
       "min_height": null,
       "min_width": null,
       "object_fit": null,
       "object_position": null,
       "order": null,
       "overflow": null,
       "overflow_x": null,
       "overflow_y": null,
       "padding": null,
       "right": null,
       "top": null,
       "visibility": null,
       "width": null
      }
     },
     "b98352f6c29347e3a5c8c068b266c3b4": {
      "model_module": "@jupyter-widgets/base",
      "model_module_version": "1.2.0",
      "model_name": "LayoutModel",
      "state": {
       "_model_module": "@jupyter-widgets/base",
       "_model_module_version": "1.2.0",
       "_model_name": "LayoutModel",
       "_view_count": null,
       "_view_module": "@jupyter-widgets/base",
       "_view_module_version": "1.2.0",
       "_view_name": "LayoutView",
       "align_content": null,
       "align_items": null,
       "align_self": null,
       "border": null,
       "bottom": null,
       "display": null,
       "flex": null,
       "flex_flow": null,
       "grid_area": null,
       "grid_auto_columns": null,
       "grid_auto_flow": null,
       "grid_auto_rows": null,
       "grid_column": null,
       "grid_gap": null,
       "grid_row": null,
       "grid_template_areas": null,
       "grid_template_columns": null,
       "grid_template_rows": null,
       "height": null,
       "justify_content": null,
       "justify_items": null,
       "left": null,
       "margin": null,
       "max_height": null,
       "max_width": null,
       "min_height": null,
       "min_width": null,
       "object_fit": null,
       "object_position": null,
       "order": null,
       "overflow": null,
       "overflow_x": null,
       "overflow_y": null,
       "padding": null,
       "right": null,
       "top": null,
       "visibility": null,
       "width": null
      }
     },
     "bcccf6a9fc344209b48d4efe8f55bead": {
      "model_module": "@jupyter-widgets/controls",
      "model_module_version": "1.5.0",
      "model_name": "DescriptionStyleModel",
      "state": {
       "_model_module": "@jupyter-widgets/controls",
       "_model_module_version": "1.5.0",
       "_model_name": "DescriptionStyleModel",
       "_view_count": null,
       "_view_module": "@jupyter-widgets/base",
       "_view_module_version": "1.2.0",
       "_view_name": "StyleView",
       "description_width": ""
      }
     },
     "be9028c74a5949609284533c610befc9": {
      "model_module": "@jupyter-widgets/controls",
      "model_module_version": "1.5.0",
      "model_name": "DescriptionStyleModel",
      "state": {
       "_model_module": "@jupyter-widgets/controls",
       "_model_module_version": "1.5.0",
       "_model_name": "DescriptionStyleModel",
       "_view_count": null,
       "_view_module": "@jupyter-widgets/base",
       "_view_module_version": "1.2.0",
       "_view_name": "StyleView",
       "description_width": ""
      }
     },
     "c1ec1b9c262f4b30b8be4e683fc64e5f": {
      "model_module": "@jupyter-widgets/base",
      "model_module_version": "1.2.0",
      "model_name": "LayoutModel",
      "state": {
       "_model_module": "@jupyter-widgets/base",
       "_model_module_version": "1.2.0",
       "_model_name": "LayoutModel",
       "_view_count": null,
       "_view_module": "@jupyter-widgets/base",
       "_view_module_version": "1.2.0",
       "_view_name": "LayoutView",
       "align_content": null,
       "align_items": null,
       "align_self": null,
       "border": null,
       "bottom": null,
       "display": null,
       "flex": null,
       "flex_flow": null,
       "grid_area": null,
       "grid_auto_columns": null,
       "grid_auto_flow": null,
       "grid_auto_rows": null,
       "grid_column": null,
       "grid_gap": null,
       "grid_row": null,
       "grid_template_areas": null,
       "grid_template_columns": null,
       "grid_template_rows": null,
       "height": null,
       "justify_content": null,
       "justify_items": null,
       "left": null,
       "margin": null,
       "max_height": null,
       "max_width": null,
       "min_height": null,
       "min_width": null,
       "object_fit": null,
       "object_position": null,
       "order": null,
       "overflow": null,
       "overflow_x": null,
       "overflow_y": null,
       "padding": null,
       "right": null,
       "top": null,
       "visibility": null,
       "width": null
      }
     },
     "c2f79c13514843b99805939c9b1f9aa1": {
      "model_module": "@jupyter-widgets/controls",
      "model_module_version": "1.5.0",
      "model_name": "HTMLModel",
      "state": {
       "_dom_classes": [],
       "_model_module": "@jupyter-widgets/controls",
       "_model_module_version": "1.5.0",
       "_model_name": "HTMLModel",
       "_view_count": null,
       "_view_module": "@jupyter-widgets/controls",
       "_view_module_version": "1.5.0",
       "_view_name": "HTMLView",
       "description": "",
       "description_tooltip": null,
       "layout": "IPY_MODEL_ca5cb129f8b642da8cabda9ef6144932",
       "placeholder": "​",
       "style": "IPY_MODEL_be9028c74a5949609284533c610befc9",
       "value": " 3007/3925 [00:00&lt;00:00, 30065.80 examples/s]"
      }
     },
     "c3f0f6fe6a254753af6cd27667f9c153": {
      "model_module": "@jupyter-widgets/controls",
      "model_module_version": "1.5.0",
      "model_name": "HTMLModel",
      "state": {
       "_dom_classes": [],
       "_model_module": "@jupyter-widgets/controls",
       "_model_module_version": "1.5.0",
       "_model_name": "HTMLModel",
       "_view_count": null,
       "_view_module": "@jupyter-widgets/controls",
       "_view_module_version": "1.5.0",
       "_view_name": "HTMLView",
       "description": "",
       "description_tooltip": null,
       "layout": "IPY_MODEL_a0c8d9ac4ac5449f97a795d09cb0afad",
       "placeholder": "​",
       "style": "IPY_MODEL_275498cd0e30467186325fb30b84eaa7",
       "value": "Generating splits...: 100%"
      }
     },
     "c401075cda674b8bbe9143428f6fc4e7": {
      "model_module": "@jupyter-widgets/controls",
      "model_module_version": "1.5.0",
      "model_name": "HTMLModel",
      "state": {
       "_dom_classes": [],
       "_model_module": "@jupyter-widgets/controls",
       "_model_module_version": "1.5.0",
       "_model_name": "HTMLModel",
       "_view_count": null,
       "_view_module": "@jupyter-widgets/controls",
       "_view_module_version": "1.5.0",
       "_view_name": "HTMLView",
       "description": "",
       "description_tooltip": null,
       "layout": "IPY_MODEL_6560898c5f844aaaa74e010e7a32dc38",
       "placeholder": "​",
       "style": "IPY_MODEL_f830445466154e66b1cb4afb6a20c0f8",
       "value": "Dl Completed...: 100%"
      }
     },
     "ca5cb129f8b642da8cabda9ef6144932": {
      "model_module": "@jupyter-widgets/base",
      "model_module_version": "1.2.0",
      "model_name": "LayoutModel",
      "state": {
       "_model_module": "@jupyter-widgets/base",
       "_model_module_version": "1.2.0",
       "_model_name": "LayoutModel",
       "_view_count": null,
       "_view_module": "@jupyter-widgets/base",
       "_view_module_version": "1.2.0",
       "_view_name": "LayoutView",
       "align_content": null,
       "align_items": null,
       "align_self": null,
       "border": null,
       "bottom": null,
       "display": null,
       "flex": null,
       "flex_flow": null,
       "grid_area": null,
       "grid_auto_columns": null,
       "grid_auto_flow": null,
       "grid_auto_rows": null,
       "grid_column": null,
       "grid_gap": null,
       "grid_row": null,
       "grid_template_areas": null,
       "grid_template_columns": null,
       "grid_template_rows": null,
       "height": null,
       "justify_content": null,
       "justify_items": null,
       "left": null,
       "margin": null,
       "max_height": null,
       "max_width": null,
       "min_height": null,
       "min_width": null,
       "object_fit": null,
       "object_position": null,
       "order": null,
       "overflow": null,
       "overflow_x": null,
       "overflow_y": null,
       "padding": null,
       "right": null,
       "top": null,
       "visibility": null,
       "width": null
      }
     },
     "ca68a25e9dcf46c8a0f16930af240a92": {
      "model_module": "@jupyter-widgets/controls",
      "model_module_version": "1.5.0",
      "model_name": "ProgressStyleModel",
      "state": {
       "_model_module": "@jupyter-widgets/controls",
       "_model_module_version": "1.5.0",
       "_model_name": "ProgressStyleModel",
       "_view_count": null,
       "_view_module": "@jupyter-widgets/base",
       "_view_module_version": "1.2.0",
       "_view_name": "StyleView",
       "bar_color": null,
       "description_width": ""
      }
     },
     "d3d933830e094513855970b3486b5038": {
      "model_module": "@jupyter-widgets/controls",
      "model_module_version": "1.5.0",
      "model_name": "ProgressStyleModel",
      "state": {
       "_model_module": "@jupyter-widgets/controls",
       "_model_module_version": "1.5.0",
       "_model_name": "ProgressStyleModel",
       "_view_count": null,
       "_view_module": "@jupyter-widgets/base",
       "_view_module_version": "1.2.0",
       "_view_name": "StyleView",
       "bar_color": null,
       "description_width": ""
      }
     },
     "d596a6021b9b4b688912ed3d67087efe": {
      "model_module": "@jupyter-widgets/controls",
      "model_module_version": "1.5.0",
      "model_name": "DescriptionStyleModel",
      "state": {
       "_model_module": "@jupyter-widgets/controls",
       "_model_module_version": "1.5.0",
       "_model_name": "DescriptionStyleModel",
       "_view_count": null,
       "_view_module": "@jupyter-widgets/base",
       "_view_module_version": "1.2.0",
       "_view_name": "StyleView",
       "description_width": ""
      }
     },
     "d6cac4f35cb24c2b99c7fbb090422c39": {
      "model_module": "@jupyter-widgets/base",
      "model_module_version": "1.2.0",
      "model_name": "LayoutModel",
      "state": {
       "_model_module": "@jupyter-widgets/base",
       "_model_module_version": "1.2.0",
       "_model_name": "LayoutModel",
       "_view_count": null,
       "_view_module": "@jupyter-widgets/base",
       "_view_module_version": "1.2.0",
       "_view_name": "LayoutView",
       "align_content": null,
       "align_items": null,
       "align_self": null,
       "border": null,
       "bottom": null,
       "display": null,
       "flex": null,
       "flex_flow": null,
       "grid_area": null,
       "grid_auto_columns": null,
       "grid_auto_flow": null,
       "grid_auto_rows": null,
       "grid_column": null,
       "grid_gap": null,
       "grid_row": null,
       "grid_template_areas": null,
       "grid_template_columns": null,
       "grid_template_rows": null,
       "height": null,
       "justify_content": null,
       "justify_items": null,
       "left": null,
       "margin": null,
       "max_height": null,
       "max_width": null,
       "min_height": null,
       "min_width": null,
       "object_fit": null,
       "object_position": null,
       "order": null,
       "overflow": null,
       "overflow_x": null,
       "overflow_y": null,
       "padding": null,
       "right": null,
       "top": null,
       "visibility": "hidden",
       "width": null
      }
     },
     "d7e949728a254c82986e41281c8a2a75": {
      "model_module": "@jupyter-widgets/controls",
      "model_module_version": "1.5.0",
      "model_name": "DescriptionStyleModel",
      "state": {
       "_model_module": "@jupyter-widgets/controls",
       "_model_module_version": "1.5.0",
       "_model_name": "DescriptionStyleModel",
       "_view_count": null,
       "_view_module": "@jupyter-widgets/base",
       "_view_module_version": "1.2.0",
       "_view_name": "StyleView",
       "description_width": ""
      }
     },
     "dd3379ca16ba4766a02ea1e5d884534e": {
      "model_module": "@jupyter-widgets/base",
      "model_module_version": "1.2.0",
      "model_name": "LayoutModel",
      "state": {
       "_model_module": "@jupyter-widgets/base",
       "_model_module_version": "1.2.0",
       "_model_name": "LayoutModel",
       "_view_count": null,
       "_view_module": "@jupyter-widgets/base",
       "_view_module_version": "1.2.0",
       "_view_name": "LayoutView",
       "align_content": null,
       "align_items": null,
       "align_self": null,
       "border": null,
       "bottom": null,
       "display": null,
       "flex": null,
       "flex_flow": null,
       "grid_area": null,
       "grid_auto_columns": null,
       "grid_auto_flow": null,
       "grid_auto_rows": null,
       "grid_column": null,
       "grid_gap": null,
       "grid_row": null,
       "grid_template_areas": null,
       "grid_template_columns": null,
       "grid_template_rows": null,
       "height": null,
       "justify_content": null,
       "justify_items": null,
       "left": null,
       "margin": null,
       "max_height": null,
       "max_width": null,
       "min_height": null,
       "min_width": null,
       "object_fit": null,
       "object_position": null,
       "order": null,
       "overflow": null,
       "overflow_x": null,
       "overflow_y": null,
       "padding": null,
       "right": null,
       "top": null,
       "visibility": null,
       "width": null
      }
     },
     "de74a504571b4725b9c9c5b31481012e": {
      "model_module": "@jupyter-widgets/base",
      "model_module_version": "1.2.0",
      "model_name": "LayoutModel",
      "state": {
       "_model_module": "@jupyter-widgets/base",
       "_model_module_version": "1.2.0",
       "_model_name": "LayoutModel",
       "_view_count": null,
       "_view_module": "@jupyter-widgets/base",
       "_view_module_version": "1.2.0",
       "_view_name": "LayoutView",
       "align_content": null,
       "align_items": null,
       "align_self": null,
       "border": null,
       "bottom": null,
       "display": null,
       "flex": null,
       "flex_flow": null,
       "grid_area": null,
       "grid_auto_columns": null,
       "grid_auto_flow": null,
       "grid_auto_rows": null,
       "grid_column": null,
       "grid_gap": null,
       "grid_row": null,
       "grid_template_areas": null,
       "grid_template_columns": null,
       "grid_template_rows": null,
       "height": null,
       "justify_content": null,
       "justify_items": null,
       "left": null,
       "margin": null,
       "max_height": null,
       "max_width": null,
       "min_height": null,
       "min_width": null,
       "object_fit": null,
       "object_position": null,
       "order": null,
       "overflow": null,
       "overflow_x": null,
       "overflow_y": null,
       "padding": null,
       "right": null,
       "top": null,
       "visibility": null,
       "width": "20px"
      }
     },
     "df9da7b29b31476da49da12b7a17c2af": {
      "model_module": "@jupyter-widgets/base",
      "model_module_version": "1.2.0",
      "model_name": "LayoutModel",
      "state": {
       "_model_module": "@jupyter-widgets/base",
       "_model_module_version": "1.2.0",
       "_model_name": "LayoutModel",
       "_view_count": null,
       "_view_module": "@jupyter-widgets/base",
       "_view_module_version": "1.2.0",
       "_view_name": "LayoutView",
       "align_content": null,
       "align_items": null,
       "align_self": null,
       "border": null,
       "bottom": null,
       "display": null,
       "flex": null,
       "flex_flow": null,
       "grid_area": null,
       "grid_auto_columns": null,
       "grid_auto_flow": null,
       "grid_auto_rows": null,
       "grid_column": null,
       "grid_gap": null,
       "grid_row": null,
       "grid_template_areas": null,
       "grid_template_columns": null,
       "grid_template_rows": null,
       "height": null,
       "justify_content": null,
       "justify_items": null,
       "left": null,
       "margin": null,
       "max_height": null,
       "max_width": null,
       "min_height": null,
       "min_width": null,
       "object_fit": null,
       "object_position": null,
       "order": null,
       "overflow": null,
       "overflow_x": null,
       "overflow_y": null,
       "padding": null,
       "right": null,
       "top": null,
       "visibility": null,
       "width": null
      }
     },
     "e065d1dfedf140f1b530841fff2a6edb": {
      "model_module": "@jupyter-widgets/controls",
      "model_module_version": "1.5.0",
      "model_name": "DescriptionStyleModel",
      "state": {
       "_model_module": "@jupyter-widgets/controls",
       "_model_module_version": "1.5.0",
       "_model_name": "DescriptionStyleModel",
       "_view_count": null,
       "_view_module": "@jupyter-widgets/base",
       "_view_module_version": "1.2.0",
       "_view_name": "StyleView",
       "description_width": ""
      }
     },
     "e0a414f8f740400a991691fdf131e9f4": {
      "model_module": "@jupyter-widgets/controls",
      "model_module_version": "1.5.0",
      "model_name": "HTMLModel",
      "state": {
       "_dom_classes": [],
       "_model_module": "@jupyter-widgets/controls",
       "_model_module_version": "1.5.0",
       "_model_name": "HTMLModel",
       "_view_count": null,
       "_view_module": "@jupyter-widgets/controls",
       "_view_module_version": "1.5.0",
       "_view_name": "HTMLView",
       "description": "",
       "description_tooltip": null,
       "layout": "IPY_MODEL_fbbde7515eb34e688f3e6009f6515d45",
       "placeholder": "​",
       "style": "IPY_MODEL_979cd8c273c94352bf177617d5c41826",
       "value": " 2/2 [00:03&lt;00:00,  1.40s/ splits]"
      }
     },
     "e467452de3204607ae677efdfcfa497c": {
      "model_module": "@jupyter-widgets/controls",
      "model_module_version": "1.5.0",
      "model_name": "DescriptionStyleModel",
      "state": {
       "_model_module": "@jupyter-widgets/controls",
       "_model_module_version": "1.5.0",
       "_model_name": "DescriptionStyleModel",
       "_view_count": null,
       "_view_module": "@jupyter-widgets/base",
       "_view_module_version": "1.2.0",
       "_view_name": "StyleView",
       "description_width": ""
      }
     },
     "e837aad5a5df4e8cb124edd023753694": {
      "model_module": "@jupyter-widgets/controls",
      "model_module_version": "1.5.0",
      "model_name": "HBoxModel",
      "state": {
       "_dom_classes": [],
       "_model_module": "@jupyter-widgets/controls",
       "_model_module_version": "1.5.0",
       "_model_name": "HBoxModel",
       "_view_count": null,
       "_view_module": "@jupyter-widgets/controls",
       "_view_module_version": "1.5.0",
       "_view_name": "HBoxView",
       "box_style": "",
       "children": [
        "IPY_MODEL_fb39afb5a3f64d53b1d848b5de1b162a",
        "IPY_MODEL_354bda0764ff49eb90b2d466bce8c8bc",
        "IPY_MODEL_ab0a07b6f5ed42da93292e2bcda028a2"
       ],
       "layout": "IPY_MODEL_584fb733c38b48718a1537e4cf679954"
      }
     },
     "e9a072ddf0c44dde9ae906c9019df295": {
      "model_module": "@jupyter-widgets/controls",
      "model_module_version": "1.5.0",
      "model_name": "HBoxModel",
      "state": {
       "_dom_classes": [],
       "_model_module": "@jupyter-widgets/controls",
       "_model_module_version": "1.5.0",
       "_model_name": "HBoxModel",
       "_view_count": null,
       "_view_module": "@jupyter-widgets/controls",
       "_view_module_version": "1.5.0",
       "_view_name": "HBoxView",
       "box_style": "",
       "children": [
        "IPY_MODEL_5a0ea7d3683f4674ac94cbd0dc5b105a",
        "IPY_MODEL_1e61013cb79e40b3a3db54a7fb934da2",
        "IPY_MODEL_c2f79c13514843b99805939c9b1f9aa1"
       ],
       "layout": "IPY_MODEL_7e04591348474fedbbd0aa00c4970571"
      }
     },
     "ea4bd2e3dba64b11b9db8b05ce362403": {
      "model_module": "@jupyter-widgets/controls",
      "model_module_version": "1.5.0",
      "model_name": "HTMLModel",
      "state": {
       "_dom_classes": [],
       "_model_module": "@jupyter-widgets/controls",
       "_model_module_version": "1.5.0",
       "_model_name": "HTMLModel",
       "_view_count": null,
       "_view_module": "@jupyter-widgets/controls",
       "_view_module_version": "1.5.0",
       "_view_name": "HTMLView",
       "description": "",
       "description_tooltip": null,
       "layout": "IPY_MODEL_fae4f58acc30487a847dad0ff6f3425d",
       "placeholder": "​",
       "style": "IPY_MODEL_0b157b5087a946e5b09db5ed05d2b76f",
       "value": "Generating train examples...:  50%"
      }
     },
     "ed2d2842893643debead19b9ee6b5356": {
      "model_module": "@jupyter-widgets/controls",
      "model_module_version": "1.5.0",
      "model_name": "HTMLModel",
      "state": {
       "_dom_classes": [],
       "_model_module": "@jupyter-widgets/controls",
       "_model_module_version": "1.5.0",
       "_model_name": "HTMLModel",
       "_view_count": null,
       "_view_module": "@jupyter-widgets/controls",
       "_view_module_version": "1.5.0",
       "_view_name": "HTMLView",
       "description": "",
       "description_tooltip": null,
       "layout": "IPY_MODEL_1eb1d39a8a14463b8b1c6aef97d7955d",
       "placeholder": "​",
       "style": "IPY_MODEL_e467452de3204607ae677efdfcfa497c",
       "value": " 4744/9469 [00:01&lt;00:01, 4724.50 examples/s]"
      }
     },
     "efdeb591dc4441f09faf3084d1f3afe8": {
      "model_module": "@jupyter-widgets/controls",
      "model_module_version": "1.5.0",
      "model_name": "HTMLModel",
      "state": {
       "_dom_classes": [],
       "_model_module": "@jupyter-widgets/controls",
       "_model_module_version": "1.5.0",
       "_model_name": "HTMLModel",
       "_view_count": null,
       "_view_module": "@jupyter-widgets/controls",
       "_view_module_version": "1.5.0",
       "_view_name": "HTMLView",
       "description": "",
       "description_tooltip": null,
       "layout": "IPY_MODEL_937f56f7435e4953bcc13578ee5b91fa",
       "placeholder": "​",
       "style": "IPY_MODEL_a8b595b9f524493883223ca13536e820",
       "value": "Shuffling data/imagenette/320px-v2/1.0.0.incompleteNCUMVV/imagenette-train.tfrecord*...:  67%"
      }
     },
     "f0c5eaca3bfd404c905603ccf6d34209": {
      "model_module": "@jupyter-widgets/base",
      "model_module_version": "1.2.0",
      "model_name": "LayoutModel",
      "state": {
       "_model_module": "@jupyter-widgets/base",
       "_model_module_version": "1.2.0",
       "_model_name": "LayoutModel",
       "_view_count": null,
       "_view_module": "@jupyter-widgets/base",
       "_view_module_version": "1.2.0",
       "_view_name": "LayoutView",
       "align_content": null,
       "align_items": null,
       "align_self": null,
       "border": null,
       "bottom": null,
       "display": null,
       "flex": null,
       "flex_flow": null,
       "grid_area": null,
       "grid_auto_columns": null,
       "grid_auto_flow": null,
       "grid_auto_rows": null,
       "grid_column": null,
       "grid_gap": null,
       "grid_row": null,
       "grid_template_areas": null,
       "grid_template_columns": null,
       "grid_template_rows": null,
       "height": null,
       "justify_content": null,
       "justify_items": null,
       "left": null,
       "margin": null,
       "max_height": null,
       "max_width": null,
       "min_height": null,
       "min_width": null,
       "object_fit": null,
       "object_position": null,
       "order": null,
       "overflow": null,
       "overflow_x": null,
       "overflow_y": null,
       "padding": null,
       "right": null,
       "top": null,
       "visibility": null,
       "width": null
      }
     },
     "f830445466154e66b1cb4afb6a20c0f8": {
      "model_module": "@jupyter-widgets/controls",
      "model_module_version": "1.5.0",
      "model_name": "DescriptionStyleModel",
      "state": {
       "_model_module": "@jupyter-widgets/controls",
       "_model_module_version": "1.5.0",
       "_model_name": "DescriptionStyleModel",
       "_view_count": null,
       "_view_module": "@jupyter-widgets/base",
       "_view_module_version": "1.2.0",
       "_view_name": "StyleView",
       "description_width": ""
      }
     },
     "f97c0b4776b0402d958125f65324a602": {
      "model_module": "@jupyter-widgets/controls",
      "model_module_version": "1.5.0",
      "model_name": "DescriptionStyleModel",
      "state": {
       "_model_module": "@jupyter-widgets/controls",
       "_model_module_version": "1.5.0",
       "_model_name": "DescriptionStyleModel",
       "_view_count": null,
       "_view_module": "@jupyter-widgets/base",
       "_view_module_version": "1.2.0",
       "_view_name": "StyleView",
       "description_width": ""
      }
     },
     "f98d748eec1e4486a8afe07a59a5a7cf": {
      "model_module": "@jupyter-widgets/controls",
      "model_module_version": "1.5.0",
      "model_name": "HBoxModel",
      "state": {
       "_dom_classes": [],
       "_model_module": "@jupyter-widgets/controls",
       "_model_module_version": "1.5.0",
       "_model_name": "HBoxModel",
       "_view_count": null,
       "_view_module": "@jupyter-widgets/controls",
       "_view_module_version": "1.5.0",
       "_view_name": "HBoxView",
       "box_style": "",
       "children": [
        "IPY_MODEL_056de26c560c4b2dac2dc4c92d0448e9",
        "IPY_MODEL_968be1e8a0634fa9827de655f69b06a0",
        "IPY_MODEL_4457ab9c8bd04907808278ea56aef7b5"
       ],
       "layout": "IPY_MODEL_f0c5eaca3bfd404c905603ccf6d34209"
      }
     },
     "fae4f58acc30487a847dad0ff6f3425d": {
      "model_module": "@jupyter-widgets/base",
      "model_module_version": "1.2.0",
      "model_name": "LayoutModel",
      "state": {
       "_model_module": "@jupyter-widgets/base",
       "_model_module_version": "1.2.0",
       "_model_name": "LayoutModel",
       "_view_count": null,
       "_view_module": "@jupyter-widgets/base",
       "_view_module_version": "1.2.0",
       "_view_name": "LayoutView",
       "align_content": null,
       "align_items": null,
       "align_self": null,
       "border": null,
       "bottom": null,
       "display": null,
       "flex": null,
       "flex_flow": null,
       "grid_area": null,
       "grid_auto_columns": null,
       "grid_auto_flow": null,
       "grid_auto_rows": null,
       "grid_column": null,
       "grid_gap": null,
       "grid_row": null,
       "grid_template_areas": null,
       "grid_template_columns": null,
       "grid_template_rows": null,
       "height": null,
       "justify_content": null,
       "justify_items": null,
       "left": null,
       "margin": null,
       "max_height": null,
       "max_width": null,
       "min_height": null,
       "min_width": null,
       "object_fit": null,
       "object_position": null,
       "order": null,
       "overflow": null,
       "overflow_x": null,
       "overflow_y": null,
       "padding": null,
       "right": null,
       "top": null,
       "visibility": null,
       "width": null
      }
     },
     "fb2cfe3099024aacaf775531dfa9761e": {
      "model_module": "@jupyter-widgets/base",
      "model_module_version": "1.2.0",
      "model_name": "LayoutModel",
      "state": {
       "_model_module": "@jupyter-widgets/base",
       "_model_module_version": "1.2.0",
       "_model_name": "LayoutModel",
       "_view_count": null,
       "_view_module": "@jupyter-widgets/base",
       "_view_module_version": "1.2.0",
       "_view_name": "LayoutView",
       "align_content": null,
       "align_items": null,
       "align_self": null,
       "border": null,
       "bottom": null,
       "display": null,
       "flex": null,
       "flex_flow": null,
       "grid_area": null,
       "grid_auto_columns": null,
       "grid_auto_flow": null,
       "grid_auto_rows": null,
       "grid_column": null,
       "grid_gap": null,
       "grid_row": null,
       "grid_template_areas": null,
       "grid_template_columns": null,
       "grid_template_rows": null,
       "height": null,
       "justify_content": null,
       "justify_items": null,
       "left": null,
       "margin": null,
       "max_height": null,
       "max_width": null,
       "min_height": null,
       "min_width": null,
       "object_fit": null,
       "object_position": null,
       "order": null,
       "overflow": null,
       "overflow_x": null,
       "overflow_y": null,
       "padding": null,
       "right": null,
       "top": null,
       "visibility": "hidden",
       "width": null
      }
     },
     "fb39afb5a3f64d53b1d848b5de1b162a": {
      "model_module": "@jupyter-widgets/controls",
      "model_module_version": "1.5.0",
      "model_name": "HTMLModel",
      "state": {
       "_dom_classes": [],
       "_model_module": "@jupyter-widgets/controls",
       "_model_module_version": "1.5.0",
       "_model_name": "HTMLModel",
       "_view_count": null,
       "_view_module": "@jupyter-widgets/controls",
       "_view_module_version": "1.5.0",
       "_view_name": "HTMLView",
       "description": "",
       "description_tooltip": null,
       "layout": "IPY_MODEL_83551e5e08904e968f0f2a49cc0deb45",
       "placeholder": "​",
       "style": "IPY_MODEL_e065d1dfedf140f1b530841fff2a6edb",
       "value": "Dl Size...: 100%"
      }
     },
     "fbbde7515eb34e688f3e6009f6515d45": {
      "model_module": "@jupyter-widgets/base",
      "model_module_version": "1.2.0",
      "model_name": "LayoutModel",
      "state": {
       "_model_module": "@jupyter-widgets/base",
       "_model_module_version": "1.2.0",
       "_model_name": "LayoutModel",
       "_view_count": null,
       "_view_module": "@jupyter-widgets/base",
       "_view_module_version": "1.2.0",
       "_view_name": "LayoutView",
       "align_content": null,
       "align_items": null,
       "align_self": null,
       "border": null,
       "bottom": null,
       "display": null,
       "flex": null,
       "flex_flow": null,
       "grid_area": null,
       "grid_auto_columns": null,
       "grid_auto_flow": null,
       "grid_auto_rows": null,
       "grid_column": null,
       "grid_gap": null,
       "grid_row": null,
       "grid_template_areas": null,
       "grid_template_columns": null,
       "grid_template_rows": null,
       "height": null,
       "justify_content": null,
       "justify_items": null,
       "left": null,
       "margin": null,
       "max_height": null,
       "max_width": null,
       "min_height": null,
       "min_width": null,
       "object_fit": null,
       "object_position": null,
       "order": null,
       "overflow": null,
       "overflow_x": null,
       "overflow_y": null,
       "padding": null,
       "right": null,
       "top": null,
       "visibility": null,
       "width": null
      }
     },
     "fcba344854874079983295a17c063e16": {
      "model_module": "@jupyter-widgets/base",
      "model_module_version": "1.2.0",
      "model_name": "LayoutModel",
      "state": {
       "_model_module": "@jupyter-widgets/base",
       "_model_module_version": "1.2.0",
       "_model_name": "LayoutModel",
       "_view_count": null,
       "_view_module": "@jupyter-widgets/base",
       "_view_module_version": "1.2.0",
       "_view_name": "LayoutView",
       "align_content": null,
       "align_items": null,
       "align_self": null,
       "border": null,
       "bottom": null,
       "display": null,
       "flex": null,
       "flex_flow": null,
       "grid_area": null,
       "grid_auto_columns": null,
       "grid_auto_flow": null,
       "grid_auto_rows": null,
       "grid_column": null,
       "grid_gap": null,
       "grid_row": null,
       "grid_template_areas": null,
       "grid_template_columns": null,
       "grid_template_rows": null,
       "height": null,
       "justify_content": null,
       "justify_items": null,
       "left": null,
       "margin": null,
       "max_height": null,
       "max_width": null,
       "min_height": null,
       "min_width": null,
       "object_fit": null,
       "object_position": null,
       "order": null,
       "overflow": null,
       "overflow_x": null,
       "overflow_y": null,
       "padding": null,
       "right": null,
       "top": null,
       "visibility": "hidden",
       "width": null
      }
     },
     "ffec32dc1ae545cba50d5ded7a83ddb7": {
      "model_module": "@jupyter-widgets/controls",
      "model_module_version": "1.5.0",
      "model_name": "ProgressStyleModel",
      "state": {
       "_model_module": "@jupyter-widgets/controls",
       "_model_module_version": "1.5.0",
       "_model_name": "ProgressStyleModel",
       "_view_count": null,
       "_view_module": "@jupyter-widgets/base",
       "_view_module_version": "1.2.0",
       "_view_name": "StyleView",
       "bar_color": null,
       "description_width": ""
      }
     }
    },
    "version_major": 2,
    "version_minor": 0
   }
  }
 },
 "nbformat": 4,
 "nbformat_minor": 5
}
